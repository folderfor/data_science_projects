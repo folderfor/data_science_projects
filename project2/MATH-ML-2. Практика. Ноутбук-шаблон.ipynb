{
 "cells": [
  {
   "cell_type": "markdown",
   "id": "b054bd88",
   "metadata": {
    "id": "b054bd88"
   },
   "source": [
    "# <center> Линейная алгебра в контексте линейных методов. Практика.\n",
    "\n",
    "## <center> Прогнозирование выработки газа на скважинах."
   ]
  },
  {
   "cell_type": "markdown",
   "id": "325bc80b",
   "metadata": {
    "id": "325bc80b"
   },
   "source": [
    "## Постановка задачи"
   ]
  },
  {
   "cell_type": "markdown",
   "id": "8247bd54",
   "metadata": {
    "id": "8247bd54"
   },
   "source": [
    "У Василия, основателя компании «Газ-Таз-Ваз-Нефть», дела идут в гору: у него уже функционирует 200 скважин для добычи газа. В этом году он открывает 30 новых скважин. Однако в целях оптимизации расходов и повышения дохода Василию необходимо оценить, сколько денег будет приносить ему каждая из скважин, а также понять, какие факторы (параметры скважин) потенциально сильнее всего повлияют на объём добычи газа. Для этого Василий решил нанять вас как специалиста в области Data Science.\n",
    "\n",
    "Василий представляет вам набор данных о добыче газа на своих скважинах. Файл с данными вы можете скачать на платформе.\n",
    "\n",
    "**Признаки в данных:**\n",
    "\n",
    "* Well — идентификатор скважины;\n",
    "* Por — пористость скважины (%);\n",
    "* Perm — проницаемость скважины (мД);\n",
    "* AI — акустический импеданс ($кг/м^2 * 10^6$);\n",
    "* Brittle — коэффициент хрупкости скважины (%);\n",
    "* TOC — общий органический углерод (%);\n",
    "* VR — коэффициент отражения витринита (%);\n",
    "* Prod — добыча газа в сутки (млн. кубических футов).\n",
    "\n",
    "**Ваша задача** — построить регрессионную модель, которая прогнозирует выработку газа на скважине (целевой признак — Prod) на основе остальных характеристик скважины, и проинтерпретировать результаты вашей модели.\n",
    "\n",
    "Разделим задачу на две части:\n",
    "* В первой мы построим простейшую модель линейной регрессии, проанализируем результаты её работы и выберем наиболее значимые факторы для прогнозирования.\n",
    "* Во второй мы займёмся построением модели полиномиальной регрессии с регуляризацией и посмотрим на итоговые результаты моделирования.\n"
   ]
  },
  {
   "cell_type": "markdown",
   "id": "d67d069e",
   "metadata": {
    "id": "d67d069e"
   },
   "source": [
    "Импортируем необходимые библиотеки:"
   ]
  },
  {
   "cell_type": "code",
   "execution_count": 39,
   "id": "83a555bc-8dff-4b7e-bba1-cd4f4a9e69b2",
   "metadata": {
    "id": "83a555bc-8dff-4b7e-bba1-cd4f4a9e69b2"
   },
   "outputs": [],
   "source": [
    "# Импорт библиотек\n",
    "import numpy as np # для работы с массивами\n",
    "import pandas as pd # для работы с DataFrame \n",
    "\n",
    "import plotly.express as px # для построения графиков\n",
    "import plotly.graph_objects as go\n",
    "from plotly.subplots import make_subplots\n",
    "\n",
    "# модули машинного обучения\n",
    "from sklearn.svm import OneClassSVM # Обнаружение аномалий\n",
    "from sklearn.preprocessing import StandardScaler, RobustScaler\n",
    "from sklearn.ensemble import IsolationForest\n",
    "from sklearn.base import BaseEstimator, TransformerMixin\n",
    "from sklearn.linear_model import LinearRegression\n",
    "from sklearn import metrics\n",
    "from sklearn.model_selection import train_test_split, cross_val_score, cross_val_predict\n",
    "\n",
    "\n",
    "from scipy.stats import shapiro # тест Шапиро-Уилка на нормальное распределение\n",
    "from sklearn.pipeline import Pipeline\n",
    "\n",
    "# В случае, если notebook не отображает графики plotly\n",
    "# import plotly.io as pio\n",
    "# pio.renderers.default = 'notebook'"
   ]
  },
  {
   "cell_type": "markdown",
   "id": "e689ddaf",
   "metadata": {
    "id": "e689ddaf"
   },
   "source": [
    "Прочитаем исходные данные:"
   ]
  },
  {
   "cell_type": "code",
   "execution_count": 2,
   "id": "b7b5cd9b-703f-4dbc-a6e3-61d583eafcac",
   "metadata": {
    "colab": {
     "base_uri": "https://localhost:8080/",
     "height": 206
    },
    "id": "b7b5cd9b-703f-4dbc-a6e3-61d583eafcac",
    "outputId": "d4e99a48-2a0d-4edd-f86c-617c44bf36d2"
   },
   "outputs": [
    {
     "data": {
      "text/html": [
       "<div>\n",
       "<style scoped>\n",
       "    .dataframe tbody tr th:only-of-type {\n",
       "        vertical-align: middle;\n",
       "    }\n",
       "\n",
       "    .dataframe tbody tr th {\n",
       "        vertical-align: top;\n",
       "    }\n",
       "\n",
       "    .dataframe thead th {\n",
       "        text-align: right;\n",
       "    }\n",
       "</style>\n",
       "<table border=\"1\" class=\"dataframe\">\n",
       "  <thead>\n",
       "    <tr style=\"text-align: right;\">\n",
       "      <th></th>\n",
       "      <th>Well</th>\n",
       "      <th>Por</th>\n",
       "      <th>Perm</th>\n",
       "      <th>AI</th>\n",
       "      <th>Brittle</th>\n",
       "      <th>TOC</th>\n",
       "      <th>VR</th>\n",
       "      <th>Prod</th>\n",
       "    </tr>\n",
       "  </thead>\n",
       "  <tbody>\n",
       "    <tr>\n",
       "      <th>0</th>\n",
       "      <td>1</td>\n",
       "      <td>12.08</td>\n",
       "      <td>2.92</td>\n",
       "      <td>2.80</td>\n",
       "      <td>81.40</td>\n",
       "      <td>1.16</td>\n",
       "      <td>2.31</td>\n",
       "      <td>4165.196191</td>\n",
       "    </tr>\n",
       "    <tr>\n",
       "      <th>1</th>\n",
       "      <td>2</td>\n",
       "      <td>12.38</td>\n",
       "      <td>3.53</td>\n",
       "      <td>3.22</td>\n",
       "      <td>46.17</td>\n",
       "      <td>0.89</td>\n",
       "      <td>1.88</td>\n",
       "      <td>3561.146205</td>\n",
       "    </tr>\n",
       "    <tr>\n",
       "      <th>2</th>\n",
       "      <td>3</td>\n",
       "      <td>14.02</td>\n",
       "      <td>2.59</td>\n",
       "      <td>4.01</td>\n",
       "      <td>72.80</td>\n",
       "      <td>0.89</td>\n",
       "      <td>2.72</td>\n",
       "      <td>4284.348574</td>\n",
       "    </tr>\n",
       "    <tr>\n",
       "      <th>3</th>\n",
       "      <td>4</td>\n",
       "      <td>17.67</td>\n",
       "      <td>6.75</td>\n",
       "      <td>2.63</td>\n",
       "      <td>39.81</td>\n",
       "      <td>1.08</td>\n",
       "      <td>1.88</td>\n",
       "      <td>5098.680869</td>\n",
       "    </tr>\n",
       "    <tr>\n",
       "      <th>4</th>\n",
       "      <td>5</td>\n",
       "      <td>17.52</td>\n",
       "      <td>4.57</td>\n",
       "      <td>3.18</td>\n",
       "      <td>10.94</td>\n",
       "      <td>1.51</td>\n",
       "      <td>1.90</td>\n",
       "      <td>3406.132832</td>\n",
       "    </tr>\n",
       "  </tbody>\n",
       "</table>\n",
       "</div>"
      ],
      "text/plain": [
       "   Well    Por  Perm    AI  Brittle   TOC    VR         Prod\n",
       "0     1  12.08  2.92  2.80    81.40  1.16  2.31  4165.196191\n",
       "1     2  12.38  3.53  3.22    46.17  0.89  1.88  3561.146205\n",
       "2     3  14.02  2.59  4.01    72.80  0.89  2.72  4284.348574\n",
       "3     4  17.67  6.75  2.63    39.81  1.08  1.88  5098.680869\n",
       "4     5  17.52  4.57  3.18    10.94  1.51  1.90  3406.132832"
      ]
     },
     "execution_count": 2,
     "metadata": {},
     "output_type": "execute_result"
    }
   ],
   "source": [
    "data = pd.read_csv(r'unconv.csv')\n",
    "data.head()\n"
   ]
  },
  {
   "cell_type": "code",
   "execution_count": 3,
   "id": "d9135197-4aa2-4050-8613-10b881b9e574",
   "metadata": {},
   "outputs": [
    {
     "data": {
      "text/plain": [
       "(200, 8)"
      ]
     },
     "execution_count": 3,
     "metadata": {},
     "output_type": "execute_result"
    }
   ],
   "source": [
    "data.shape"
   ]
  },
  {
   "cell_type": "markdown",
   "id": "58639b40",
   "metadata": {
    "id": "58639b40"
   },
   "source": [
    "## Практика: линейная регрессия по методу наименьших квадратов"
   ]
  },
  {
   "cell_type": "markdown",
   "id": "a90535b8",
   "metadata": {
    "id": "a90535b8"
   },
   "source": [
    "Для начала построим простейшую модель линейной регрессии, проанализируем результаты её работы и выберем наиболее значимые факторы для прогнозирования.\n",
    "\n",
    "В первой части вам предстоит выполнить задания 5.0–5.6. Максимальное количество баллов, которое можно получить, — 9."
   ]
  },
  {
   "cell_type": "markdown",
   "id": "4061b706",
   "metadata": {
    "id": "4061b706"
   },
   "source": [
    "### Задание 5.0. (не оценивается)\n",
    "\n",
    "Проведите небольшой разведывательный анализ, чтобы поближе познакомиться с исходными данными. Постройте несколько визуализаций, которые помогут вам понять, как устроены исходные признаки, а также смогут продемонстрировать взаимосвязь факторов. \n",
    "\n",
    "Сделайте промежуточные выводы из проведённого разведывательного анализа."
   ]
  },
  {
   "cell_type": "code",
   "execution_count": 4,
   "id": "daf1ccc7",
   "metadata": {
    "id": "daf1ccc7",
    "scrolled": true
   },
   "outputs": [
    {
     "name": "stdout",
     "output_type": "stream",
     "text": [
      "\n",
      "Количество пропусков: 0\n",
      "Количество дубликатов: 0\n"
     ]
    },
    {
     "data": {
      "application/vnd.plotly.v1+json": {
       "config": {
        "plotlyServerURL": "https://plot.ly"
       },
       "data": [
        {
         "marker": {
          "color": "#4c72b0"
         },
         "name": "Por",
         "showlegend": false,
         "type": "histogram",
         "x": {
          "bdata": "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",
          "dtype": "f8"
         },
         "xaxis": "x2",
         "yaxis": "y2"
        },
        {
         "boxmean": true,
         "marker": {
          "color": "#4c72b0"
         },
         "name": "Por",
         "type": "box",
         "x": {
          "bdata": "KVyPwvUoKEDD9Shcj8IoQArXo3A9CixA7FG4HoWrMUCF61G4HoUxQI/C9ShcDy1AexSuR+H6KkApXI/C9SgnQArXo3A9CilAAAAAAACAKkAUrkfhehQuQHE9CtejMDBAUrgehevRMECkcD0K12MxQClcj8L1qCtArkfhehSuJkDNzMzMzIwzQClcj8L1KC9A9ihcj8J1LUBxPQrXo/AoQBSuR+F6FDJAUrgehetRMEA9CtejcD0pQI/C9ShcDyRAKVyPwvWoMkAUrkfhehQdQI/C9Shcjy9A9ihcj8J1L0DD9Shcj8IoQEjhehSuxylAexSuR+F6MkB7FK5H4XotQJqZmZmZGSlAKVyPwvUoK0CF61G4HoUnQPYoXI/C9SdAH4XrUbgeK0DNzMzMzIwwQHE9CtejcC5AFK5H4XoULUA9CtejcL0sQM3MzMzMzC5ASOF6FK5HJECuR+F6FC4mQB+F61G4XjJA7FG4HoVrLUAUrkfhepQiQDMzMzMzsydA16NwPQqXMkCuR+F6FC4yQLgehetRuDJA9ihcj8L1NEAfhetRuJ4uQPYoXI/C9SdAKVyPwvUoMkC4HoXrUTgrQNejcD0KVytA7FG4HoVrLkCamZmZmRkwQAAAAAAAACpAUrgehetRMkDsUbgehestQPYoXI/CNTJApHA9CtcjLkAAAAAAAMAxQArXo3A9ii9A4XoUrkdhLECamZmZmZkrQK5H4XoUri1AFK5H4XoUKUDD9Shcj0IkQNejcD0KVyxAMzMzMzOzLUAfhetRuJ4wQJqZmZmZ2TFAexSuR+G6MkAzMzMzMzMxQHsUrkfh+iRAj8L1KFwPK0AK16NwPQoyQHE9Ctej8C1ArkfhehQuMECkcD0K1yMuQOF6FK5HYStAzczMzMxMJEBmZmZmZuYqQOF6FK5H4S9Aw/UoXI/CLUA9CtejcD0mQAAAAAAAACtAcT0K16NwK0CF61G4HoUdQPYoXI/CNTRA4XoUrkdhJUAAAAAAAIAvQPYoXI/C9TFAMzMzMzPzMEB7FK5H4bozQFK4HoXr0SdAj8L1KFwPL0DhehSuR+EsQD0K16NwvSpAAAAAAAAAJUBmZmZmZuYyQKRwPQrX4zFApHA9CtejLkD2KFyPwvUqQOxRuB6FKzFAXI/C9SjcNEDhehSuR2EuQGZmZmZm5i1AMzMzMzMzKEA9CtejcD0yQFyPwvUo3DNACtejcD2KM0AfhetRuF4yQEjhehSuxylAZmZmZmZmLkD2KFyPwnUoQOF6FK5H4TFAFK5H4XqUL0DD9Shcj8IoQHsUrkfh+jJAhetRuB6FK0DNzMzMzIw3QLgehetRuC1ArkfhehRuMEC4HoXrUbgvQPYoXI/C9SlA9ihcj8I1MUCuR+F6FK4uQFK4HoXrkTFAexSuR+F6JUAK16NwPcoyQClcj8L1qClAMzMzMzOzLkDD9Shcj8ItQOF6FK5HYS1AFK5H4XoUH0A9CtejcL0vQAAAAAAAwDJAw/UoXI9CL0CPwvUoXA8yQJqZmZmZGShA4XoUrkfhLEBxPQrXo7AwQJqZmZmZmS9A16NwPQrXMEDsUbgehesqQMP1KFyPQi1AZmZmZmZmKEAAAAAAAAAlQK5H4XoUrjJA4XoUrkfhMEDXo3A9CtcuQIXrUbgeBSpA7FG4HoXrMUBxPQrXo/AvQKRwPQrXoypAmpmZmZkZMkD2KFyPwjUwQAAAAAAAADJAXI/C9SjcMUAzMzMzMzMnQHsUrkfh+jFAXI/C9SicMECPwvUoXA8zQClcj8L1qClA9ihcj8L1MkDsUbgehWsnQFK4HoXr0SdAcT0K16NwMUBmZmZmZuYlQOF6FK5H4SlAcT0K16NwL0AK16NwPQosQHsUrkfh+ixAmpmZmZmZJ0AK16NwPUozQOF6FK5H4RxAZmZmZmZmL0D2KFyPwvUsQMP1KFyPwiNAzczMzMzMMkBSuB6F6xEyQFyPwvUoXC9Aj8L1KFyPLkDD9Shcj8IlQKRwPQrXIzBAH4XrUbgeMEAK16NwPQorQDMzMzMzMxpAH4XrUbheNEDXo3A9CtcpQOF6FK5HITFAZmZmZmbmJ0A9CtejcP0xQD0K16NwPShAmpmZmZkZL0CkcD0K1+M0QA==",
          "dtype": "f8"
         },
         "xaxis": "x",
         "yaxis": "y"
        },
        {
         "marker": {
          "color": "#55a868"
         },
         "name": "Perm",
         "showlegend": false,
         "type": "histogram",
         "x": {
          "bdata": "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",
          "dtype": "f8"
         },
         "xaxis": "x4",
         "yaxis": "y4"
        },
        {
         "boxmean": true,
         "marker": {
          "color": "#55a868"
         },
         "name": "Perm",
         "type": "box",
         "x": {
          "bdata": "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",
          "dtype": "f8"
         },
         "xaxis": "x3",
         "yaxis": "y3"
        },
        {
         "marker": {
          "color": "#c44e52"
         },
         "name": "AI",
         "showlegend": false,
         "type": "histogram",
         "x": {
          "bdata": "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",
          "dtype": "f8"
         },
         "xaxis": "x6",
         "yaxis": "y6"
        },
        {
         "boxmean": true,
         "marker": {
          "color": "#c44e52"
         },
         "name": "AI",
         "type": "box",
         "x": {
          "bdata": "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",
          "dtype": "f8"
         },
         "xaxis": "x5",
         "yaxis": "y5"
        },
        {
         "marker": {
          "color": "#8172b2"
         },
         "name": "Brittle",
         "showlegend": false,
         "type": "histogram",
         "x": {
          "bdata": "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",
          "dtype": "f8"
         },
         "xaxis": "x8",
         "yaxis": "y8"
        },
        {
         "boxmean": true,
         "marker": {
          "color": "#8172b2"
         },
         "name": "Brittle",
         "type": "box",
         "x": {
          "bdata": "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",
          "dtype": "f8"
         },
         "xaxis": "x7",
         "yaxis": "y7"
        },
        {
         "marker": {
          "color": "#ccb974"
         },
         "name": "TOC",
         "showlegend": false,
         "type": "histogram",
         "x": {
          "bdata": "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",
          "dtype": "f8"
         },
         "xaxis": "x10",
         "yaxis": "y10"
        },
        {
         "boxmean": true,
         "marker": {
          "color": "#ccb974"
         },
         "name": "TOC",
         "type": "box",
         "x": {
          "bdata": "j8L1KFyP8j97FK5H4XrsP3sUrkfheuw/SOF6FK5H8T8pXI/C9Sj4PxSuR+F6FO4/mpmZmZmZ6T8UrkfhehTmP2ZmZmZmZu4/PQrXo3A98j9I4XoUrkfxP3sUrkfhevg/uB6F61G48j/sUbgehev9PwrXo3A9Csc/PQrXo3A94j9xPQrXo3D1P5qZmZmZmfU/zczMzMzM7D/NzMzMzMzsPylcj8L1KPQ/XI/C9Shc8z8AAAAAAADwP1K4HoXrUdg/UrgehetR/D97FK5H4Xqkv+xRuB6F6/U/mpmZmZmZ8T8K16NwPQrnP+xRuB6F6+k/MzMzMzMz9z9xPQrXo3DtP0jhehSuR+k/FK5H4XoU8j+F61G4HoXbP0jhehSuR+E/uB6F61G43j9I4XoUrkf1Pz0K16NwPfI/16NwPQrX6z8K16NwPQrvPylcj8L1KPA/UrgehetRyL+PwvUoXI/qP4/C9ShcjwBAH4XrUbge5T8zMzMzMzPTP3sUrkfherQ/AAAAAAAA8D/Xo3A9CtfzP3E9CtejcPk/exSuR+F6+D+amZmZmZnpP1K4HoXrUeg/hetRuB6F/z9SuB6F61HoP9ejcD0K1+M/9ihcj8L16D9xPQrXo3DxP5qZmZmZmck/zczMzMzM9D8fhetRuB7xP+xRuB6F6/E/H4XrUbge8T+4HoXrUbj6P3sUrkfheqQ/hetRuB6F8z97FK5H4Xr0P6RwPQrXo/A/FK5H4XoU3j97FK5H4XrEPx+F61G4Hu0/CtejcD0K5z+amZmZmZnxP7gehetRuN4/uB6F61G49j+F61G4HoX3P3E9CtejcN0/mpmZmZmZ6T9mZmZmZmbyP7gehetRuPI/hetRuB6F8z9SuB6F61HYPzMzMzMzM+M/4XoUrkfh4j+kcD0K16PwP8P1KFyPwvU/ZmZmZmZm7j+kcD0K16PgP7gehetRuPI/4XoUrkfh6j9SuB6F61HYP4XrUbgehfc/9ihcj8L12D9mZmZmZmbuP3E9CtejcO0/hetRuB6F9z9xPQrXo3D5P+F6FK5H4eo/zczMzMzM+D9cj8L1KFzvP4XrUbgehes/zczMzMzM3D/2KFyPwvXwPwAAAAAAAPw/mpmZmZmZ9T8AAAAAAADgP+F6FK5H4fY/pHA9CtejAEBmZmZmZmbyP4/C9Shcj+I/UrgehetR2D89CtejcD32P0jhehSuR/U/PQrXo3A96j9mZmZmZmb2P+xRuB6F6+k/UrgehetR+D9SuB6F61HwP65H4XoUrvM/uB6F61G43j+4HoXrUbjyP8P1KFyPwvE/AAAAAAAA4D9xPQrXo3ABQEjhehSuR/U/FK5H4XoU8j/sUbgehev5P8P1KFyPwu0/UrgehetR+D+4HoXrUbjyP1yPwvUoXPc/16NwPQrX0z/D9Shcj8LtP4XrUbgeheM/exSuR+F6+D9SuB6F61HYP6RwPQrXo/A/rkfhehSu1z+PwvUoXI/iP+xRuB6F6/U/4XoUrkfh6j89CtejcD36PwAAAAAAAOA/j8L1KFyP8j+uR+F6FK73P4XrUbgehds/mpmZmZmZ+T+amZmZmZm5Pylcj8L1KPQ/PQrXo3A96j/NzMzMzMzcP4/C9Shcj/o/KVyPwvUo5D8AAAAAAAD4P7gehetRuN4/SOF6FK5H9T+PwvUoXI/2P83MzMzMzPA/UrgehetR8D9cj8L1KFzzP9ejcD0K1/s/7FG4HoXr0T8zMzMzMzPjP83MzMzMzOw/pHA9Ctej+D8fhetRuB75P3E9CtejcPE/SOF6FK5H+T97FK5H4XqkP1K4HoXrUdg/SOF6FK5H9T+4HoXrUbi+PwAAAAAAAPQ/uB6F61G49j+kcD0K16PwP0jhehSuR/E/ZmZmZmZm1j+uR+F6FK7zP7gehetRuJ6/7FG4HoXrwT9xPQrXo3DlP6RwPQrXo+A/j8L1KFyP+j9SuB6F61H4PwrXo3A9Cuc/exSuR+F69D/sUbgehevpPwrXo3A9Cu8/rkfhehSu9z8pXI/C9Sj4P+xRuB6F69E/ZmZmZmZm9j8pXI/C9Si8P1K4HoXrUfw/mpmZmZmZ6T9cj8L1KFzvP3sUrkfheqS/PQrXo3A9/j9cj8L1KFz7Pw==",
          "dtype": "f8"
         },
         "xaxis": "x9",
         "yaxis": "y9"
        },
        {
         "marker": {
          "color": "#64b5cd"
         },
         "name": "VR",
         "showlegend": false,
         "type": "histogram",
         "x": {
          "bdata": "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",
          "dtype": "f8"
         },
         "xaxis": "x12",
         "yaxis": "y12"
        },
        {
         "boxmean": true,
         "marker": {
          "color": "#64b5cd"
         },
         "name": "VR",
         "type": "box",
         "x": {
          "bdata": "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",
          "dtype": "f8"
         },
         "xaxis": "x11",
         "yaxis": "y11"
        }
       ],
       "layout": {
        "annotations": [
         {
          "font": {
           "size": 12
          },
          "showarrow": false,
          "text": "пористость скважины (%)",
          "x": 0.5,
          "xref": "paper",
          "y": 0.86,
          "yref": "paper"
         },
         {
          "font": {
           "size": 12
          },
          "showarrow": false,
          "text": "проницаемость скважины (мД)",
          "x": 0.5,
          "xref": "paper",
          "y": 0.68,
          "yref": "paper"
         },
         {
          "font": {
           "size": 12
          },
          "showarrow": false,
          "text": "акустический импеданс (кг/м^2 * 10^6)",
          "x": 0.5,
          "xref": "paper",
          "y": 0.5,
          "yref": "paper"
         },
         {
          "font": {
           "size": 12
          },
          "showarrow": false,
          "text": "коэффициент хрупкости скважины (%)",
          "x": 0.5,
          "xref": "paper",
          "y": 0.32,
          "yref": "paper"
         },
         {
          "font": {
           "size": 12
          },
          "showarrow": false,
          "text": "общий органический углерод (%)",
          "x": 0.5,
          "xref": "paper",
          "y": 0.14,
          "yref": "paper"
         },
         {
          "font": {
           "size": 12
          },
          "showarrow": false,
          "text": "коэффициент отражения витринита (%)",
          "x": 0.5,
          "xref": "paper",
          "y": -0.03,
          "yref": "paper"
         }
        ],
        "height": 1600,
        "template": {
         "data": {
          "bar": [
           {
            "error_x": {
             "color": "rgb(36,36,36)"
            },
            "error_y": {
             "color": "rgb(36,36,36)"
            },
            "marker": {
             "line": {
              "color": "rgb(234,234,242)",
              "width": 0.5
             },
             "pattern": {
              "fillmode": "overlay",
              "size": 10,
              "solidity": 0.2
             }
            },
            "type": "bar"
           }
          ],
          "barpolar": [
           {
            "marker": {
             "line": {
              "color": "rgb(234,234,242)",
              "width": 0.5
             },
             "pattern": {
              "fillmode": "overlay",
              "size": 10,
              "solidity": 0.2
             }
            },
            "type": "barpolar"
           }
          ],
          "carpet": [
           {
            "aaxis": {
             "endlinecolor": "rgb(36,36,36)",
             "gridcolor": "white",
             "linecolor": "white",
             "minorgridcolor": "white",
             "startlinecolor": "rgb(36,36,36)"
            },
            "baxis": {
             "endlinecolor": "rgb(36,36,36)",
             "gridcolor": "white",
             "linecolor": "white",
             "minorgridcolor": "white",
             "startlinecolor": "rgb(36,36,36)"
            },
            "type": "carpet"
           }
          ],
          "choropleth": [
           {
            "colorbar": {
             "outlinewidth": 0,
             "tickcolor": "rgb(36,36,36)",
             "ticklen": 8,
             "ticks": "outside",
             "tickwidth": 2
            },
            "type": "choropleth"
           }
          ],
          "contour": [
           {
            "colorbar": {
             "outlinewidth": 0,
             "tickcolor": "rgb(36,36,36)",
             "ticklen": 8,
             "ticks": "outside",
             "tickwidth": 2
            },
            "colorscale": [
             [
              0,
              "rgb(2,4,25)"
             ],
             [
              0.06274509803921569,
              "rgb(24,15,41)"
             ],
             [
              0.12549019607843137,
              "rgb(47,23,57)"
             ],
             [
              0.18823529411764706,
              "rgb(71,28,72)"
             ],
             [
              0.25098039215686274,
              "rgb(97,30,82)"
             ],
             [
              0.3137254901960784,
              "rgb(123,30,89)"
             ],
             [
              0.3764705882352941,
              "rgb(150,27,91)"
             ],
             [
              0.4392156862745098,
              "rgb(177,22,88)"
             ],
             [
              0.5019607843137255,
              "rgb(203,26,79)"
             ],
             [
              0.5647058823529412,
              "rgb(223,47,67)"
             ],
             [
              0.6274509803921569,
              "rgb(236,76,61)"
             ],
             [
              0.6901960784313725,
              "rgb(242,107,73)"
             ],
             [
              0.7529411764705882,
              "rgb(244,135,95)"
             ],
             [
              0.8156862745098039,
              "rgb(245,162,122)"
             ],
             [
              0.8784313725490196,
              "rgb(246,188,153)"
             ],
             [
              0.9411764705882353,
              "rgb(247,212,187)"
             ],
             [
              1,
              "rgb(250,234,220)"
             ]
            ],
            "type": "contour"
           }
          ],
          "contourcarpet": [
           {
            "colorbar": {
             "outlinewidth": 0,
             "tickcolor": "rgb(36,36,36)",
             "ticklen": 8,
             "ticks": "outside",
             "tickwidth": 2
            },
            "type": "contourcarpet"
           }
          ],
          "heatmap": [
           {
            "colorbar": {
             "outlinewidth": 0,
             "tickcolor": "rgb(36,36,36)",
             "ticklen": 8,
             "ticks": "outside",
             "tickwidth": 2
            },
            "colorscale": [
             [
              0,
              "rgb(2,4,25)"
             ],
             [
              0.06274509803921569,
              "rgb(24,15,41)"
             ],
             [
              0.12549019607843137,
              "rgb(47,23,57)"
             ],
             [
              0.18823529411764706,
              "rgb(71,28,72)"
             ],
             [
              0.25098039215686274,
              "rgb(97,30,82)"
             ],
             [
              0.3137254901960784,
              "rgb(123,30,89)"
             ],
             [
              0.3764705882352941,
              "rgb(150,27,91)"
             ],
             [
              0.4392156862745098,
              "rgb(177,22,88)"
             ],
             [
              0.5019607843137255,
              "rgb(203,26,79)"
             ],
             [
              0.5647058823529412,
              "rgb(223,47,67)"
             ],
             [
              0.6274509803921569,
              "rgb(236,76,61)"
             ],
             [
              0.6901960784313725,
              "rgb(242,107,73)"
             ],
             [
              0.7529411764705882,
              "rgb(244,135,95)"
             ],
             [
              0.8156862745098039,
              "rgb(245,162,122)"
             ],
             [
              0.8784313725490196,
              "rgb(246,188,153)"
             ],
             [
              0.9411764705882353,
              "rgb(247,212,187)"
             ],
             [
              1,
              "rgb(250,234,220)"
             ]
            ],
            "type": "heatmap"
           }
          ],
          "histogram": [
           {
            "marker": {
             "pattern": {
              "fillmode": "overlay",
              "size": 10,
              "solidity": 0.2
             }
            },
            "type": "histogram"
           }
          ],
          "histogram2d": [
           {
            "colorbar": {
             "outlinewidth": 0,
             "tickcolor": "rgb(36,36,36)",
             "ticklen": 8,
             "ticks": "outside",
             "tickwidth": 2
            },
            "colorscale": [
             [
              0,
              "rgb(2,4,25)"
             ],
             [
              0.06274509803921569,
              "rgb(24,15,41)"
             ],
             [
              0.12549019607843137,
              "rgb(47,23,57)"
             ],
             [
              0.18823529411764706,
              "rgb(71,28,72)"
             ],
             [
              0.25098039215686274,
              "rgb(97,30,82)"
             ],
             [
              0.3137254901960784,
              "rgb(123,30,89)"
             ],
             [
              0.3764705882352941,
              "rgb(150,27,91)"
             ],
             [
              0.4392156862745098,
              "rgb(177,22,88)"
             ],
             [
              0.5019607843137255,
              "rgb(203,26,79)"
             ],
             [
              0.5647058823529412,
              "rgb(223,47,67)"
             ],
             [
              0.6274509803921569,
              "rgb(236,76,61)"
             ],
             [
              0.6901960784313725,
              "rgb(242,107,73)"
             ],
             [
              0.7529411764705882,
              "rgb(244,135,95)"
             ],
             [
              0.8156862745098039,
              "rgb(245,162,122)"
             ],
             [
              0.8784313725490196,
              "rgb(246,188,153)"
             ],
             [
              0.9411764705882353,
              "rgb(247,212,187)"
             ],
             [
              1,
              "rgb(250,234,220)"
             ]
            ],
            "type": "histogram2d"
           }
          ],
          "histogram2dcontour": [
           {
            "colorbar": {
             "outlinewidth": 0,
             "tickcolor": "rgb(36,36,36)",
             "ticklen": 8,
             "ticks": "outside",
             "tickwidth": 2
            },
            "colorscale": [
             [
              0,
              "rgb(2,4,25)"
             ],
             [
              0.06274509803921569,
              "rgb(24,15,41)"
             ],
             [
              0.12549019607843137,
              "rgb(47,23,57)"
             ],
             [
              0.18823529411764706,
              "rgb(71,28,72)"
             ],
             [
              0.25098039215686274,
              "rgb(97,30,82)"
             ],
             [
              0.3137254901960784,
              "rgb(123,30,89)"
             ],
             [
              0.3764705882352941,
              "rgb(150,27,91)"
             ],
             [
              0.4392156862745098,
              "rgb(177,22,88)"
             ],
             [
              0.5019607843137255,
              "rgb(203,26,79)"
             ],
             [
              0.5647058823529412,
              "rgb(223,47,67)"
             ],
             [
              0.6274509803921569,
              "rgb(236,76,61)"
             ],
             [
              0.6901960784313725,
              "rgb(242,107,73)"
             ],
             [
              0.7529411764705882,
              "rgb(244,135,95)"
             ],
             [
              0.8156862745098039,
              "rgb(245,162,122)"
             ],
             [
              0.8784313725490196,
              "rgb(246,188,153)"
             ],
             [
              0.9411764705882353,
              "rgb(247,212,187)"
             ],
             [
              1,
              "rgb(250,234,220)"
             ]
            ],
            "type": "histogram2dcontour"
           }
          ],
          "mesh3d": [
           {
            "colorbar": {
             "outlinewidth": 0,
             "tickcolor": "rgb(36,36,36)",
             "ticklen": 8,
             "ticks": "outside",
             "tickwidth": 2
            },
            "type": "mesh3d"
           }
          ],
          "parcoords": [
           {
            "line": {
             "colorbar": {
              "outlinewidth": 0,
              "tickcolor": "rgb(36,36,36)",
              "ticklen": 8,
              "ticks": "outside",
              "tickwidth": 2
             }
            },
            "type": "parcoords"
           }
          ],
          "pie": [
           {
            "automargin": true,
            "type": "pie"
           }
          ],
          "scatter": [
           {
            "fillpattern": {
             "fillmode": "overlay",
             "size": 10,
             "solidity": 0.2
            },
            "type": "scatter"
           }
          ],
          "scatter3d": [
           {
            "line": {
             "colorbar": {
              "outlinewidth": 0,
              "tickcolor": "rgb(36,36,36)",
              "ticklen": 8,
              "ticks": "outside",
              "tickwidth": 2
             }
            },
            "marker": {
             "colorbar": {
              "outlinewidth": 0,
              "tickcolor": "rgb(36,36,36)",
              "ticklen": 8,
              "ticks": "outside",
              "tickwidth": 2
             }
            },
            "type": "scatter3d"
           }
          ],
          "scattercarpet": [
           {
            "marker": {
             "colorbar": {
              "outlinewidth": 0,
              "tickcolor": "rgb(36,36,36)",
              "ticklen": 8,
              "ticks": "outside",
              "tickwidth": 2
             }
            },
            "type": "scattercarpet"
           }
          ],
          "scattergeo": [
           {
            "marker": {
             "colorbar": {
              "outlinewidth": 0,
              "tickcolor": "rgb(36,36,36)",
              "ticklen": 8,
              "ticks": "outside",
              "tickwidth": 2
             }
            },
            "type": "scattergeo"
           }
          ],
          "scattergl": [
           {
            "marker": {
             "colorbar": {
              "outlinewidth": 0,
              "tickcolor": "rgb(36,36,36)",
              "ticklen": 8,
              "ticks": "outside",
              "tickwidth": 2
             }
            },
            "type": "scattergl"
           }
          ],
          "scattermap": [
           {
            "marker": {
             "colorbar": {
              "outlinewidth": 0,
              "tickcolor": "rgb(36,36,36)",
              "ticklen": 8,
              "ticks": "outside",
              "tickwidth": 2
             }
            },
            "type": "scattermap"
           }
          ],
          "scattermapbox": [
           {
            "marker": {
             "colorbar": {
              "outlinewidth": 0,
              "tickcolor": "rgb(36,36,36)",
              "ticklen": 8,
              "ticks": "outside",
              "tickwidth": 2
             }
            },
            "type": "scattermapbox"
           }
          ],
          "scatterpolar": [
           {
            "marker": {
             "colorbar": {
              "outlinewidth": 0,
              "tickcolor": "rgb(36,36,36)",
              "ticklen": 8,
              "ticks": "outside",
              "tickwidth": 2
             }
            },
            "type": "scatterpolar"
           }
          ],
          "scatterpolargl": [
           {
            "marker": {
             "colorbar": {
              "outlinewidth": 0,
              "tickcolor": "rgb(36,36,36)",
              "ticklen": 8,
              "ticks": "outside",
              "tickwidth": 2
             }
            },
            "type": "scatterpolargl"
           }
          ],
          "scatterternary": [
           {
            "marker": {
             "colorbar": {
              "outlinewidth": 0,
              "tickcolor": "rgb(36,36,36)",
              "ticklen": 8,
              "ticks": "outside",
              "tickwidth": 2
             }
            },
            "type": "scatterternary"
           }
          ],
          "surface": [
           {
            "colorbar": {
             "outlinewidth": 0,
             "tickcolor": "rgb(36,36,36)",
             "ticklen": 8,
             "ticks": "outside",
             "tickwidth": 2
            },
            "colorscale": [
             [
              0,
              "rgb(2,4,25)"
             ],
             [
              0.06274509803921569,
              "rgb(24,15,41)"
             ],
             [
              0.12549019607843137,
              "rgb(47,23,57)"
             ],
             [
              0.18823529411764706,
              "rgb(71,28,72)"
             ],
             [
              0.25098039215686274,
              "rgb(97,30,82)"
             ],
             [
              0.3137254901960784,
              "rgb(123,30,89)"
             ],
             [
              0.3764705882352941,
              "rgb(150,27,91)"
             ],
             [
              0.4392156862745098,
              "rgb(177,22,88)"
             ],
             [
              0.5019607843137255,
              "rgb(203,26,79)"
             ],
             [
              0.5647058823529412,
              "rgb(223,47,67)"
             ],
             [
              0.6274509803921569,
              "rgb(236,76,61)"
             ],
             [
              0.6901960784313725,
              "rgb(242,107,73)"
             ],
             [
              0.7529411764705882,
              "rgb(244,135,95)"
             ],
             [
              0.8156862745098039,
              "rgb(245,162,122)"
             ],
             [
              0.8784313725490196,
              "rgb(246,188,153)"
             ],
             [
              0.9411764705882353,
              "rgb(247,212,187)"
             ],
             [
              1,
              "rgb(250,234,220)"
             ]
            ],
            "type": "surface"
           }
          ],
          "table": [
           {
            "cells": {
             "fill": {
              "color": "rgb(231,231,240)"
             },
             "line": {
              "color": "white"
             }
            },
            "header": {
             "fill": {
              "color": "rgb(183,183,191)"
             },
             "line": {
              "color": "white"
             }
            },
            "type": "table"
           }
          ]
         },
         "layout": {
          "annotationdefaults": {
           "arrowcolor": "rgb(67,103,167)"
          },
          "autotypenumbers": "strict",
          "coloraxis": {
           "colorbar": {
            "outlinewidth": 0,
            "tickcolor": "rgb(36,36,36)",
            "ticklen": 8,
            "ticks": "outside",
            "tickwidth": 2
           }
          },
          "colorscale": {
           "sequential": [
            [
             0,
             "rgb(2,4,25)"
            ],
            [
             0.06274509803921569,
             "rgb(24,15,41)"
            ],
            [
             0.12549019607843137,
             "rgb(47,23,57)"
            ],
            [
             0.18823529411764706,
             "rgb(71,28,72)"
            ],
            [
             0.25098039215686274,
             "rgb(97,30,82)"
            ],
            [
             0.3137254901960784,
             "rgb(123,30,89)"
            ],
            [
             0.3764705882352941,
             "rgb(150,27,91)"
            ],
            [
             0.4392156862745098,
             "rgb(177,22,88)"
            ],
            [
             0.5019607843137255,
             "rgb(203,26,79)"
            ],
            [
             0.5647058823529412,
             "rgb(223,47,67)"
            ],
            [
             0.6274509803921569,
             "rgb(236,76,61)"
            ],
            [
             0.6901960784313725,
             "rgb(242,107,73)"
            ],
            [
             0.7529411764705882,
             "rgb(244,135,95)"
            ],
            [
             0.8156862745098039,
             "rgb(245,162,122)"
            ],
            [
             0.8784313725490196,
             "rgb(246,188,153)"
            ],
            [
             0.9411764705882353,
             "rgb(247,212,187)"
            ],
            [
             1,
             "rgb(250,234,220)"
            ]
           ],
           "sequentialminus": [
            [
             0,
             "rgb(2,4,25)"
            ],
            [
             0.06274509803921569,
             "rgb(24,15,41)"
            ],
            [
             0.12549019607843137,
             "rgb(47,23,57)"
            ],
            [
             0.18823529411764706,
             "rgb(71,28,72)"
            ],
            [
             0.25098039215686274,
             "rgb(97,30,82)"
            ],
            [
             0.3137254901960784,
             "rgb(123,30,89)"
            ],
            [
             0.3764705882352941,
             "rgb(150,27,91)"
            ],
            [
             0.4392156862745098,
             "rgb(177,22,88)"
            ],
            [
             0.5019607843137255,
             "rgb(203,26,79)"
            ],
            [
             0.5647058823529412,
             "rgb(223,47,67)"
            ],
            [
             0.6274509803921569,
             "rgb(236,76,61)"
            ],
            [
             0.6901960784313725,
             "rgb(242,107,73)"
            ],
            [
             0.7529411764705882,
             "rgb(244,135,95)"
            ],
            [
             0.8156862745098039,
             "rgb(245,162,122)"
            ],
            [
             0.8784313725490196,
             "rgb(246,188,153)"
            ],
            [
             0.9411764705882353,
             "rgb(247,212,187)"
            ],
            [
             1,
             "rgb(250,234,220)"
            ]
           ]
          },
          "colorway": [
           "rgb(76,114,176)",
           "rgb(221,132,82)",
           "rgb(85,168,104)",
           "rgb(196,78,82)",
           "rgb(129,114,179)",
           "rgb(147,120,96)",
           "rgb(218,139,195)",
           "rgb(140,140,140)",
           "rgb(204,185,116)",
           "rgb(100,181,205)"
          ],
          "font": {
           "color": "rgb(36,36,36)"
          },
          "geo": {
           "bgcolor": "white",
           "lakecolor": "white",
           "landcolor": "rgb(234,234,242)",
           "showlakes": true,
           "showland": true,
           "subunitcolor": "white"
          },
          "hoverlabel": {
           "align": "left"
          },
          "hovermode": "closest",
          "paper_bgcolor": "white",
          "plot_bgcolor": "rgb(234,234,242)",
          "polar": {
           "angularaxis": {
            "gridcolor": "white",
            "linecolor": "white",
            "showgrid": true,
            "ticks": ""
           },
           "bgcolor": "rgb(234,234,242)",
           "radialaxis": {
            "gridcolor": "white",
            "linecolor": "white",
            "showgrid": true,
            "ticks": ""
           }
          },
          "scene": {
           "xaxis": {
            "backgroundcolor": "rgb(234,234,242)",
            "gridcolor": "white",
            "gridwidth": 2,
            "linecolor": "white",
            "showbackground": true,
            "showgrid": true,
            "ticks": "",
            "zerolinecolor": "white"
           },
           "yaxis": {
            "backgroundcolor": "rgb(234,234,242)",
            "gridcolor": "white",
            "gridwidth": 2,
            "linecolor": "white",
            "showbackground": true,
            "showgrid": true,
            "ticks": "",
            "zerolinecolor": "white"
           },
           "zaxis": {
            "backgroundcolor": "rgb(234,234,242)",
            "gridcolor": "white",
            "gridwidth": 2,
            "linecolor": "white",
            "showbackground": true,
            "showgrid": true,
            "ticks": "",
            "zerolinecolor": "white"
           }
          },
          "shapedefaults": {
           "fillcolor": "rgb(67,103,167)",
           "line": {
            "width": 0
           },
           "opacity": 0.5
          },
          "ternary": {
           "aaxis": {
            "gridcolor": "white",
            "linecolor": "white",
            "showgrid": true,
            "ticks": ""
           },
           "baxis": {
            "gridcolor": "white",
            "linecolor": "white",
            "showgrid": true,
            "ticks": ""
           },
           "bgcolor": "rgb(234,234,242)",
           "caxis": {
            "gridcolor": "white",
            "linecolor": "white",
            "showgrid": true,
            "ticks": ""
           }
          },
          "xaxis": {
           "automargin": true,
           "gridcolor": "white",
           "linecolor": "white",
           "showgrid": true,
           "ticks": "",
           "title": {
            "standoff": 15
           },
           "zerolinecolor": "white"
          },
          "yaxis": {
           "automargin": true,
           "gridcolor": "white",
           "linecolor": "white",
           "showgrid": true,
           "ticks": "",
           "title": {
            "standoff": 15
           },
           "zerolinecolor": "white"
          }
         }
        },
        "title": {
         "text": "Распределение признаков (кроме целевого)"
        },
        "xaxis": {
         "anchor": "y",
         "domain": [
          0,
          0.45
         ]
        },
        "xaxis10": {
         "anchor": "y10",
         "domain": [
          0.55,
          1
         ]
        },
        "xaxis11": {
         "anchor": "y11",
         "domain": [
          0,
          0.45
         ]
        },
        "xaxis12": {
         "anchor": "y12",
         "domain": [
          0.55,
          1
         ]
        },
        "xaxis2": {
         "anchor": "y2",
         "domain": [
          0.55,
          1
         ]
        },
        "xaxis3": {
         "anchor": "y3",
         "domain": [
          0,
          0.45
         ]
        },
        "xaxis4": {
         "anchor": "y4",
         "domain": [
          0.55,
          1
         ]
        },
        "xaxis5": {
         "anchor": "y5",
         "domain": [
          0,
          0.45
         ]
        },
        "xaxis6": {
         "anchor": "y6",
         "domain": [
          0.55,
          1
         ]
        },
        "xaxis7": {
         "anchor": "y7",
         "domain": [
          0,
          0.45
         ]
        },
        "xaxis8": {
         "anchor": "y8",
         "domain": [
          0.55,
          1
         ]
        },
        "xaxis9": {
         "anchor": "y9",
         "domain": [
          0,
          0.45
         ]
        },
        "yaxis": {
         "anchor": "x",
         "domain": [
          0.875,
          1
         ]
        },
        "yaxis10": {
         "anchor": "x10",
         "domain": [
          0.175,
          0.3
         ]
        },
        "yaxis11": {
         "anchor": "x11",
         "domain": [
          0,
          0.125
         ]
        },
        "yaxis12": {
         "anchor": "x12",
         "domain": [
          0,
          0.125
         ]
        },
        "yaxis2": {
         "anchor": "x2",
         "domain": [
          0.875,
          1
         ]
        },
        "yaxis3": {
         "anchor": "x3",
         "domain": [
          0.7,
          0.825
         ]
        },
        "yaxis4": {
         "anchor": "x4",
         "domain": [
          0.7,
          0.825
         ]
        },
        "yaxis5": {
         "anchor": "x5",
         "domain": [
          0.525,
          0.65
         ]
        },
        "yaxis6": {
         "anchor": "x6",
         "domain": [
          0.525,
          0.65
         ]
        },
        "yaxis7": {
         "anchor": "x7",
         "domain": [
          0.35,
          0.475
         ]
        },
        "yaxis8": {
         "anchor": "x8",
         "domain": [
          0.35,
          0.475
         ]
        },
        "yaxis9": {
         "anchor": "x9",
         "domain": [
          0.175,
          0.3
         ]
        }
       }
      }
     },
     "metadata": {},
     "output_type": "display_data"
    },
    {
     "data": {
      "application/vnd.plotly.v1+json": {
       "config": {
        "plotlyServerURL": "https://plot.ly"
       },
       "data": [
        {
         "bingroup": "x",
         "hovertemplate": "variable=Prod<br>добыча газа в сутки (млн. кубических футов)=%{x}<br>count=%{y}<extra></extra>",
         "legendgroup": "Prod",
         "marker": {
          "color": "rgb(76,114,176)",
          "pattern": {
           "shape": ""
          }
         },
         "name": "Prod",
         "orientation": "v",
         "showlegend": true,
         "type": "histogram",
         "x": {
          "bdata": "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",
          "dtype": "f8"
         },
         "xaxis": "x",
         "yaxis": "y"
        }
       ],
       "layout": {
        "barmode": "relative",
        "height": 500,
        "legend": {
         "title": {
          "text": "variable"
         },
         "tracegroupgap": 0
        },
        "template": {
         "data": {
          "bar": [
           {
            "error_x": {
             "color": "rgb(36,36,36)"
            },
            "error_y": {
             "color": "rgb(36,36,36)"
            },
            "marker": {
             "line": {
              "color": "rgb(234,234,242)",
              "width": 0.5
             },
             "pattern": {
              "fillmode": "overlay",
              "size": 10,
              "solidity": 0.2
             }
            },
            "type": "bar"
           }
          ],
          "barpolar": [
           {
            "marker": {
             "line": {
              "color": "rgb(234,234,242)",
              "width": 0.5
             },
             "pattern": {
              "fillmode": "overlay",
              "size": 10,
              "solidity": 0.2
             }
            },
            "type": "barpolar"
           }
          ],
          "carpet": [
           {
            "aaxis": {
             "endlinecolor": "rgb(36,36,36)",
             "gridcolor": "white",
             "linecolor": "white",
             "minorgridcolor": "white",
             "startlinecolor": "rgb(36,36,36)"
            },
            "baxis": {
             "endlinecolor": "rgb(36,36,36)",
             "gridcolor": "white",
             "linecolor": "white",
             "minorgridcolor": "white",
             "startlinecolor": "rgb(36,36,36)"
            },
            "type": "carpet"
           }
          ],
          "choropleth": [
           {
            "colorbar": {
             "outlinewidth": 0,
             "tickcolor": "rgb(36,36,36)",
             "ticklen": 8,
             "ticks": "outside",
             "tickwidth": 2
            },
            "type": "choropleth"
           }
          ],
          "contour": [
           {
            "colorbar": {
             "outlinewidth": 0,
             "tickcolor": "rgb(36,36,36)",
             "ticklen": 8,
             "ticks": "outside",
             "tickwidth": 2
            },
            "colorscale": [
             [
              0,
              "rgb(2,4,25)"
             ],
             [
              0.06274509803921569,
              "rgb(24,15,41)"
             ],
             [
              0.12549019607843137,
              "rgb(47,23,57)"
             ],
             [
              0.18823529411764706,
              "rgb(71,28,72)"
             ],
             [
              0.25098039215686274,
              "rgb(97,30,82)"
             ],
             [
              0.3137254901960784,
              "rgb(123,30,89)"
             ],
             [
              0.3764705882352941,
              "rgb(150,27,91)"
             ],
             [
              0.4392156862745098,
              "rgb(177,22,88)"
             ],
             [
              0.5019607843137255,
              "rgb(203,26,79)"
             ],
             [
              0.5647058823529412,
              "rgb(223,47,67)"
             ],
             [
              0.6274509803921569,
              "rgb(236,76,61)"
             ],
             [
              0.6901960784313725,
              "rgb(242,107,73)"
             ],
             [
              0.7529411764705882,
              "rgb(244,135,95)"
             ],
             [
              0.8156862745098039,
              "rgb(245,162,122)"
             ],
             [
              0.8784313725490196,
              "rgb(246,188,153)"
             ],
             [
              0.9411764705882353,
              "rgb(247,212,187)"
             ],
             [
              1,
              "rgb(250,234,220)"
             ]
            ],
            "type": "contour"
           }
          ],
          "contourcarpet": [
           {
            "colorbar": {
             "outlinewidth": 0,
             "tickcolor": "rgb(36,36,36)",
             "ticklen": 8,
             "ticks": "outside",
             "tickwidth": 2
            },
            "type": "contourcarpet"
           }
          ],
          "heatmap": [
           {
            "colorbar": {
             "outlinewidth": 0,
             "tickcolor": "rgb(36,36,36)",
             "ticklen": 8,
             "ticks": "outside",
             "tickwidth": 2
            },
            "colorscale": [
             [
              0,
              "rgb(2,4,25)"
             ],
             [
              0.06274509803921569,
              "rgb(24,15,41)"
             ],
             [
              0.12549019607843137,
              "rgb(47,23,57)"
             ],
             [
              0.18823529411764706,
              "rgb(71,28,72)"
             ],
             [
              0.25098039215686274,
              "rgb(97,30,82)"
             ],
             [
              0.3137254901960784,
              "rgb(123,30,89)"
             ],
             [
              0.3764705882352941,
              "rgb(150,27,91)"
             ],
             [
              0.4392156862745098,
              "rgb(177,22,88)"
             ],
             [
              0.5019607843137255,
              "rgb(203,26,79)"
             ],
             [
              0.5647058823529412,
              "rgb(223,47,67)"
             ],
             [
              0.6274509803921569,
              "rgb(236,76,61)"
             ],
             [
              0.6901960784313725,
              "rgb(242,107,73)"
             ],
             [
              0.7529411764705882,
              "rgb(244,135,95)"
             ],
             [
              0.8156862745098039,
              "rgb(245,162,122)"
             ],
             [
              0.8784313725490196,
              "rgb(246,188,153)"
             ],
             [
              0.9411764705882353,
              "rgb(247,212,187)"
             ],
             [
              1,
              "rgb(250,234,220)"
             ]
            ],
            "type": "heatmap"
           }
          ],
          "histogram": [
           {
            "marker": {
             "pattern": {
              "fillmode": "overlay",
              "size": 10,
              "solidity": 0.2
             }
            },
            "type": "histogram"
           }
          ],
          "histogram2d": [
           {
            "colorbar": {
             "outlinewidth": 0,
             "tickcolor": "rgb(36,36,36)",
             "ticklen": 8,
             "ticks": "outside",
             "tickwidth": 2
            },
            "colorscale": [
             [
              0,
              "rgb(2,4,25)"
             ],
             [
              0.06274509803921569,
              "rgb(24,15,41)"
             ],
             [
              0.12549019607843137,
              "rgb(47,23,57)"
             ],
             [
              0.18823529411764706,
              "rgb(71,28,72)"
             ],
             [
              0.25098039215686274,
              "rgb(97,30,82)"
             ],
             [
              0.3137254901960784,
              "rgb(123,30,89)"
             ],
             [
              0.3764705882352941,
              "rgb(150,27,91)"
             ],
             [
              0.4392156862745098,
              "rgb(177,22,88)"
             ],
             [
              0.5019607843137255,
              "rgb(203,26,79)"
             ],
             [
              0.5647058823529412,
              "rgb(223,47,67)"
             ],
             [
              0.6274509803921569,
              "rgb(236,76,61)"
             ],
             [
              0.6901960784313725,
              "rgb(242,107,73)"
             ],
             [
              0.7529411764705882,
              "rgb(244,135,95)"
             ],
             [
              0.8156862745098039,
              "rgb(245,162,122)"
             ],
             [
              0.8784313725490196,
              "rgb(246,188,153)"
             ],
             [
              0.9411764705882353,
              "rgb(247,212,187)"
             ],
             [
              1,
              "rgb(250,234,220)"
             ]
            ],
            "type": "histogram2d"
           }
          ],
          "histogram2dcontour": [
           {
            "colorbar": {
             "outlinewidth": 0,
             "tickcolor": "rgb(36,36,36)",
             "ticklen": 8,
             "ticks": "outside",
             "tickwidth": 2
            },
            "colorscale": [
             [
              0,
              "rgb(2,4,25)"
             ],
             [
              0.06274509803921569,
              "rgb(24,15,41)"
             ],
             [
              0.12549019607843137,
              "rgb(47,23,57)"
             ],
             [
              0.18823529411764706,
              "rgb(71,28,72)"
             ],
             [
              0.25098039215686274,
              "rgb(97,30,82)"
             ],
             [
              0.3137254901960784,
              "rgb(123,30,89)"
             ],
             [
              0.3764705882352941,
              "rgb(150,27,91)"
             ],
             [
              0.4392156862745098,
              "rgb(177,22,88)"
             ],
             [
              0.5019607843137255,
              "rgb(203,26,79)"
             ],
             [
              0.5647058823529412,
              "rgb(223,47,67)"
             ],
             [
              0.6274509803921569,
              "rgb(236,76,61)"
             ],
             [
              0.6901960784313725,
              "rgb(242,107,73)"
             ],
             [
              0.7529411764705882,
              "rgb(244,135,95)"
             ],
             [
              0.8156862745098039,
              "rgb(245,162,122)"
             ],
             [
              0.8784313725490196,
              "rgb(246,188,153)"
             ],
             [
              0.9411764705882353,
              "rgb(247,212,187)"
             ],
             [
              1,
              "rgb(250,234,220)"
             ]
            ],
            "type": "histogram2dcontour"
           }
          ],
          "mesh3d": [
           {
            "colorbar": {
             "outlinewidth": 0,
             "tickcolor": "rgb(36,36,36)",
             "ticklen": 8,
             "ticks": "outside",
             "tickwidth": 2
            },
            "type": "mesh3d"
           }
          ],
          "parcoords": [
           {
            "line": {
             "colorbar": {
              "outlinewidth": 0,
              "tickcolor": "rgb(36,36,36)",
              "ticklen": 8,
              "ticks": "outside",
              "tickwidth": 2
             }
            },
            "type": "parcoords"
           }
          ],
          "pie": [
           {
            "automargin": true,
            "type": "pie"
           }
          ],
          "scatter": [
           {
            "fillpattern": {
             "fillmode": "overlay",
             "size": 10,
             "solidity": 0.2
            },
            "type": "scatter"
           }
          ],
          "scatter3d": [
           {
            "line": {
             "colorbar": {
              "outlinewidth": 0,
              "tickcolor": "rgb(36,36,36)",
              "ticklen": 8,
              "ticks": "outside",
              "tickwidth": 2
             }
            },
            "marker": {
             "colorbar": {
              "outlinewidth": 0,
              "tickcolor": "rgb(36,36,36)",
              "ticklen": 8,
              "ticks": "outside",
              "tickwidth": 2
             }
            },
            "type": "scatter3d"
           }
          ],
          "scattercarpet": [
           {
            "marker": {
             "colorbar": {
              "outlinewidth": 0,
              "tickcolor": "rgb(36,36,36)",
              "ticklen": 8,
              "ticks": "outside",
              "tickwidth": 2
             }
            },
            "type": "scattercarpet"
           }
          ],
          "scattergeo": [
           {
            "marker": {
             "colorbar": {
              "outlinewidth": 0,
              "tickcolor": "rgb(36,36,36)",
              "ticklen": 8,
              "ticks": "outside",
              "tickwidth": 2
             }
            },
            "type": "scattergeo"
           }
          ],
          "scattergl": [
           {
            "marker": {
             "colorbar": {
              "outlinewidth": 0,
              "tickcolor": "rgb(36,36,36)",
              "ticklen": 8,
              "ticks": "outside",
              "tickwidth": 2
             }
            },
            "type": "scattergl"
           }
          ],
          "scattermap": [
           {
            "marker": {
             "colorbar": {
              "outlinewidth": 0,
              "tickcolor": "rgb(36,36,36)",
              "ticklen": 8,
              "ticks": "outside",
              "tickwidth": 2
             }
            },
            "type": "scattermap"
           }
          ],
          "scattermapbox": [
           {
            "marker": {
             "colorbar": {
              "outlinewidth": 0,
              "tickcolor": "rgb(36,36,36)",
              "ticklen": 8,
              "ticks": "outside",
              "tickwidth": 2
             }
            },
            "type": "scattermapbox"
           }
          ],
          "scatterpolar": [
           {
            "marker": {
             "colorbar": {
              "outlinewidth": 0,
              "tickcolor": "rgb(36,36,36)",
              "ticklen": 8,
              "ticks": "outside",
              "tickwidth": 2
             }
            },
            "type": "scatterpolar"
           }
          ],
          "scatterpolargl": [
           {
            "marker": {
             "colorbar": {
              "outlinewidth": 0,
              "tickcolor": "rgb(36,36,36)",
              "ticklen": 8,
              "ticks": "outside",
              "tickwidth": 2
             }
            },
            "type": "scatterpolargl"
           }
          ],
          "scatterternary": [
           {
            "marker": {
             "colorbar": {
              "outlinewidth": 0,
              "tickcolor": "rgb(36,36,36)",
              "ticklen": 8,
              "ticks": "outside",
              "tickwidth": 2
             }
            },
            "type": "scatterternary"
           }
          ],
          "surface": [
           {
            "colorbar": {
             "outlinewidth": 0,
             "tickcolor": "rgb(36,36,36)",
             "ticklen": 8,
             "ticks": "outside",
             "tickwidth": 2
            },
            "colorscale": [
             [
              0,
              "rgb(2,4,25)"
             ],
             [
              0.06274509803921569,
              "rgb(24,15,41)"
             ],
             [
              0.12549019607843137,
              "rgb(47,23,57)"
             ],
             [
              0.18823529411764706,
              "rgb(71,28,72)"
             ],
             [
              0.25098039215686274,
              "rgb(97,30,82)"
             ],
             [
              0.3137254901960784,
              "rgb(123,30,89)"
             ],
             [
              0.3764705882352941,
              "rgb(150,27,91)"
             ],
             [
              0.4392156862745098,
              "rgb(177,22,88)"
             ],
             [
              0.5019607843137255,
              "rgb(203,26,79)"
             ],
             [
              0.5647058823529412,
              "rgb(223,47,67)"
             ],
             [
              0.6274509803921569,
              "rgb(236,76,61)"
             ],
             [
              0.6901960784313725,
              "rgb(242,107,73)"
             ],
             [
              0.7529411764705882,
              "rgb(244,135,95)"
             ],
             [
              0.8156862745098039,
              "rgb(245,162,122)"
             ],
             [
              0.8784313725490196,
              "rgb(246,188,153)"
             ],
             [
              0.9411764705882353,
              "rgb(247,212,187)"
             ],
             [
              1,
              "rgb(250,234,220)"
             ]
            ],
            "type": "surface"
           }
          ],
          "table": [
           {
            "cells": {
             "fill": {
              "color": "rgb(231,231,240)"
             },
             "line": {
              "color": "white"
             }
            },
            "header": {
             "fill": {
              "color": "rgb(183,183,191)"
             },
             "line": {
              "color": "white"
             }
            },
            "type": "table"
           }
          ]
         },
         "layout": {
          "annotationdefaults": {
           "arrowcolor": "rgb(67,103,167)"
          },
          "autotypenumbers": "strict",
          "coloraxis": {
           "colorbar": {
            "outlinewidth": 0,
            "tickcolor": "rgb(36,36,36)",
            "ticklen": 8,
            "ticks": "outside",
            "tickwidth": 2
           }
          },
          "colorscale": {
           "sequential": [
            [
             0,
             "rgb(2,4,25)"
            ],
            [
             0.06274509803921569,
             "rgb(24,15,41)"
            ],
            [
             0.12549019607843137,
             "rgb(47,23,57)"
            ],
            [
             0.18823529411764706,
             "rgb(71,28,72)"
            ],
            [
             0.25098039215686274,
             "rgb(97,30,82)"
            ],
            [
             0.3137254901960784,
             "rgb(123,30,89)"
            ],
            [
             0.3764705882352941,
             "rgb(150,27,91)"
            ],
            [
             0.4392156862745098,
             "rgb(177,22,88)"
            ],
            [
             0.5019607843137255,
             "rgb(203,26,79)"
            ],
            [
             0.5647058823529412,
             "rgb(223,47,67)"
            ],
            [
             0.6274509803921569,
             "rgb(236,76,61)"
            ],
            [
             0.6901960784313725,
             "rgb(242,107,73)"
            ],
            [
             0.7529411764705882,
             "rgb(244,135,95)"
            ],
            [
             0.8156862745098039,
             "rgb(245,162,122)"
            ],
            [
             0.8784313725490196,
             "rgb(246,188,153)"
            ],
            [
             0.9411764705882353,
             "rgb(247,212,187)"
            ],
            [
             1,
             "rgb(250,234,220)"
            ]
           ],
           "sequentialminus": [
            [
             0,
             "rgb(2,4,25)"
            ],
            [
             0.06274509803921569,
             "rgb(24,15,41)"
            ],
            [
             0.12549019607843137,
             "rgb(47,23,57)"
            ],
            [
             0.18823529411764706,
             "rgb(71,28,72)"
            ],
            [
             0.25098039215686274,
             "rgb(97,30,82)"
            ],
            [
             0.3137254901960784,
             "rgb(123,30,89)"
            ],
            [
             0.3764705882352941,
             "rgb(150,27,91)"
            ],
            [
             0.4392156862745098,
             "rgb(177,22,88)"
            ],
            [
             0.5019607843137255,
             "rgb(203,26,79)"
            ],
            [
             0.5647058823529412,
             "rgb(223,47,67)"
            ],
            [
             0.6274509803921569,
             "rgb(236,76,61)"
            ],
            [
             0.6901960784313725,
             "rgb(242,107,73)"
            ],
            [
             0.7529411764705882,
             "rgb(244,135,95)"
            ],
            [
             0.8156862745098039,
             "rgb(245,162,122)"
            ],
            [
             0.8784313725490196,
             "rgb(246,188,153)"
            ],
            [
             0.9411764705882353,
             "rgb(247,212,187)"
            ],
            [
             1,
             "rgb(250,234,220)"
            ]
           ]
          },
          "colorway": [
           "rgb(76,114,176)",
           "rgb(221,132,82)",
           "rgb(85,168,104)",
           "rgb(196,78,82)",
           "rgb(129,114,179)",
           "rgb(147,120,96)",
           "rgb(218,139,195)",
           "rgb(140,140,140)",
           "rgb(204,185,116)",
           "rgb(100,181,205)"
          ],
          "font": {
           "color": "rgb(36,36,36)"
          },
          "geo": {
           "bgcolor": "white",
           "lakecolor": "white",
           "landcolor": "rgb(234,234,242)",
           "showlakes": true,
           "showland": true,
           "subunitcolor": "white"
          },
          "hoverlabel": {
           "align": "left"
          },
          "hovermode": "closest",
          "paper_bgcolor": "white",
          "plot_bgcolor": "rgb(234,234,242)",
          "polar": {
           "angularaxis": {
            "gridcolor": "white",
            "linecolor": "white",
            "showgrid": true,
            "ticks": ""
           },
           "bgcolor": "rgb(234,234,242)",
           "radialaxis": {
            "gridcolor": "white",
            "linecolor": "white",
            "showgrid": true,
            "ticks": ""
           }
          },
          "scene": {
           "xaxis": {
            "backgroundcolor": "rgb(234,234,242)",
            "gridcolor": "white",
            "gridwidth": 2,
            "linecolor": "white",
            "showbackground": true,
            "showgrid": true,
            "ticks": "",
            "zerolinecolor": "white"
           },
           "yaxis": {
            "backgroundcolor": "rgb(234,234,242)",
            "gridcolor": "white",
            "gridwidth": 2,
            "linecolor": "white",
            "showbackground": true,
            "showgrid": true,
            "ticks": "",
            "zerolinecolor": "white"
           },
           "zaxis": {
            "backgroundcolor": "rgb(234,234,242)",
            "gridcolor": "white",
            "gridwidth": 2,
            "linecolor": "white",
            "showbackground": true,
            "showgrid": true,
            "ticks": "",
            "zerolinecolor": "white"
           }
          },
          "shapedefaults": {
           "fillcolor": "rgb(67,103,167)",
           "line": {
            "width": 0
           },
           "opacity": 0.5
          },
          "ternary": {
           "aaxis": {
            "gridcolor": "white",
            "linecolor": "white",
            "showgrid": true,
            "ticks": ""
           },
           "baxis": {
            "gridcolor": "white",
            "linecolor": "white",
            "showgrid": true,
            "ticks": ""
           },
           "bgcolor": "rgb(234,234,242)",
           "caxis": {
            "gridcolor": "white",
            "linecolor": "white",
            "showgrid": true,
            "ticks": ""
           }
          },
          "xaxis": {
           "automargin": true,
           "gridcolor": "white",
           "linecolor": "white",
           "showgrid": true,
           "ticks": "",
           "title": {
            "standoff": 15
           },
           "zerolinecolor": "white"
          },
          "yaxis": {
           "automargin": true,
           "gridcolor": "white",
           "linecolor": "white",
           "showgrid": true,
           "ticks": "",
           "title": {
            "standoff": 15
           },
           "zerolinecolor": "white"
          }
         }
        },
        "title": {
         "text": "Распредление целевого признака (Prod)"
        },
        "xaxis": {
         "anchor": "y",
         "domain": [
          0,
          1
         ],
         "title": {
          "text": "добыча газа в сутки (млн. кубических футов)"
         }
        },
        "yaxis": {
         "anchor": "x",
         "domain": [
          0,
          1
         ],
         "title": {
          "text": "count"
         }
        }
       }
      }
     },
     "metadata": {},
     "output_type": "display_data"
    },
    {
     "name": "stdout",
     "output_type": "stream",
     "text": [
      "Обнаружение аномалий с помощью квантилей\n",
      "Количество аномалий 12\n",
      "\n",
      "Обнаружение аномалий с помощью IsolationForest\n",
      "Количество аномалий 32\n",
      "\n",
      "Количество аномалий, обнаруженных обоими методами : 10\n",
      "\n",
      "Коэффициент детерминации R^2        \n",
      "Или на сколько хорошо признак описывает изменения в зависимой переменной.        \n",
      "Чем ближе к 1 — тем сильнее линейная зависимость\n"
     ]
    },
    {
     "data": {
      "application/vnd.plotly.v1+json": {
       "config": {
        "plotlyServerURL": "https://plot.ly"
       },
       "data": [
        {
         "hovertemplate": "пористость скважины (%)=%{x}<br>Prod=%{y}<extra></extra>",
         "legendgroup": "",
         "marker": {
          "color": "rgb(76,114,176)",
          "symbol": "circle"
         },
         "mode": "markers",
         "name": "",
         "orientation": "v",
         "showlegend": false,
         "type": "scatter",
         "x": {
          "bdata": "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",
          "dtype": "f8"
         },
         "xaxis": "x",
         "y": {
          "bdata": "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",
          "dtype": "f8"
         },
         "yaxis": "y"
        },
        {
         "hovertemplate": "<b>OLS trendline</b><br>y = 287.781 * x + -2.94443<br>R<sup>2</sup>=0.742888<br><br>пористость скважины (%)=%{x}<br>Prod=%{y} <b>(trend)</b><extra></extra>",
         "legendgroup": "",
         "marker": {
          "color": "rgb(76,114,176)",
          "symbol": "circle"
         },
         "mode": "lines",
         "name": "",
         "showlegend": false,
         "type": "scatter",
         "x": {
          "bdata": "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",
          "dtype": "f8"
         },
         "xaxis": "x",
         "y": {
          "bdata": "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",
          "dtype": "f8"
         },
         "yaxis": "y"
        }
       ],
       "layout": {
        "legend": {
         "tracegroupgap": 0
        },
        "template": {
         "data": {
          "bar": [
           {
            "error_x": {
             "color": "rgb(36,36,36)"
            },
            "error_y": {
             "color": "rgb(36,36,36)"
            },
            "marker": {
             "line": {
              "color": "rgb(234,234,242)",
              "width": 0.5
             },
             "pattern": {
              "fillmode": "overlay",
              "size": 10,
              "solidity": 0.2
             }
            },
            "type": "bar"
           }
          ],
          "barpolar": [
           {
            "marker": {
             "line": {
              "color": "rgb(234,234,242)",
              "width": 0.5
             },
             "pattern": {
              "fillmode": "overlay",
              "size": 10,
              "solidity": 0.2
             }
            },
            "type": "barpolar"
           }
          ],
          "carpet": [
           {
            "aaxis": {
             "endlinecolor": "rgb(36,36,36)",
             "gridcolor": "white",
             "linecolor": "white",
             "minorgridcolor": "white",
             "startlinecolor": "rgb(36,36,36)"
            },
            "baxis": {
             "endlinecolor": "rgb(36,36,36)",
             "gridcolor": "white",
             "linecolor": "white",
             "minorgridcolor": "white",
             "startlinecolor": "rgb(36,36,36)"
            },
            "type": "carpet"
           }
          ],
          "choropleth": [
           {
            "colorbar": {
             "outlinewidth": 0,
             "tickcolor": "rgb(36,36,36)",
             "ticklen": 8,
             "ticks": "outside",
             "tickwidth": 2
            },
            "type": "choropleth"
           }
          ],
          "contour": [
           {
            "colorbar": {
             "outlinewidth": 0,
             "tickcolor": "rgb(36,36,36)",
             "ticklen": 8,
             "ticks": "outside",
             "tickwidth": 2
            },
            "colorscale": [
             [
              0,
              "rgb(2,4,25)"
             ],
             [
              0.06274509803921569,
              "rgb(24,15,41)"
             ],
             [
              0.12549019607843137,
              "rgb(47,23,57)"
             ],
             [
              0.18823529411764706,
              "rgb(71,28,72)"
             ],
             [
              0.25098039215686274,
              "rgb(97,30,82)"
             ],
             [
              0.3137254901960784,
              "rgb(123,30,89)"
             ],
             [
              0.3764705882352941,
              "rgb(150,27,91)"
             ],
             [
              0.4392156862745098,
              "rgb(177,22,88)"
             ],
             [
              0.5019607843137255,
              "rgb(203,26,79)"
             ],
             [
              0.5647058823529412,
              "rgb(223,47,67)"
             ],
             [
              0.6274509803921569,
              "rgb(236,76,61)"
             ],
             [
              0.6901960784313725,
              "rgb(242,107,73)"
             ],
             [
              0.7529411764705882,
              "rgb(244,135,95)"
             ],
             [
              0.8156862745098039,
              "rgb(245,162,122)"
             ],
             [
              0.8784313725490196,
              "rgb(246,188,153)"
             ],
             [
              0.9411764705882353,
              "rgb(247,212,187)"
             ],
             [
              1,
              "rgb(250,234,220)"
             ]
            ],
            "type": "contour"
           }
          ],
          "contourcarpet": [
           {
            "colorbar": {
             "outlinewidth": 0,
             "tickcolor": "rgb(36,36,36)",
             "ticklen": 8,
             "ticks": "outside",
             "tickwidth": 2
            },
            "type": "contourcarpet"
           }
          ],
          "heatmap": [
           {
            "colorbar": {
             "outlinewidth": 0,
             "tickcolor": "rgb(36,36,36)",
             "ticklen": 8,
             "ticks": "outside",
             "tickwidth": 2
            },
            "colorscale": [
             [
              0,
              "rgb(2,4,25)"
             ],
             [
              0.06274509803921569,
              "rgb(24,15,41)"
             ],
             [
              0.12549019607843137,
              "rgb(47,23,57)"
             ],
             [
              0.18823529411764706,
              "rgb(71,28,72)"
             ],
             [
              0.25098039215686274,
              "rgb(97,30,82)"
             ],
             [
              0.3137254901960784,
              "rgb(123,30,89)"
             ],
             [
              0.3764705882352941,
              "rgb(150,27,91)"
             ],
             [
              0.4392156862745098,
              "rgb(177,22,88)"
             ],
             [
              0.5019607843137255,
              "rgb(203,26,79)"
             ],
             [
              0.5647058823529412,
              "rgb(223,47,67)"
             ],
             [
              0.6274509803921569,
              "rgb(236,76,61)"
             ],
             [
              0.6901960784313725,
              "rgb(242,107,73)"
             ],
             [
              0.7529411764705882,
              "rgb(244,135,95)"
             ],
             [
              0.8156862745098039,
              "rgb(245,162,122)"
             ],
             [
              0.8784313725490196,
              "rgb(246,188,153)"
             ],
             [
              0.9411764705882353,
              "rgb(247,212,187)"
             ],
             [
              1,
              "rgb(250,234,220)"
             ]
            ],
            "type": "heatmap"
           }
          ],
          "histogram": [
           {
            "marker": {
             "pattern": {
              "fillmode": "overlay",
              "size": 10,
              "solidity": 0.2
             }
            },
            "type": "histogram"
           }
          ],
          "histogram2d": [
           {
            "colorbar": {
             "outlinewidth": 0,
             "tickcolor": "rgb(36,36,36)",
             "ticklen": 8,
             "ticks": "outside",
             "tickwidth": 2
            },
            "colorscale": [
             [
              0,
              "rgb(2,4,25)"
             ],
             [
              0.06274509803921569,
              "rgb(24,15,41)"
             ],
             [
              0.12549019607843137,
              "rgb(47,23,57)"
             ],
             [
              0.18823529411764706,
              "rgb(71,28,72)"
             ],
             [
              0.25098039215686274,
              "rgb(97,30,82)"
             ],
             [
              0.3137254901960784,
              "rgb(123,30,89)"
             ],
             [
              0.3764705882352941,
              "rgb(150,27,91)"
             ],
             [
              0.4392156862745098,
              "rgb(177,22,88)"
             ],
             [
              0.5019607843137255,
              "rgb(203,26,79)"
             ],
             [
              0.5647058823529412,
              "rgb(223,47,67)"
             ],
             [
              0.6274509803921569,
              "rgb(236,76,61)"
             ],
             [
              0.6901960784313725,
              "rgb(242,107,73)"
             ],
             [
              0.7529411764705882,
              "rgb(244,135,95)"
             ],
             [
              0.8156862745098039,
              "rgb(245,162,122)"
             ],
             [
              0.8784313725490196,
              "rgb(246,188,153)"
             ],
             [
              0.9411764705882353,
              "rgb(247,212,187)"
             ],
             [
              1,
              "rgb(250,234,220)"
             ]
            ],
            "type": "histogram2d"
           }
          ],
          "histogram2dcontour": [
           {
            "colorbar": {
             "outlinewidth": 0,
             "tickcolor": "rgb(36,36,36)",
             "ticklen": 8,
             "ticks": "outside",
             "tickwidth": 2
            },
            "colorscale": [
             [
              0,
              "rgb(2,4,25)"
             ],
             [
              0.06274509803921569,
              "rgb(24,15,41)"
             ],
             [
              0.12549019607843137,
              "rgb(47,23,57)"
             ],
             [
              0.18823529411764706,
              "rgb(71,28,72)"
             ],
             [
              0.25098039215686274,
              "rgb(97,30,82)"
             ],
             [
              0.3137254901960784,
              "rgb(123,30,89)"
             ],
             [
              0.3764705882352941,
              "rgb(150,27,91)"
             ],
             [
              0.4392156862745098,
              "rgb(177,22,88)"
             ],
             [
              0.5019607843137255,
              "rgb(203,26,79)"
             ],
             [
              0.5647058823529412,
              "rgb(223,47,67)"
             ],
             [
              0.6274509803921569,
              "rgb(236,76,61)"
             ],
             [
              0.6901960784313725,
              "rgb(242,107,73)"
             ],
             [
              0.7529411764705882,
              "rgb(244,135,95)"
             ],
             [
              0.8156862745098039,
              "rgb(245,162,122)"
             ],
             [
              0.8784313725490196,
              "rgb(246,188,153)"
             ],
             [
              0.9411764705882353,
              "rgb(247,212,187)"
             ],
             [
              1,
              "rgb(250,234,220)"
             ]
            ],
            "type": "histogram2dcontour"
           }
          ],
          "mesh3d": [
           {
            "colorbar": {
             "outlinewidth": 0,
             "tickcolor": "rgb(36,36,36)",
             "ticklen": 8,
             "ticks": "outside",
             "tickwidth": 2
            },
            "type": "mesh3d"
           }
          ],
          "parcoords": [
           {
            "line": {
             "colorbar": {
              "outlinewidth": 0,
              "tickcolor": "rgb(36,36,36)",
              "ticklen": 8,
              "ticks": "outside",
              "tickwidth": 2
             }
            },
            "type": "parcoords"
           }
          ],
          "pie": [
           {
            "automargin": true,
            "type": "pie"
           }
          ],
          "scatter": [
           {
            "fillpattern": {
             "fillmode": "overlay",
             "size": 10,
             "solidity": 0.2
            },
            "type": "scatter"
           }
          ],
          "scatter3d": [
           {
            "line": {
             "colorbar": {
              "outlinewidth": 0,
              "tickcolor": "rgb(36,36,36)",
              "ticklen": 8,
              "ticks": "outside",
              "tickwidth": 2
             }
            },
            "marker": {
             "colorbar": {
              "outlinewidth": 0,
              "tickcolor": "rgb(36,36,36)",
              "ticklen": 8,
              "ticks": "outside",
              "tickwidth": 2
             }
            },
            "type": "scatter3d"
           }
          ],
          "scattercarpet": [
           {
            "marker": {
             "colorbar": {
              "outlinewidth": 0,
              "tickcolor": "rgb(36,36,36)",
              "ticklen": 8,
              "ticks": "outside",
              "tickwidth": 2
             }
            },
            "type": "scattercarpet"
           }
          ],
          "scattergeo": [
           {
            "marker": {
             "colorbar": {
              "outlinewidth": 0,
              "tickcolor": "rgb(36,36,36)",
              "ticklen": 8,
              "ticks": "outside",
              "tickwidth": 2
             }
            },
            "type": "scattergeo"
           }
          ],
          "scattergl": [
           {
            "marker": {
             "colorbar": {
              "outlinewidth": 0,
              "tickcolor": "rgb(36,36,36)",
              "ticklen": 8,
              "ticks": "outside",
              "tickwidth": 2
             }
            },
            "type": "scattergl"
           }
          ],
          "scattermap": [
           {
            "marker": {
             "colorbar": {
              "outlinewidth": 0,
              "tickcolor": "rgb(36,36,36)",
              "ticklen": 8,
              "ticks": "outside",
              "tickwidth": 2
             }
            },
            "type": "scattermap"
           }
          ],
          "scattermapbox": [
           {
            "marker": {
             "colorbar": {
              "outlinewidth": 0,
              "tickcolor": "rgb(36,36,36)",
              "ticklen": 8,
              "ticks": "outside",
              "tickwidth": 2
             }
            },
            "type": "scattermapbox"
           }
          ],
          "scatterpolar": [
           {
            "marker": {
             "colorbar": {
              "outlinewidth": 0,
              "tickcolor": "rgb(36,36,36)",
              "ticklen": 8,
              "ticks": "outside",
              "tickwidth": 2
             }
            },
            "type": "scatterpolar"
           }
          ],
          "scatterpolargl": [
           {
            "marker": {
             "colorbar": {
              "outlinewidth": 0,
              "tickcolor": "rgb(36,36,36)",
              "ticklen": 8,
              "ticks": "outside",
              "tickwidth": 2
             }
            },
            "type": "scatterpolargl"
           }
          ],
          "scatterternary": [
           {
            "marker": {
             "colorbar": {
              "outlinewidth": 0,
              "tickcolor": "rgb(36,36,36)",
              "ticklen": 8,
              "ticks": "outside",
              "tickwidth": 2
             }
            },
            "type": "scatterternary"
           }
          ],
          "surface": [
           {
            "colorbar": {
             "outlinewidth": 0,
             "tickcolor": "rgb(36,36,36)",
             "ticklen": 8,
             "ticks": "outside",
             "tickwidth": 2
            },
            "colorscale": [
             [
              0,
              "rgb(2,4,25)"
             ],
             [
              0.06274509803921569,
              "rgb(24,15,41)"
             ],
             [
              0.12549019607843137,
              "rgb(47,23,57)"
             ],
             [
              0.18823529411764706,
              "rgb(71,28,72)"
             ],
             [
              0.25098039215686274,
              "rgb(97,30,82)"
             ],
             [
              0.3137254901960784,
              "rgb(123,30,89)"
             ],
             [
              0.3764705882352941,
              "rgb(150,27,91)"
             ],
             [
              0.4392156862745098,
              "rgb(177,22,88)"
             ],
             [
              0.5019607843137255,
              "rgb(203,26,79)"
             ],
             [
              0.5647058823529412,
              "rgb(223,47,67)"
             ],
             [
              0.6274509803921569,
              "rgb(236,76,61)"
             ],
             [
              0.6901960784313725,
              "rgb(242,107,73)"
             ],
             [
              0.7529411764705882,
              "rgb(244,135,95)"
             ],
             [
              0.8156862745098039,
              "rgb(245,162,122)"
             ],
             [
              0.8784313725490196,
              "rgb(246,188,153)"
             ],
             [
              0.9411764705882353,
              "rgb(247,212,187)"
             ],
             [
              1,
              "rgb(250,234,220)"
             ]
            ],
            "type": "surface"
           }
          ],
          "table": [
           {
            "cells": {
             "fill": {
              "color": "rgb(231,231,240)"
             },
             "line": {
              "color": "white"
             }
            },
            "header": {
             "fill": {
              "color": "rgb(183,183,191)"
             },
             "line": {
              "color": "white"
             }
            },
            "type": "table"
           }
          ]
         },
         "layout": {
          "annotationdefaults": {
           "arrowcolor": "rgb(67,103,167)"
          },
          "autotypenumbers": "strict",
          "coloraxis": {
           "colorbar": {
            "outlinewidth": 0,
            "tickcolor": "rgb(36,36,36)",
            "ticklen": 8,
            "ticks": "outside",
            "tickwidth": 2
           }
          },
          "colorscale": {
           "sequential": [
            [
             0,
             "rgb(2,4,25)"
            ],
            [
             0.06274509803921569,
             "rgb(24,15,41)"
            ],
            [
             0.12549019607843137,
             "rgb(47,23,57)"
            ],
            [
             0.18823529411764706,
             "rgb(71,28,72)"
            ],
            [
             0.25098039215686274,
             "rgb(97,30,82)"
            ],
            [
             0.3137254901960784,
             "rgb(123,30,89)"
            ],
            [
             0.3764705882352941,
             "rgb(150,27,91)"
            ],
            [
             0.4392156862745098,
             "rgb(177,22,88)"
            ],
            [
             0.5019607843137255,
             "rgb(203,26,79)"
            ],
            [
             0.5647058823529412,
             "rgb(223,47,67)"
            ],
            [
             0.6274509803921569,
             "rgb(236,76,61)"
            ],
            [
             0.6901960784313725,
             "rgb(242,107,73)"
            ],
            [
             0.7529411764705882,
             "rgb(244,135,95)"
            ],
            [
             0.8156862745098039,
             "rgb(245,162,122)"
            ],
            [
             0.8784313725490196,
             "rgb(246,188,153)"
            ],
            [
             0.9411764705882353,
             "rgb(247,212,187)"
            ],
            [
             1,
             "rgb(250,234,220)"
            ]
           ],
           "sequentialminus": [
            [
             0,
             "rgb(2,4,25)"
            ],
            [
             0.06274509803921569,
             "rgb(24,15,41)"
            ],
            [
             0.12549019607843137,
             "rgb(47,23,57)"
            ],
            [
             0.18823529411764706,
             "rgb(71,28,72)"
            ],
            [
             0.25098039215686274,
             "rgb(97,30,82)"
            ],
            [
             0.3137254901960784,
             "rgb(123,30,89)"
            ],
            [
             0.3764705882352941,
             "rgb(150,27,91)"
            ],
            [
             0.4392156862745098,
             "rgb(177,22,88)"
            ],
            [
             0.5019607843137255,
             "rgb(203,26,79)"
            ],
            [
             0.5647058823529412,
             "rgb(223,47,67)"
            ],
            [
             0.6274509803921569,
             "rgb(236,76,61)"
            ],
            [
             0.6901960784313725,
             "rgb(242,107,73)"
            ],
            [
             0.7529411764705882,
             "rgb(244,135,95)"
            ],
            [
             0.8156862745098039,
             "rgb(245,162,122)"
            ],
            [
             0.8784313725490196,
             "rgb(246,188,153)"
            ],
            [
             0.9411764705882353,
             "rgb(247,212,187)"
            ],
            [
             1,
             "rgb(250,234,220)"
            ]
           ]
          },
          "colorway": [
           "rgb(76,114,176)",
           "rgb(221,132,82)",
           "rgb(85,168,104)",
           "rgb(196,78,82)",
           "rgb(129,114,179)",
           "rgb(147,120,96)",
           "rgb(218,139,195)",
           "rgb(140,140,140)",
           "rgb(204,185,116)",
           "rgb(100,181,205)"
          ],
          "font": {
           "color": "rgb(36,36,36)"
          },
          "geo": {
           "bgcolor": "white",
           "lakecolor": "white",
           "landcolor": "rgb(234,234,242)",
           "showlakes": true,
           "showland": true,
           "subunitcolor": "white"
          },
          "hoverlabel": {
           "align": "left"
          },
          "hovermode": "closest",
          "paper_bgcolor": "white",
          "plot_bgcolor": "rgb(234,234,242)",
          "polar": {
           "angularaxis": {
            "gridcolor": "white",
            "linecolor": "white",
            "showgrid": true,
            "ticks": ""
           },
           "bgcolor": "rgb(234,234,242)",
           "radialaxis": {
            "gridcolor": "white",
            "linecolor": "white",
            "showgrid": true,
            "ticks": ""
           }
          },
          "scene": {
           "xaxis": {
            "backgroundcolor": "rgb(234,234,242)",
            "gridcolor": "white",
            "gridwidth": 2,
            "linecolor": "white",
            "showbackground": true,
            "showgrid": true,
            "ticks": "",
            "zerolinecolor": "white"
           },
           "yaxis": {
            "backgroundcolor": "rgb(234,234,242)",
            "gridcolor": "white",
            "gridwidth": 2,
            "linecolor": "white",
            "showbackground": true,
            "showgrid": true,
            "ticks": "",
            "zerolinecolor": "white"
           },
           "zaxis": {
            "backgroundcolor": "rgb(234,234,242)",
            "gridcolor": "white",
            "gridwidth": 2,
            "linecolor": "white",
            "showbackground": true,
            "showgrid": true,
            "ticks": "",
            "zerolinecolor": "white"
           }
          },
          "shapedefaults": {
           "fillcolor": "rgb(67,103,167)",
           "line": {
            "width": 0
           },
           "opacity": 0.5
          },
          "ternary": {
           "aaxis": {
            "gridcolor": "white",
            "linecolor": "white",
            "showgrid": true,
            "ticks": ""
           },
           "baxis": {
            "gridcolor": "white",
            "linecolor": "white",
            "showgrid": true,
            "ticks": ""
           },
           "bgcolor": "rgb(234,234,242)",
           "caxis": {
            "gridcolor": "white",
            "linecolor": "white",
            "showgrid": true,
            "ticks": ""
           }
          },
          "xaxis": {
           "automargin": true,
           "gridcolor": "white",
           "linecolor": "white",
           "showgrid": true,
           "ticks": "",
           "title": {
            "standoff": 15
           },
           "zerolinecolor": "white"
          },
          "yaxis": {
           "automargin": true,
           "gridcolor": "white",
           "linecolor": "white",
           "showgrid": true,
           "ticks": "",
           "title": {
            "standoff": 15
           },
           "zerolinecolor": "white"
          }
         }
        },
        "title": {
         "text": "Признак Por"
        },
        "xaxis": {
         "anchor": "y",
         "domain": [
          0,
          1
         ],
         "title": {
          "text": "пористость скважины (%)"
         }
        },
        "yaxis": {
         "anchor": "x",
         "domain": [
          0,
          1
         ],
         "title": {
          "text": "Prod"
         }
        }
       }
      }
     },
     "metadata": {},
     "output_type": "display_data"
    },
    {
     "name": "stdout",
     "output_type": "stream",
     "text": [
      "Коэффициент детерминации: 0.723799999228139\n"
     ]
    },
    {
     "data": {
      "application/vnd.plotly.v1+json": {
       "config": {
        "plotlyServerURL": "https://plot.ly"
       },
       "data": [
        {
         "hovertemplate": "проницаемость скважины (мД)=%{x}<br>Prod=%{y}<extra></extra>",
         "legendgroup": "",
         "marker": {
          "color": "rgb(76,114,176)",
          "symbol": "circle"
         },
         "mode": "markers",
         "name": "",
         "orientation": "v",
         "showlegend": false,
         "type": "scatter",
         "x": {
          "bdata": "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",
          "dtype": "f8"
         },
         "xaxis": "x",
         "y": {
          "bdata": "xciSOTJFsEAGu2HbStKrQDxKJTxZvLBA3EduTa7qs0C5T44CRJyqQGEb8WTDK7FADhE3p2YIsEBqM05DfFGrQMl1U8qzc69AtW/urwa9sECk/KTai1OyQBKI1/UzCLRA5WGh1vD5s0B5OleUbqq1QFpmEYqR47BAU+dR8fenq0CE8j6O5jG1QAIQd/USqK1APIOG/pW2sUARkC+h0ratQPAYHvvZkrZAiBBXzk6jskDUgaynJmyjQKYNh6XhpqNAeqcC7kGet0A826M3lF6iQGluhbD6a7NAcctHUjo/r0Dk+KHS+JClQDPABdlS461Arn5skr/jtkAce/Zc9n+tQAte9BWUhq5ACoLHtzsWsEBzofKvhUqsQCyazk5OPaVA3IDPD/MwrEA+B5YjoIG0QLnfoSiIj7BAb/YHyj13sUDdXz3uMwuxQAmLijgBj7FAUaIlj980qEAQP/89mOqkQKYO8nrgk7ZAieqtgc0VqUDvHqD7ei6nQDm0yHam36JAoN/3bwq7tUA3NjtSJdm0QN4dGauJJrZAEOoihVoLt0CVRPZBEvmxQHJRLSJCOq1AfCk8aPrltUCy2CYV/d+vQDlhwmgOlahA+wYmN6rXrEAwYwrWEK2rQBiXqrQdA69Ac/c5PgbbtkAzNJ4IiiutQHLFxVHp9LVAXmQCfqnfsECs4LchcvS1QC7IluXnT7FAwFsgQZFgqkD8471q9T+vQHR8tDh38LBA6uxkcDRurUDG3/YEOdmoQEMAcOyN4LBAIJkOnY58sECE2JlCD++vQKzlzkx4ybRA+1ksRRKlt0AUsYhhz0a1QMdHizNm7ahAIgA49mi0sEBmLQWkQY61QHL75ZMly7FAxOv6BUuJsUB6NNWTyd+wQMLaGDslEbBA5KJaRIxdpUDToGgeaC6wQP65aMgscLBA9bpFYOynsUADB7R0bUiqQIxJfy9F1atAB7KeWnW8rUC7KlCLoY6gQHiXi/i2DbNA0A64rsgPrED2fM1yOVyyQFK13QTz5rRAHVVNEMmetEDsLlBSDDe5QBoxs8/jr6xAlufB3e1Us0Bpqbwd5XCxQOGaO/q/R69ALA38qB5gqkBsPxnj+yGuQAbYR6duUbJAdbFppVCMskAdHVcj22SuQHMTtTT3fbJA648wDCRQuUDCbW3h9Y+yQHTtC+iZTbFAopi8ATbfrECTyamdNda0QBeARunyG7hAmX/0TSpEtECp9ul4nDW1QNBf6BHzXrBAF/GdmBXhsEB1sP7PCZ2pQHHMsichwLVAHF4QkYqZskDS4/c2FTCoQJKumXzrYLdAVAH3POcmr0CHwJFAq/OzQA9EFmnG7rFAF9UiougqsUCAgLVqK8GyQOl+TkGWFrBATrhX5t1lrUA+zF62MeexQESHwJFwibRAzxPP2Yp0qUDIBz2bZSCzQPAw7ZsDmaNAtmgB2v6OrEAs9SwIOcywQL5r0Jdm1rFANpVFYUd2oEANqDejBiqvQLGiBtNgD7dAxEMYPwGksEDhe3+D5my3QLX9Kyv9+ahAqruyC158sUA6svLLzP2xQGu7Cb7JVLBAP417818YtUDM0k7NldyuQHH/kenwtKpALNUFvLwjpUDr/xzm+yapQGoTJ/eD57VARWYucFHbs0C4H/DAUBqqQK0x6ITgNq5ARKSmXfj9tUC29j5VEfuyQCv7rgh2+a9AsMdESisKt0B9BWnGlt2zQPsjDAPidrFAdqVlpP6nrkApBkg0sQWrQE3WqIeAW69AYabtX5k3tEAQkZp2tfu4QLx2acOh3ahAxjAnaA/+skAn2H+d8/mmQAkyAipEzqVAW9B7Y1BJtUAv4GWG3a6nQAnGwaXLCKtAa4DSUEs+sECZhAt5QFmxQOrL0k7tC6pA/KpcqPQHpkBVT+Yfyfi2QEV/aOaJdKJAnUoGgBLCsED1SlmGODCwQPvKg/QUi6hAuM1UiLc8tkBiFASPX9+wQCP430oOx7JARL+2fsJ3rkDLnC6LeauqQFipoKK2IbFA8WYN3rPDsEB/FHXmrp6qQJtWCoGMF6FABkg0gUYLt0D6XkNw3B+uQIyfxr19cbVA1lWBWiQPrkDo2EElOuG1QKio+pUmo6pAXK0Tl5ffs0CFlJ9Unwa6QA==",
          "dtype": "f8"
         },
         "yaxis": "y"
        },
        {
         "hovertemplate": "<b>OLS trendline</b><br>y = 416.885 * x + 2505.79<br>R<sup>2</sup>=0.529149<br><br>проницаемость скважины (мД)=%{x}<br>Prod=%{y} <b>(trend)</b><extra></extra>",
         "legendgroup": "",
         "marker": {
          "color": "rgb(76,114,176)",
          "symbol": "circle"
         },
         "mode": "lines",
         "name": "",
         "showlegend": false,
         "type": "scatter",
         "x": {
          "bdata": "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",
          "dtype": "f8"
         },
         "xaxis": "x",
         "y": {
          "bdata": "FJHNTL9Bp0AlF/x0ijOoQP2T2S2RZahA82Heh0vaqECm9JbM+wOpQFqHTxGsLalAWodPEawtqUB+cXSFAjapQJgpnlMTs6lAmCmeUxOzqUCYKZ5TE7OpQJgpnlMTs6lAaw1+OXcfqkCFxacHiJyqQM2Z8e80rapAgCyqNOXWqkAQ1T0FP/iqQFMQihpJQ6tAv874dkxcq0C/zvh2TFyrQL/O+HZMXKtAv874dkxcq0AGo0Jf+WyrQAIKRYxWp6tAbciz6FnAq0C1nP3QBtGrQCFbbC0K6qtAIVtsLQrqq0CMGduJDQOsQNTtJHK6E6xAQKyTzr0srECIgN22aj2sQIiA3bZqPaxA9D5ME25WrEBg/bpvcW+sQGD9um9xb6xAYP26b3FvrEBg/bpvcW+sQMu7Kcx0iKxAy7spzHSIrEAtSJ2CMhatQC1InYIyFq1ALUidgjIWrUAtSJ2CMhatQHQc52rfJq1AdBznat8mrUBMmcQj5litQLhXM4Dpca1AJBai3OyKrUCzvjWtRqytQB59pAlKxa1AHn2kCUrFrUAefaQJSsWtQPb5gcJQ961A9vmBwlD3rUBiuPAeVBCuQGK48B5UEK5AzXZfe1cprkBdH/NLsUquQF0f80uxSq5AXR/zS7FKrkDI3WGotGOuQDSc0AS4fK5AxERk1RGerkC/q2YCb9iuQCtq1V5y8a5AK2rVXnLxrkAratVecvGuQCtq1V5y8a5AuhJpL8wSr0C6EmkvzBKvQCbR14vPK69AtnlrXClNr0C2eWtcKU2vQLZ5a1wpTa9AITjauCxmr0Cw4G2JhoevQLDgbYmGh69AsOBtiYaHr0Cw4G2JhoevQECJAVrgqK9AO/ADhz3jr0A78AOHPeOvQDvwA4c9469AZszLq0sCsEBmzMurSwKwQGbMy6tLArBAraAVlPgSsECtoBWU+BKwQK2gFZT4ErBA9XRffKUjsED1dF98pSOwQPV0X3ylI7BA9XRffKUjsEA9SalkUjSwQD1JqWRSNLBAc6jgEtRAsEC6fCr7gFGwQLp8KvuAUbBAunwq+4BRsEAUxoYdWWawQBTGhh1ZZrBAXJrQBQZ3sEBcmtAFBnewQKRuGu6yh7BAMxeuvgypsEAzF66+DKmwQHvr96a5ubBAe+v3prm5sEB76/emubmwQNQ0VMmRzrBAHAmesT7fsEBk3eeZ6++wQGTd55nr77BAviZEvMMEsUAG+42kcBWxQAb7jaRwFbFABvuNpHAVsUAG+42kcBWxQGBE6sZIKrFAYETqxkgqsUCoGDSv9TqxQKgYNK/1OrFAqBg0r/U6sUABYpDRzU+xQAFikNHNT7FASTbauXpgsUBJNtq5emCxQEk22rl6YLFASTbauXpgsUBJNtq5emCxQFYS7yADn7FAVhLvIAOfsUCe5jgJsK+xQFJ58U1g2bFAUnnxTWDZsUCrwk1wOO6xQKvCTXA47rFAq8JNcDjusUCrwk1wOO6xQAQMqpIQA7JABAyqkhADskAEDKqSEAOyQF5VBrXoF7JAXlUGtegXskBeVQa16BeyQMoTdRHsMLJAyhN1EewwskB+pi1WnFqyQH6mLVacWrJAQ6741HeIskBDrvjUd4iyQEOu+NR3iLJAnPdU90+dskCc91T3T52yQJz3VPdPnbJAnPdU90+dskC8SHyYA+CyQLxIfJgD4LJAk8VZUQoSs0CTxVlRChKzQJPFWVEKErNAk8VZUQoSs0CTxVlRChKzQO0OtnPiJrNAWM0k0OU/s0BYzSTQ5T+zQDBKAonscbNAMEoCiexxs0AwSgKJ7HGzQDBKAonscbNAnAhx5e+Ks0CcCHHl74qzQAfH30Hzo7NA3kO9+vnVs0DINa3tKwy0QMg1re0rDLRANPQbSi8ltECfsoqmMj60QAbY+y+TkbRAhAt9xsGutEDwyesixce0QG39bLnz5LRAbf1sufPktEBoZG/mUB+1QOaX8Hx/PLVAZMtxE65ZtUBky3ETrlm1QOpBCj7C77VAeeqdDhwRtkClF9oWWJK2QLLz7n3g0LZAc2K8KRk5t0ACC1D6clq3QJKz48rMe7dALkmo8E7JuEAkF61KCT65QMY0U1WOY7lALFrE3u62uUDOd2rpc9y5QA==",
          "dtype": "f8"
         },
         "yaxis": "y"
        }
       ],
       "layout": {
        "legend": {
         "tracegroupgap": 0
        },
        "template": {
         "data": {
          "bar": [
           {
            "error_x": {
             "color": "rgb(36,36,36)"
            },
            "error_y": {
             "color": "rgb(36,36,36)"
            },
            "marker": {
             "line": {
              "color": "rgb(234,234,242)",
              "width": 0.5
             },
             "pattern": {
              "fillmode": "overlay",
              "size": 10,
              "solidity": 0.2
             }
            },
            "type": "bar"
           }
          ],
          "barpolar": [
           {
            "marker": {
             "line": {
              "color": "rgb(234,234,242)",
              "width": 0.5
             },
             "pattern": {
              "fillmode": "overlay",
              "size": 10,
              "solidity": 0.2
             }
            },
            "type": "barpolar"
           }
          ],
          "carpet": [
           {
            "aaxis": {
             "endlinecolor": "rgb(36,36,36)",
             "gridcolor": "white",
             "linecolor": "white",
             "minorgridcolor": "white",
             "startlinecolor": "rgb(36,36,36)"
            },
            "baxis": {
             "endlinecolor": "rgb(36,36,36)",
             "gridcolor": "white",
             "linecolor": "white",
             "minorgridcolor": "white",
             "startlinecolor": "rgb(36,36,36)"
            },
            "type": "carpet"
           }
          ],
          "choropleth": [
           {
            "colorbar": {
             "outlinewidth": 0,
             "tickcolor": "rgb(36,36,36)",
             "ticklen": 8,
             "ticks": "outside",
             "tickwidth": 2
            },
            "type": "choropleth"
           }
          ],
          "contour": [
           {
            "colorbar": {
             "outlinewidth": 0,
             "tickcolor": "rgb(36,36,36)",
             "ticklen": 8,
             "ticks": "outside",
             "tickwidth": 2
            },
            "colorscale": [
             [
              0,
              "rgb(2,4,25)"
             ],
             [
              0.06274509803921569,
              "rgb(24,15,41)"
             ],
             [
              0.12549019607843137,
              "rgb(47,23,57)"
             ],
             [
              0.18823529411764706,
              "rgb(71,28,72)"
             ],
             [
              0.25098039215686274,
              "rgb(97,30,82)"
             ],
             [
              0.3137254901960784,
              "rgb(123,30,89)"
             ],
             [
              0.3764705882352941,
              "rgb(150,27,91)"
             ],
             [
              0.4392156862745098,
              "rgb(177,22,88)"
             ],
             [
              0.5019607843137255,
              "rgb(203,26,79)"
             ],
             [
              0.5647058823529412,
              "rgb(223,47,67)"
             ],
             [
              0.6274509803921569,
              "rgb(236,76,61)"
             ],
             [
              0.6901960784313725,
              "rgb(242,107,73)"
             ],
             [
              0.7529411764705882,
              "rgb(244,135,95)"
             ],
             [
              0.8156862745098039,
              "rgb(245,162,122)"
             ],
             [
              0.8784313725490196,
              "rgb(246,188,153)"
             ],
             [
              0.9411764705882353,
              "rgb(247,212,187)"
             ],
             [
              1,
              "rgb(250,234,220)"
             ]
            ],
            "type": "contour"
           }
          ],
          "contourcarpet": [
           {
            "colorbar": {
             "outlinewidth": 0,
             "tickcolor": "rgb(36,36,36)",
             "ticklen": 8,
             "ticks": "outside",
             "tickwidth": 2
            },
            "type": "contourcarpet"
           }
          ],
          "heatmap": [
           {
            "colorbar": {
             "outlinewidth": 0,
             "tickcolor": "rgb(36,36,36)",
             "ticklen": 8,
             "ticks": "outside",
             "tickwidth": 2
            },
            "colorscale": [
             [
              0,
              "rgb(2,4,25)"
             ],
             [
              0.06274509803921569,
              "rgb(24,15,41)"
             ],
             [
              0.12549019607843137,
              "rgb(47,23,57)"
             ],
             [
              0.18823529411764706,
              "rgb(71,28,72)"
             ],
             [
              0.25098039215686274,
              "rgb(97,30,82)"
             ],
             [
              0.3137254901960784,
              "rgb(123,30,89)"
             ],
             [
              0.3764705882352941,
              "rgb(150,27,91)"
             ],
             [
              0.4392156862745098,
              "rgb(177,22,88)"
             ],
             [
              0.5019607843137255,
              "rgb(203,26,79)"
             ],
             [
              0.5647058823529412,
              "rgb(223,47,67)"
             ],
             [
              0.6274509803921569,
              "rgb(236,76,61)"
             ],
             [
              0.6901960784313725,
              "rgb(242,107,73)"
             ],
             [
              0.7529411764705882,
              "rgb(244,135,95)"
             ],
             [
              0.8156862745098039,
              "rgb(245,162,122)"
             ],
             [
              0.8784313725490196,
              "rgb(246,188,153)"
             ],
             [
              0.9411764705882353,
              "rgb(247,212,187)"
             ],
             [
              1,
              "rgb(250,234,220)"
             ]
            ],
            "type": "heatmap"
           }
          ],
          "histogram": [
           {
            "marker": {
             "pattern": {
              "fillmode": "overlay",
              "size": 10,
              "solidity": 0.2
             }
            },
            "type": "histogram"
           }
          ],
          "histogram2d": [
           {
            "colorbar": {
             "outlinewidth": 0,
             "tickcolor": "rgb(36,36,36)",
             "ticklen": 8,
             "ticks": "outside",
             "tickwidth": 2
            },
            "colorscale": [
             [
              0,
              "rgb(2,4,25)"
             ],
             [
              0.06274509803921569,
              "rgb(24,15,41)"
             ],
             [
              0.12549019607843137,
              "rgb(47,23,57)"
             ],
             [
              0.18823529411764706,
              "rgb(71,28,72)"
             ],
             [
              0.25098039215686274,
              "rgb(97,30,82)"
             ],
             [
              0.3137254901960784,
              "rgb(123,30,89)"
             ],
             [
              0.3764705882352941,
              "rgb(150,27,91)"
             ],
             [
              0.4392156862745098,
              "rgb(177,22,88)"
             ],
             [
              0.5019607843137255,
              "rgb(203,26,79)"
             ],
             [
              0.5647058823529412,
              "rgb(223,47,67)"
             ],
             [
              0.6274509803921569,
              "rgb(236,76,61)"
             ],
             [
              0.6901960784313725,
              "rgb(242,107,73)"
             ],
             [
              0.7529411764705882,
              "rgb(244,135,95)"
             ],
             [
              0.8156862745098039,
              "rgb(245,162,122)"
             ],
             [
              0.8784313725490196,
              "rgb(246,188,153)"
             ],
             [
              0.9411764705882353,
              "rgb(247,212,187)"
             ],
             [
              1,
              "rgb(250,234,220)"
             ]
            ],
            "type": "histogram2d"
           }
          ],
          "histogram2dcontour": [
           {
            "colorbar": {
             "outlinewidth": 0,
             "tickcolor": "rgb(36,36,36)",
             "ticklen": 8,
             "ticks": "outside",
             "tickwidth": 2
            },
            "colorscale": [
             [
              0,
              "rgb(2,4,25)"
             ],
             [
              0.06274509803921569,
              "rgb(24,15,41)"
             ],
             [
              0.12549019607843137,
              "rgb(47,23,57)"
             ],
             [
              0.18823529411764706,
              "rgb(71,28,72)"
             ],
             [
              0.25098039215686274,
              "rgb(97,30,82)"
             ],
             [
              0.3137254901960784,
              "rgb(123,30,89)"
             ],
             [
              0.3764705882352941,
              "rgb(150,27,91)"
             ],
             [
              0.4392156862745098,
              "rgb(177,22,88)"
             ],
             [
              0.5019607843137255,
              "rgb(203,26,79)"
             ],
             [
              0.5647058823529412,
              "rgb(223,47,67)"
             ],
             [
              0.6274509803921569,
              "rgb(236,76,61)"
             ],
             [
              0.6901960784313725,
              "rgb(242,107,73)"
             ],
             [
              0.7529411764705882,
              "rgb(244,135,95)"
             ],
             [
              0.8156862745098039,
              "rgb(245,162,122)"
             ],
             [
              0.8784313725490196,
              "rgb(246,188,153)"
             ],
             [
              0.9411764705882353,
              "rgb(247,212,187)"
             ],
             [
              1,
              "rgb(250,234,220)"
             ]
            ],
            "type": "histogram2dcontour"
           }
          ],
          "mesh3d": [
           {
            "colorbar": {
             "outlinewidth": 0,
             "tickcolor": "rgb(36,36,36)",
             "ticklen": 8,
             "ticks": "outside",
             "tickwidth": 2
            },
            "type": "mesh3d"
           }
          ],
          "parcoords": [
           {
            "line": {
             "colorbar": {
              "outlinewidth": 0,
              "tickcolor": "rgb(36,36,36)",
              "ticklen": 8,
              "ticks": "outside",
              "tickwidth": 2
             }
            },
            "type": "parcoords"
           }
          ],
          "pie": [
           {
            "automargin": true,
            "type": "pie"
           }
          ],
          "scatter": [
           {
            "fillpattern": {
             "fillmode": "overlay",
             "size": 10,
             "solidity": 0.2
            },
            "type": "scatter"
           }
          ],
          "scatter3d": [
           {
            "line": {
             "colorbar": {
              "outlinewidth": 0,
              "tickcolor": "rgb(36,36,36)",
              "ticklen": 8,
              "ticks": "outside",
              "tickwidth": 2
             }
            },
            "marker": {
             "colorbar": {
              "outlinewidth": 0,
              "tickcolor": "rgb(36,36,36)",
              "ticklen": 8,
              "ticks": "outside",
              "tickwidth": 2
             }
            },
            "type": "scatter3d"
           }
          ],
          "scattercarpet": [
           {
            "marker": {
             "colorbar": {
              "outlinewidth": 0,
              "tickcolor": "rgb(36,36,36)",
              "ticklen": 8,
              "ticks": "outside",
              "tickwidth": 2
             }
            },
            "type": "scattercarpet"
           }
          ],
          "scattergeo": [
           {
            "marker": {
             "colorbar": {
              "outlinewidth": 0,
              "tickcolor": "rgb(36,36,36)",
              "ticklen": 8,
              "ticks": "outside",
              "tickwidth": 2
             }
            },
            "type": "scattergeo"
           }
          ],
          "scattergl": [
           {
            "marker": {
             "colorbar": {
              "outlinewidth": 0,
              "tickcolor": "rgb(36,36,36)",
              "ticklen": 8,
              "ticks": "outside",
              "tickwidth": 2
             }
            },
            "type": "scattergl"
           }
          ],
          "scattermap": [
           {
            "marker": {
             "colorbar": {
              "outlinewidth": 0,
              "tickcolor": "rgb(36,36,36)",
              "ticklen": 8,
              "ticks": "outside",
              "tickwidth": 2
             }
            },
            "type": "scattermap"
           }
          ],
          "scattermapbox": [
           {
            "marker": {
             "colorbar": {
              "outlinewidth": 0,
              "tickcolor": "rgb(36,36,36)",
              "ticklen": 8,
              "ticks": "outside",
              "tickwidth": 2
             }
            },
            "type": "scattermapbox"
           }
          ],
          "scatterpolar": [
           {
            "marker": {
             "colorbar": {
              "outlinewidth": 0,
              "tickcolor": "rgb(36,36,36)",
              "ticklen": 8,
              "ticks": "outside",
              "tickwidth": 2
             }
            },
            "type": "scatterpolar"
           }
          ],
          "scatterpolargl": [
           {
            "marker": {
             "colorbar": {
              "outlinewidth": 0,
              "tickcolor": "rgb(36,36,36)",
              "ticklen": 8,
              "ticks": "outside",
              "tickwidth": 2
             }
            },
            "type": "scatterpolargl"
           }
          ],
          "scatterternary": [
           {
            "marker": {
             "colorbar": {
              "outlinewidth": 0,
              "tickcolor": "rgb(36,36,36)",
              "ticklen": 8,
              "ticks": "outside",
              "tickwidth": 2
             }
            },
            "type": "scatterternary"
           }
          ],
          "surface": [
           {
            "colorbar": {
             "outlinewidth": 0,
             "tickcolor": "rgb(36,36,36)",
             "ticklen": 8,
             "ticks": "outside",
             "tickwidth": 2
            },
            "colorscale": [
             [
              0,
              "rgb(2,4,25)"
             ],
             [
              0.06274509803921569,
              "rgb(24,15,41)"
             ],
             [
              0.12549019607843137,
              "rgb(47,23,57)"
             ],
             [
              0.18823529411764706,
              "rgb(71,28,72)"
             ],
             [
              0.25098039215686274,
              "rgb(97,30,82)"
             ],
             [
              0.3137254901960784,
              "rgb(123,30,89)"
             ],
             [
              0.3764705882352941,
              "rgb(150,27,91)"
             ],
             [
              0.4392156862745098,
              "rgb(177,22,88)"
             ],
             [
              0.5019607843137255,
              "rgb(203,26,79)"
             ],
             [
              0.5647058823529412,
              "rgb(223,47,67)"
             ],
             [
              0.6274509803921569,
              "rgb(236,76,61)"
             ],
             [
              0.6901960784313725,
              "rgb(242,107,73)"
             ],
             [
              0.7529411764705882,
              "rgb(244,135,95)"
             ],
             [
              0.8156862745098039,
              "rgb(245,162,122)"
             ],
             [
              0.8784313725490196,
              "rgb(246,188,153)"
             ],
             [
              0.9411764705882353,
              "rgb(247,212,187)"
             ],
             [
              1,
              "rgb(250,234,220)"
             ]
            ],
            "type": "surface"
           }
          ],
          "table": [
           {
            "cells": {
             "fill": {
              "color": "rgb(231,231,240)"
             },
             "line": {
              "color": "white"
             }
            },
            "header": {
             "fill": {
              "color": "rgb(183,183,191)"
             },
             "line": {
              "color": "white"
             }
            },
            "type": "table"
           }
          ]
         },
         "layout": {
          "annotationdefaults": {
           "arrowcolor": "rgb(67,103,167)"
          },
          "autotypenumbers": "strict",
          "coloraxis": {
           "colorbar": {
            "outlinewidth": 0,
            "tickcolor": "rgb(36,36,36)",
            "ticklen": 8,
            "ticks": "outside",
            "tickwidth": 2
           }
          },
          "colorscale": {
           "sequential": [
            [
             0,
             "rgb(2,4,25)"
            ],
            [
             0.06274509803921569,
             "rgb(24,15,41)"
            ],
            [
             0.12549019607843137,
             "rgb(47,23,57)"
            ],
            [
             0.18823529411764706,
             "rgb(71,28,72)"
            ],
            [
             0.25098039215686274,
             "rgb(97,30,82)"
            ],
            [
             0.3137254901960784,
             "rgb(123,30,89)"
            ],
            [
             0.3764705882352941,
             "rgb(150,27,91)"
            ],
            [
             0.4392156862745098,
             "rgb(177,22,88)"
            ],
            [
             0.5019607843137255,
             "rgb(203,26,79)"
            ],
            [
             0.5647058823529412,
             "rgb(223,47,67)"
            ],
            [
             0.6274509803921569,
             "rgb(236,76,61)"
            ],
            [
             0.6901960784313725,
             "rgb(242,107,73)"
            ],
            [
             0.7529411764705882,
             "rgb(244,135,95)"
            ],
            [
             0.8156862745098039,
             "rgb(245,162,122)"
            ],
            [
             0.8784313725490196,
             "rgb(246,188,153)"
            ],
            [
             0.9411764705882353,
             "rgb(247,212,187)"
            ],
            [
             1,
             "rgb(250,234,220)"
            ]
           ],
           "sequentialminus": [
            [
             0,
             "rgb(2,4,25)"
            ],
            [
             0.06274509803921569,
             "rgb(24,15,41)"
            ],
            [
             0.12549019607843137,
             "rgb(47,23,57)"
            ],
            [
             0.18823529411764706,
             "rgb(71,28,72)"
            ],
            [
             0.25098039215686274,
             "rgb(97,30,82)"
            ],
            [
             0.3137254901960784,
             "rgb(123,30,89)"
            ],
            [
             0.3764705882352941,
             "rgb(150,27,91)"
            ],
            [
             0.4392156862745098,
             "rgb(177,22,88)"
            ],
            [
             0.5019607843137255,
             "rgb(203,26,79)"
            ],
            [
             0.5647058823529412,
             "rgb(223,47,67)"
            ],
            [
             0.6274509803921569,
             "rgb(236,76,61)"
            ],
            [
             0.6901960784313725,
             "rgb(242,107,73)"
            ],
            [
             0.7529411764705882,
             "rgb(244,135,95)"
            ],
            [
             0.8156862745098039,
             "rgb(245,162,122)"
            ],
            [
             0.8784313725490196,
             "rgb(246,188,153)"
            ],
            [
             0.9411764705882353,
             "rgb(247,212,187)"
            ],
            [
             1,
             "rgb(250,234,220)"
            ]
           ]
          },
          "colorway": [
           "rgb(76,114,176)",
           "rgb(221,132,82)",
           "rgb(85,168,104)",
           "rgb(196,78,82)",
           "rgb(129,114,179)",
           "rgb(147,120,96)",
           "rgb(218,139,195)",
           "rgb(140,140,140)",
           "rgb(204,185,116)",
           "rgb(100,181,205)"
          ],
          "font": {
           "color": "rgb(36,36,36)"
          },
          "geo": {
           "bgcolor": "white",
           "lakecolor": "white",
           "landcolor": "rgb(234,234,242)",
           "showlakes": true,
           "showland": true,
           "subunitcolor": "white"
          },
          "hoverlabel": {
           "align": "left"
          },
          "hovermode": "closest",
          "paper_bgcolor": "white",
          "plot_bgcolor": "rgb(234,234,242)",
          "polar": {
           "angularaxis": {
            "gridcolor": "white",
            "linecolor": "white",
            "showgrid": true,
            "ticks": ""
           },
           "bgcolor": "rgb(234,234,242)",
           "radialaxis": {
            "gridcolor": "white",
            "linecolor": "white",
            "showgrid": true,
            "ticks": ""
           }
          },
          "scene": {
           "xaxis": {
            "backgroundcolor": "rgb(234,234,242)",
            "gridcolor": "white",
            "gridwidth": 2,
            "linecolor": "white",
            "showbackground": true,
            "showgrid": true,
            "ticks": "",
            "zerolinecolor": "white"
           },
           "yaxis": {
            "backgroundcolor": "rgb(234,234,242)",
            "gridcolor": "white",
            "gridwidth": 2,
            "linecolor": "white",
            "showbackground": true,
            "showgrid": true,
            "ticks": "",
            "zerolinecolor": "white"
           },
           "zaxis": {
            "backgroundcolor": "rgb(234,234,242)",
            "gridcolor": "white",
            "gridwidth": 2,
            "linecolor": "white",
            "showbackground": true,
            "showgrid": true,
            "ticks": "",
            "zerolinecolor": "white"
           }
          },
          "shapedefaults": {
           "fillcolor": "rgb(67,103,167)",
           "line": {
            "width": 0
           },
           "opacity": 0.5
          },
          "ternary": {
           "aaxis": {
            "gridcolor": "white",
            "linecolor": "white",
            "showgrid": true,
            "ticks": ""
           },
           "baxis": {
            "gridcolor": "white",
            "linecolor": "white",
            "showgrid": true,
            "ticks": ""
           },
           "bgcolor": "rgb(234,234,242)",
           "caxis": {
            "gridcolor": "white",
            "linecolor": "white",
            "showgrid": true,
            "ticks": ""
           }
          },
          "xaxis": {
           "automargin": true,
           "gridcolor": "white",
           "linecolor": "white",
           "showgrid": true,
           "ticks": "",
           "title": {
            "standoff": 15
           },
           "zerolinecolor": "white"
          },
          "yaxis": {
           "automargin": true,
           "gridcolor": "white",
           "linecolor": "white",
           "showgrid": true,
           "ticks": "",
           "title": {
            "standoff": 15
           },
           "zerolinecolor": "white"
          }
         }
        },
        "title": {
         "text": "Признак Perm"
        },
        "xaxis": {
         "anchor": "y",
         "domain": [
          0,
          1
         ],
         "title": {
          "text": "проницаемость скважины (мД)"
         }
        },
        "yaxis": {
         "anchor": "x",
         "domain": [
          0,
          1
         ],
         "title": {
          "text": "Prod"
         }
        }
       }
      }
     },
     "metadata": {},
     "output_type": "display_data"
    },
    {
     "name": "stdout",
     "output_type": "stream",
     "text": [
      "Коэффициент детерминации: 0.4996236559630883\n"
     ]
    },
    {
     "data": {
      "application/vnd.plotly.v1+json": {
       "config": {
        "plotlyServerURL": "https://plot.ly"
       },
       "data": [
        {
         "hovertemplate": "акустический импеданс (кг/м^2 * 10^6)=%{x}<br>Prod=%{y}<extra></extra>",
         "legendgroup": "",
         "marker": {
          "color": "rgb(76,114,176)",
          "symbol": "circle"
         },
         "mode": "markers",
         "name": "",
         "orientation": "v",
         "showlegend": false,
         "type": "scatter",
         "x": {
          "bdata": "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",
          "dtype": "f8"
         },
         "xaxis": "x",
         "y": {
          "bdata": "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",
          "dtype": "f8"
         },
         "yaxis": "y"
        },
        {
         "hovertemplate": "<b>OLS trendline</b><br>y = -683.953 * x + 6341.77<br>R<sup>2</sup>=0.152752<br><br>акустический импеданс (кг/м^2 * 10^6)=%{x}<br>Prod=%{y} <b>(trend)</b><extra></extra>",
         "legendgroup": "",
         "marker": {
          "color": "rgb(76,114,176)",
          "symbol": "circle"
         },
         "mode": "lines",
         "name": "",
         "showlegend": false,
         "type": "scatter",
         "x": {
          "bdata": "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",
          "dtype": "f8"
         },
         "xaxis": "x",
         "y": {
          "bdata": "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",
          "dtype": "f8"
         },
         "yaxis": "y"
        }
       ],
       "layout": {
        "legend": {
         "tracegroupgap": 0
        },
        "template": {
         "data": {
          "bar": [
           {
            "error_x": {
             "color": "rgb(36,36,36)"
            },
            "error_y": {
             "color": "rgb(36,36,36)"
            },
            "marker": {
             "line": {
              "color": "rgb(234,234,242)",
              "width": 0.5
             },
             "pattern": {
              "fillmode": "overlay",
              "size": 10,
              "solidity": 0.2
             }
            },
            "type": "bar"
           }
          ],
          "barpolar": [
           {
            "marker": {
             "line": {
              "color": "rgb(234,234,242)",
              "width": 0.5
             },
             "pattern": {
              "fillmode": "overlay",
              "size": 10,
              "solidity": 0.2
             }
            },
            "type": "barpolar"
           }
          ],
          "carpet": [
           {
            "aaxis": {
             "endlinecolor": "rgb(36,36,36)",
             "gridcolor": "white",
             "linecolor": "white",
             "minorgridcolor": "white",
             "startlinecolor": "rgb(36,36,36)"
            },
            "baxis": {
             "endlinecolor": "rgb(36,36,36)",
             "gridcolor": "white",
             "linecolor": "white",
             "minorgridcolor": "white",
             "startlinecolor": "rgb(36,36,36)"
            },
            "type": "carpet"
           }
          ],
          "choropleth": [
           {
            "colorbar": {
             "outlinewidth": 0,
             "tickcolor": "rgb(36,36,36)",
             "ticklen": 8,
             "ticks": "outside",
             "tickwidth": 2
            },
            "type": "choropleth"
           }
          ],
          "contour": [
           {
            "colorbar": {
             "outlinewidth": 0,
             "tickcolor": "rgb(36,36,36)",
             "ticklen": 8,
             "ticks": "outside",
             "tickwidth": 2
            },
            "colorscale": [
             [
              0,
              "rgb(2,4,25)"
             ],
             [
              0.06274509803921569,
              "rgb(24,15,41)"
             ],
             [
              0.12549019607843137,
              "rgb(47,23,57)"
             ],
             [
              0.18823529411764706,
              "rgb(71,28,72)"
             ],
             [
              0.25098039215686274,
              "rgb(97,30,82)"
             ],
             [
              0.3137254901960784,
              "rgb(123,30,89)"
             ],
             [
              0.3764705882352941,
              "rgb(150,27,91)"
             ],
             [
              0.4392156862745098,
              "rgb(177,22,88)"
             ],
             [
              0.5019607843137255,
              "rgb(203,26,79)"
             ],
             [
              0.5647058823529412,
              "rgb(223,47,67)"
             ],
             [
              0.6274509803921569,
              "rgb(236,76,61)"
             ],
             [
              0.6901960784313725,
              "rgb(242,107,73)"
             ],
             [
              0.7529411764705882,
              "rgb(244,135,95)"
             ],
             [
              0.8156862745098039,
              "rgb(245,162,122)"
             ],
             [
              0.8784313725490196,
              "rgb(246,188,153)"
             ],
             [
              0.9411764705882353,
              "rgb(247,212,187)"
             ],
             [
              1,
              "rgb(250,234,220)"
             ]
            ],
            "type": "contour"
           }
          ],
          "contourcarpet": [
           {
            "colorbar": {
             "outlinewidth": 0,
             "tickcolor": "rgb(36,36,36)",
             "ticklen": 8,
             "ticks": "outside",
             "tickwidth": 2
            },
            "type": "contourcarpet"
           }
          ],
          "heatmap": [
           {
            "colorbar": {
             "outlinewidth": 0,
             "tickcolor": "rgb(36,36,36)",
             "ticklen": 8,
             "ticks": "outside",
             "tickwidth": 2
            },
            "colorscale": [
             [
              0,
              "rgb(2,4,25)"
             ],
             [
              0.06274509803921569,
              "rgb(24,15,41)"
             ],
             [
              0.12549019607843137,
              "rgb(47,23,57)"
             ],
             [
              0.18823529411764706,
              "rgb(71,28,72)"
             ],
             [
              0.25098039215686274,
              "rgb(97,30,82)"
             ],
             [
              0.3137254901960784,
              "rgb(123,30,89)"
             ],
             [
              0.3764705882352941,
              "rgb(150,27,91)"
             ],
             [
              0.4392156862745098,
              "rgb(177,22,88)"
             ],
             [
              0.5019607843137255,
              "rgb(203,26,79)"
             ],
             [
              0.5647058823529412,
              "rgb(223,47,67)"
             ],
             [
              0.6274509803921569,
              "rgb(236,76,61)"
             ],
             [
              0.6901960784313725,
              "rgb(242,107,73)"
             ],
             [
              0.7529411764705882,
              "rgb(244,135,95)"
             ],
             [
              0.8156862745098039,
              "rgb(245,162,122)"
             ],
             [
              0.8784313725490196,
              "rgb(246,188,153)"
             ],
             [
              0.9411764705882353,
              "rgb(247,212,187)"
             ],
             [
              1,
              "rgb(250,234,220)"
             ]
            ],
            "type": "heatmap"
           }
          ],
          "histogram": [
           {
            "marker": {
             "pattern": {
              "fillmode": "overlay",
              "size": 10,
              "solidity": 0.2
             }
            },
            "type": "histogram"
           }
          ],
          "histogram2d": [
           {
            "colorbar": {
             "outlinewidth": 0,
             "tickcolor": "rgb(36,36,36)",
             "ticklen": 8,
             "ticks": "outside",
             "tickwidth": 2
            },
            "colorscale": [
             [
              0,
              "rgb(2,4,25)"
             ],
             [
              0.06274509803921569,
              "rgb(24,15,41)"
             ],
             [
              0.12549019607843137,
              "rgb(47,23,57)"
             ],
             [
              0.18823529411764706,
              "rgb(71,28,72)"
             ],
             [
              0.25098039215686274,
              "rgb(97,30,82)"
             ],
             [
              0.3137254901960784,
              "rgb(123,30,89)"
             ],
             [
              0.3764705882352941,
              "rgb(150,27,91)"
             ],
             [
              0.4392156862745098,
              "rgb(177,22,88)"
             ],
             [
              0.5019607843137255,
              "rgb(203,26,79)"
             ],
             [
              0.5647058823529412,
              "rgb(223,47,67)"
             ],
             [
              0.6274509803921569,
              "rgb(236,76,61)"
             ],
             [
              0.6901960784313725,
              "rgb(242,107,73)"
             ],
             [
              0.7529411764705882,
              "rgb(244,135,95)"
             ],
             [
              0.8156862745098039,
              "rgb(245,162,122)"
             ],
             [
              0.8784313725490196,
              "rgb(246,188,153)"
             ],
             [
              0.9411764705882353,
              "rgb(247,212,187)"
             ],
             [
              1,
              "rgb(250,234,220)"
             ]
            ],
            "type": "histogram2d"
           }
          ],
          "histogram2dcontour": [
           {
            "colorbar": {
             "outlinewidth": 0,
             "tickcolor": "rgb(36,36,36)",
             "ticklen": 8,
             "ticks": "outside",
             "tickwidth": 2
            },
            "colorscale": [
             [
              0,
              "rgb(2,4,25)"
             ],
             [
              0.06274509803921569,
              "rgb(24,15,41)"
             ],
             [
              0.12549019607843137,
              "rgb(47,23,57)"
             ],
             [
              0.18823529411764706,
              "rgb(71,28,72)"
             ],
             [
              0.25098039215686274,
              "rgb(97,30,82)"
             ],
             [
              0.3137254901960784,
              "rgb(123,30,89)"
             ],
             [
              0.3764705882352941,
              "rgb(150,27,91)"
             ],
             [
              0.4392156862745098,
              "rgb(177,22,88)"
             ],
             [
              0.5019607843137255,
              "rgb(203,26,79)"
             ],
             [
              0.5647058823529412,
              "rgb(223,47,67)"
             ],
             [
              0.6274509803921569,
              "rgb(236,76,61)"
             ],
             [
              0.6901960784313725,
              "rgb(242,107,73)"
             ],
             [
              0.7529411764705882,
              "rgb(244,135,95)"
             ],
             [
              0.8156862745098039,
              "rgb(245,162,122)"
             ],
             [
              0.8784313725490196,
              "rgb(246,188,153)"
             ],
             [
              0.9411764705882353,
              "rgb(247,212,187)"
             ],
             [
              1,
              "rgb(250,234,220)"
             ]
            ],
            "type": "histogram2dcontour"
           }
          ],
          "mesh3d": [
           {
            "colorbar": {
             "outlinewidth": 0,
             "tickcolor": "rgb(36,36,36)",
             "ticklen": 8,
             "ticks": "outside",
             "tickwidth": 2
            },
            "type": "mesh3d"
           }
          ],
          "parcoords": [
           {
            "line": {
             "colorbar": {
              "outlinewidth": 0,
              "tickcolor": "rgb(36,36,36)",
              "ticklen": 8,
              "ticks": "outside",
              "tickwidth": 2
             }
            },
            "type": "parcoords"
           }
          ],
          "pie": [
           {
            "automargin": true,
            "type": "pie"
           }
          ],
          "scatter": [
           {
            "fillpattern": {
             "fillmode": "overlay",
             "size": 10,
             "solidity": 0.2
            },
            "type": "scatter"
           }
          ],
          "scatter3d": [
           {
            "line": {
             "colorbar": {
              "outlinewidth": 0,
              "tickcolor": "rgb(36,36,36)",
              "ticklen": 8,
              "ticks": "outside",
              "tickwidth": 2
             }
            },
            "marker": {
             "colorbar": {
              "outlinewidth": 0,
              "tickcolor": "rgb(36,36,36)",
              "ticklen": 8,
              "ticks": "outside",
              "tickwidth": 2
             }
            },
            "type": "scatter3d"
           }
          ],
          "scattercarpet": [
           {
            "marker": {
             "colorbar": {
              "outlinewidth": 0,
              "tickcolor": "rgb(36,36,36)",
              "ticklen": 8,
              "ticks": "outside",
              "tickwidth": 2
             }
            },
            "type": "scattercarpet"
           }
          ],
          "scattergeo": [
           {
            "marker": {
             "colorbar": {
              "outlinewidth": 0,
              "tickcolor": "rgb(36,36,36)",
              "ticklen": 8,
              "ticks": "outside",
              "tickwidth": 2
             }
            },
            "type": "scattergeo"
           }
          ],
          "scattergl": [
           {
            "marker": {
             "colorbar": {
              "outlinewidth": 0,
              "tickcolor": "rgb(36,36,36)",
              "ticklen": 8,
              "ticks": "outside",
              "tickwidth": 2
             }
            },
            "type": "scattergl"
           }
          ],
          "scattermap": [
           {
            "marker": {
             "colorbar": {
              "outlinewidth": 0,
              "tickcolor": "rgb(36,36,36)",
              "ticklen": 8,
              "ticks": "outside",
              "tickwidth": 2
             }
            },
            "type": "scattermap"
           }
          ],
          "scattermapbox": [
           {
            "marker": {
             "colorbar": {
              "outlinewidth": 0,
              "tickcolor": "rgb(36,36,36)",
              "ticklen": 8,
              "ticks": "outside",
              "tickwidth": 2
             }
            },
            "type": "scattermapbox"
           }
          ],
          "scatterpolar": [
           {
            "marker": {
             "colorbar": {
              "outlinewidth": 0,
              "tickcolor": "rgb(36,36,36)",
              "ticklen": 8,
              "ticks": "outside",
              "tickwidth": 2
             }
            },
            "type": "scatterpolar"
           }
          ],
          "scatterpolargl": [
           {
            "marker": {
             "colorbar": {
              "outlinewidth": 0,
              "tickcolor": "rgb(36,36,36)",
              "ticklen": 8,
              "ticks": "outside",
              "tickwidth": 2
             }
            },
            "type": "scatterpolargl"
           }
          ],
          "scatterternary": [
           {
            "marker": {
             "colorbar": {
              "outlinewidth": 0,
              "tickcolor": "rgb(36,36,36)",
              "ticklen": 8,
              "ticks": "outside",
              "tickwidth": 2
             }
            },
            "type": "scatterternary"
           }
          ],
          "surface": [
           {
            "colorbar": {
             "outlinewidth": 0,
             "tickcolor": "rgb(36,36,36)",
             "ticklen": 8,
             "ticks": "outside",
             "tickwidth": 2
            },
            "colorscale": [
             [
              0,
              "rgb(2,4,25)"
             ],
             [
              0.06274509803921569,
              "rgb(24,15,41)"
             ],
             [
              0.12549019607843137,
              "rgb(47,23,57)"
             ],
             [
              0.18823529411764706,
              "rgb(71,28,72)"
             ],
             [
              0.25098039215686274,
              "rgb(97,30,82)"
             ],
             [
              0.3137254901960784,
              "rgb(123,30,89)"
             ],
             [
              0.3764705882352941,
              "rgb(150,27,91)"
             ],
             [
              0.4392156862745098,
              "rgb(177,22,88)"
             ],
             [
              0.5019607843137255,
              "rgb(203,26,79)"
             ],
             [
              0.5647058823529412,
              "rgb(223,47,67)"
             ],
             [
              0.6274509803921569,
              "rgb(236,76,61)"
             ],
             [
              0.6901960784313725,
              "rgb(242,107,73)"
             ],
             [
              0.7529411764705882,
              "rgb(244,135,95)"
             ],
             [
              0.8156862745098039,
              "rgb(245,162,122)"
             ],
             [
              0.8784313725490196,
              "rgb(246,188,153)"
             ],
             [
              0.9411764705882353,
              "rgb(247,212,187)"
             ],
             [
              1,
              "rgb(250,234,220)"
             ]
            ],
            "type": "surface"
           }
          ],
          "table": [
           {
            "cells": {
             "fill": {
              "color": "rgb(231,231,240)"
             },
             "line": {
              "color": "white"
             }
            },
            "header": {
             "fill": {
              "color": "rgb(183,183,191)"
             },
             "line": {
              "color": "white"
             }
            },
            "type": "table"
           }
          ]
         },
         "layout": {
          "annotationdefaults": {
           "arrowcolor": "rgb(67,103,167)"
          },
          "autotypenumbers": "strict",
          "coloraxis": {
           "colorbar": {
            "outlinewidth": 0,
            "tickcolor": "rgb(36,36,36)",
            "ticklen": 8,
            "ticks": "outside",
            "tickwidth": 2
           }
          },
          "colorscale": {
           "sequential": [
            [
             0,
             "rgb(2,4,25)"
            ],
            [
             0.06274509803921569,
             "rgb(24,15,41)"
            ],
            [
             0.12549019607843137,
             "rgb(47,23,57)"
            ],
            [
             0.18823529411764706,
             "rgb(71,28,72)"
            ],
            [
             0.25098039215686274,
             "rgb(97,30,82)"
            ],
            [
             0.3137254901960784,
             "rgb(123,30,89)"
            ],
            [
             0.3764705882352941,
             "rgb(150,27,91)"
            ],
            [
             0.4392156862745098,
             "rgb(177,22,88)"
            ],
            [
             0.5019607843137255,
             "rgb(203,26,79)"
            ],
            [
             0.5647058823529412,
             "rgb(223,47,67)"
            ],
            [
             0.6274509803921569,
             "rgb(236,76,61)"
            ],
            [
             0.6901960784313725,
             "rgb(242,107,73)"
            ],
            [
             0.7529411764705882,
             "rgb(244,135,95)"
            ],
            [
             0.8156862745098039,
             "rgb(245,162,122)"
            ],
            [
             0.8784313725490196,
             "rgb(246,188,153)"
            ],
            [
             0.9411764705882353,
             "rgb(247,212,187)"
            ],
            [
             1,
             "rgb(250,234,220)"
            ]
           ],
           "sequentialminus": [
            [
             0,
             "rgb(2,4,25)"
            ],
            [
             0.06274509803921569,
             "rgb(24,15,41)"
            ],
            [
             0.12549019607843137,
             "rgb(47,23,57)"
            ],
            [
             0.18823529411764706,
             "rgb(71,28,72)"
            ],
            [
             0.25098039215686274,
             "rgb(97,30,82)"
            ],
            [
             0.3137254901960784,
             "rgb(123,30,89)"
            ],
            [
             0.3764705882352941,
             "rgb(150,27,91)"
            ],
            [
             0.4392156862745098,
             "rgb(177,22,88)"
            ],
            [
             0.5019607843137255,
             "rgb(203,26,79)"
            ],
            [
             0.5647058823529412,
             "rgb(223,47,67)"
            ],
            [
             0.6274509803921569,
             "rgb(236,76,61)"
            ],
            [
             0.6901960784313725,
             "rgb(242,107,73)"
            ],
            [
             0.7529411764705882,
             "rgb(244,135,95)"
            ],
            [
             0.8156862745098039,
             "rgb(245,162,122)"
            ],
            [
             0.8784313725490196,
             "rgb(246,188,153)"
            ],
            [
             0.9411764705882353,
             "rgb(247,212,187)"
            ],
            [
             1,
             "rgb(250,234,220)"
            ]
           ]
          },
          "colorway": [
           "rgb(76,114,176)",
           "rgb(221,132,82)",
           "rgb(85,168,104)",
           "rgb(196,78,82)",
           "rgb(129,114,179)",
           "rgb(147,120,96)",
           "rgb(218,139,195)",
           "rgb(140,140,140)",
           "rgb(204,185,116)",
           "rgb(100,181,205)"
          ],
          "font": {
           "color": "rgb(36,36,36)"
          },
          "geo": {
           "bgcolor": "white",
           "lakecolor": "white",
           "landcolor": "rgb(234,234,242)",
           "showlakes": true,
           "showland": true,
           "subunitcolor": "white"
          },
          "hoverlabel": {
           "align": "left"
          },
          "hovermode": "closest",
          "paper_bgcolor": "white",
          "plot_bgcolor": "rgb(234,234,242)",
          "polar": {
           "angularaxis": {
            "gridcolor": "white",
            "linecolor": "white",
            "showgrid": true,
            "ticks": ""
           },
           "bgcolor": "rgb(234,234,242)",
           "radialaxis": {
            "gridcolor": "white",
            "linecolor": "white",
            "showgrid": true,
            "ticks": ""
           }
          },
          "scene": {
           "xaxis": {
            "backgroundcolor": "rgb(234,234,242)",
            "gridcolor": "white",
            "gridwidth": 2,
            "linecolor": "white",
            "showbackground": true,
            "showgrid": true,
            "ticks": "",
            "zerolinecolor": "white"
           },
           "yaxis": {
            "backgroundcolor": "rgb(234,234,242)",
            "gridcolor": "white",
            "gridwidth": 2,
            "linecolor": "white",
            "showbackground": true,
            "showgrid": true,
            "ticks": "",
            "zerolinecolor": "white"
           },
           "zaxis": {
            "backgroundcolor": "rgb(234,234,242)",
            "gridcolor": "white",
            "gridwidth": 2,
            "linecolor": "white",
            "showbackground": true,
            "showgrid": true,
            "ticks": "",
            "zerolinecolor": "white"
           }
          },
          "shapedefaults": {
           "fillcolor": "rgb(67,103,167)",
           "line": {
            "width": 0
           },
           "opacity": 0.5
          },
          "ternary": {
           "aaxis": {
            "gridcolor": "white",
            "linecolor": "white",
            "showgrid": true,
            "ticks": ""
           },
           "baxis": {
            "gridcolor": "white",
            "linecolor": "white",
            "showgrid": true,
            "ticks": ""
           },
           "bgcolor": "rgb(234,234,242)",
           "caxis": {
            "gridcolor": "white",
            "linecolor": "white",
            "showgrid": true,
            "ticks": ""
           }
          },
          "xaxis": {
           "automargin": true,
           "gridcolor": "white",
           "linecolor": "white",
           "showgrid": true,
           "ticks": "",
           "title": {
            "standoff": 15
           },
           "zerolinecolor": "white"
          },
          "yaxis": {
           "automargin": true,
           "gridcolor": "white",
           "linecolor": "white",
           "showgrid": true,
           "ticks": "",
           "title": {
            "standoff": 15
           },
           "zerolinecolor": "white"
          }
         }
        },
        "title": {
         "text": "Признак AI"
        },
        "xaxis": {
         "anchor": "y",
         "domain": [
          0,
          1
         ],
         "title": {
          "text": "акустический импеданс (кг/м^2 * 10^6)"
         }
        },
        "yaxis": {
         "anchor": "x",
         "domain": [
          0,
          1
         ],
         "title": {
          "text": "Prod"
         }
        }
       }
      }
     },
     "metadata": {},
     "output_type": "display_data"
    },
    {
     "name": "stdout",
     "output_type": "stream",
     "text": [
      "Коэффициент детерминации: 0.12811012018362947\n"
     ]
    },
    {
     "data": {
      "application/vnd.plotly.v1+json": {
       "config": {
        "plotlyServerURL": "https://plot.ly"
       },
       "data": [
        {
         "hovertemplate": "коэффициент хрупкости скважины (%)=%{x}<br>Prod=%{y}<extra></extra>",
         "legendgroup": "",
         "marker": {
          "color": "rgb(76,114,176)",
          "symbol": "circle"
         },
         "mode": "markers",
         "name": "",
         "orientation": "v",
         "showlegend": false,
         "type": "scatter",
         "x": {
          "bdata": "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",
          "dtype": "f8"
         },
         "xaxis": "x",
         "y": {
          "bdata": "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",
          "dtype": "f8"
         },
         "yaxis": "y"
        },
        {
         "hovertemplate": "<b>OLS trendline</b><br>y = 16.6508 * x + 3509.28<br>R<sup>2</sup>=0.056243<br><br>коэффициент хрупкости скважины (%)=%{x}<br>Prod=%{y} <b>(trend)</b><extra></extra>",
         "legendgroup": "",
         "marker": {
          "color": "rgb(76,114,176)",
          "symbol": "circle"
         },
         "mode": "lines",
         "name": "",
         "showlegend": false,
         "type": "scatter",
         "x": {
          "bdata": "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",
          "dtype": "f8"
         },
         "xaxis": "x",
         "y": {
          "bdata": "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",
          "dtype": "f8"
         },
         "yaxis": "y"
        }
       ],
       "layout": {
        "legend": {
         "tracegroupgap": 0
        },
        "template": {
         "data": {
          "bar": [
           {
            "error_x": {
             "color": "rgb(36,36,36)"
            },
            "error_y": {
             "color": "rgb(36,36,36)"
            },
            "marker": {
             "line": {
              "color": "rgb(234,234,242)",
              "width": 0.5
             },
             "pattern": {
              "fillmode": "overlay",
              "size": 10,
              "solidity": 0.2
             }
            },
            "type": "bar"
           }
          ],
          "barpolar": [
           {
            "marker": {
             "line": {
              "color": "rgb(234,234,242)",
              "width": 0.5
             },
             "pattern": {
              "fillmode": "overlay",
              "size": 10,
              "solidity": 0.2
             }
            },
            "type": "barpolar"
           }
          ],
          "carpet": [
           {
            "aaxis": {
             "endlinecolor": "rgb(36,36,36)",
             "gridcolor": "white",
             "linecolor": "white",
             "minorgridcolor": "white",
             "startlinecolor": "rgb(36,36,36)"
            },
            "baxis": {
             "endlinecolor": "rgb(36,36,36)",
             "gridcolor": "white",
             "linecolor": "white",
             "minorgridcolor": "white",
             "startlinecolor": "rgb(36,36,36)"
            },
            "type": "carpet"
           }
          ],
          "choropleth": [
           {
            "colorbar": {
             "outlinewidth": 0,
             "tickcolor": "rgb(36,36,36)",
             "ticklen": 8,
             "ticks": "outside",
             "tickwidth": 2
            },
            "type": "choropleth"
           }
          ],
          "contour": [
           {
            "colorbar": {
             "outlinewidth": 0,
             "tickcolor": "rgb(36,36,36)",
             "ticklen": 8,
             "ticks": "outside",
             "tickwidth": 2
            },
            "colorscale": [
             [
              0,
              "rgb(2,4,25)"
             ],
             [
              0.06274509803921569,
              "rgb(24,15,41)"
             ],
             [
              0.12549019607843137,
              "rgb(47,23,57)"
             ],
             [
              0.18823529411764706,
              "rgb(71,28,72)"
             ],
             [
              0.25098039215686274,
              "rgb(97,30,82)"
             ],
             [
              0.3137254901960784,
              "rgb(123,30,89)"
             ],
             [
              0.3764705882352941,
              "rgb(150,27,91)"
             ],
             [
              0.4392156862745098,
              "rgb(177,22,88)"
             ],
             [
              0.5019607843137255,
              "rgb(203,26,79)"
             ],
             [
              0.5647058823529412,
              "rgb(223,47,67)"
             ],
             [
              0.6274509803921569,
              "rgb(236,76,61)"
             ],
             [
              0.6901960784313725,
              "rgb(242,107,73)"
             ],
             [
              0.7529411764705882,
              "rgb(244,135,95)"
             ],
             [
              0.8156862745098039,
              "rgb(245,162,122)"
             ],
             [
              0.8784313725490196,
              "rgb(246,188,153)"
             ],
             [
              0.9411764705882353,
              "rgb(247,212,187)"
             ],
             [
              1,
              "rgb(250,234,220)"
             ]
            ],
            "type": "contour"
           }
          ],
          "contourcarpet": [
           {
            "colorbar": {
             "outlinewidth": 0,
             "tickcolor": "rgb(36,36,36)",
             "ticklen": 8,
             "ticks": "outside",
             "tickwidth": 2
            },
            "type": "contourcarpet"
           }
          ],
          "heatmap": [
           {
            "colorbar": {
             "outlinewidth": 0,
             "tickcolor": "rgb(36,36,36)",
             "ticklen": 8,
             "ticks": "outside",
             "tickwidth": 2
            },
            "colorscale": [
             [
              0,
              "rgb(2,4,25)"
             ],
             [
              0.06274509803921569,
              "rgb(24,15,41)"
             ],
             [
              0.12549019607843137,
              "rgb(47,23,57)"
             ],
             [
              0.18823529411764706,
              "rgb(71,28,72)"
             ],
             [
              0.25098039215686274,
              "rgb(97,30,82)"
             ],
             [
              0.3137254901960784,
              "rgb(123,30,89)"
             ],
             [
              0.3764705882352941,
              "rgb(150,27,91)"
             ],
             [
              0.4392156862745098,
              "rgb(177,22,88)"
             ],
             [
              0.5019607843137255,
              "rgb(203,26,79)"
             ],
             [
              0.5647058823529412,
              "rgb(223,47,67)"
             ],
             [
              0.6274509803921569,
              "rgb(236,76,61)"
             ],
             [
              0.6901960784313725,
              "rgb(242,107,73)"
             ],
             [
              0.7529411764705882,
              "rgb(244,135,95)"
             ],
             [
              0.8156862745098039,
              "rgb(245,162,122)"
             ],
             [
              0.8784313725490196,
              "rgb(246,188,153)"
             ],
             [
              0.9411764705882353,
              "rgb(247,212,187)"
             ],
             [
              1,
              "rgb(250,234,220)"
             ]
            ],
            "type": "heatmap"
           }
          ],
          "histogram": [
           {
            "marker": {
             "pattern": {
              "fillmode": "overlay",
              "size": 10,
              "solidity": 0.2
             }
            },
            "type": "histogram"
           }
          ],
          "histogram2d": [
           {
            "colorbar": {
             "outlinewidth": 0,
             "tickcolor": "rgb(36,36,36)",
             "ticklen": 8,
             "ticks": "outside",
             "tickwidth": 2
            },
            "colorscale": [
             [
              0,
              "rgb(2,4,25)"
             ],
             [
              0.06274509803921569,
              "rgb(24,15,41)"
             ],
             [
              0.12549019607843137,
              "rgb(47,23,57)"
             ],
             [
              0.18823529411764706,
              "rgb(71,28,72)"
             ],
             [
              0.25098039215686274,
              "rgb(97,30,82)"
             ],
             [
              0.3137254901960784,
              "rgb(123,30,89)"
             ],
             [
              0.3764705882352941,
              "rgb(150,27,91)"
             ],
             [
              0.4392156862745098,
              "rgb(177,22,88)"
             ],
             [
              0.5019607843137255,
              "rgb(203,26,79)"
             ],
             [
              0.5647058823529412,
              "rgb(223,47,67)"
             ],
             [
              0.6274509803921569,
              "rgb(236,76,61)"
             ],
             [
              0.6901960784313725,
              "rgb(242,107,73)"
             ],
             [
              0.7529411764705882,
              "rgb(244,135,95)"
             ],
             [
              0.8156862745098039,
              "rgb(245,162,122)"
             ],
             [
              0.8784313725490196,
              "rgb(246,188,153)"
             ],
             [
              0.9411764705882353,
              "rgb(247,212,187)"
             ],
             [
              1,
              "rgb(250,234,220)"
             ]
            ],
            "type": "histogram2d"
           }
          ],
          "histogram2dcontour": [
           {
            "colorbar": {
             "outlinewidth": 0,
             "tickcolor": "rgb(36,36,36)",
             "ticklen": 8,
             "ticks": "outside",
             "tickwidth": 2
            },
            "colorscale": [
             [
              0,
              "rgb(2,4,25)"
             ],
             [
              0.06274509803921569,
              "rgb(24,15,41)"
             ],
             [
              0.12549019607843137,
              "rgb(47,23,57)"
             ],
             [
              0.18823529411764706,
              "rgb(71,28,72)"
             ],
             [
              0.25098039215686274,
              "rgb(97,30,82)"
             ],
             [
              0.3137254901960784,
              "rgb(123,30,89)"
             ],
             [
              0.3764705882352941,
              "rgb(150,27,91)"
             ],
             [
              0.4392156862745098,
              "rgb(177,22,88)"
             ],
             [
              0.5019607843137255,
              "rgb(203,26,79)"
             ],
             [
              0.5647058823529412,
              "rgb(223,47,67)"
             ],
             [
              0.6274509803921569,
              "rgb(236,76,61)"
             ],
             [
              0.6901960784313725,
              "rgb(242,107,73)"
             ],
             [
              0.7529411764705882,
              "rgb(244,135,95)"
             ],
             [
              0.8156862745098039,
              "rgb(245,162,122)"
             ],
             [
              0.8784313725490196,
              "rgb(246,188,153)"
             ],
             [
              0.9411764705882353,
              "rgb(247,212,187)"
             ],
             [
              1,
              "rgb(250,234,220)"
             ]
            ],
            "type": "histogram2dcontour"
           }
          ],
          "mesh3d": [
           {
            "colorbar": {
             "outlinewidth": 0,
             "tickcolor": "rgb(36,36,36)",
             "ticklen": 8,
             "ticks": "outside",
             "tickwidth": 2
            },
            "type": "mesh3d"
           }
          ],
          "parcoords": [
           {
            "line": {
             "colorbar": {
              "outlinewidth": 0,
              "tickcolor": "rgb(36,36,36)",
              "ticklen": 8,
              "ticks": "outside",
              "tickwidth": 2
             }
            },
            "type": "parcoords"
           }
          ],
          "pie": [
           {
            "automargin": true,
            "type": "pie"
           }
          ],
          "scatter": [
           {
            "fillpattern": {
             "fillmode": "overlay",
             "size": 10,
             "solidity": 0.2
            },
            "type": "scatter"
           }
          ],
          "scatter3d": [
           {
            "line": {
             "colorbar": {
              "outlinewidth": 0,
              "tickcolor": "rgb(36,36,36)",
              "ticklen": 8,
              "ticks": "outside",
              "tickwidth": 2
             }
            },
            "marker": {
             "colorbar": {
              "outlinewidth": 0,
              "tickcolor": "rgb(36,36,36)",
              "ticklen": 8,
              "ticks": "outside",
              "tickwidth": 2
             }
            },
            "type": "scatter3d"
           }
          ],
          "scattercarpet": [
           {
            "marker": {
             "colorbar": {
              "outlinewidth": 0,
              "tickcolor": "rgb(36,36,36)",
              "ticklen": 8,
              "ticks": "outside",
              "tickwidth": 2
             }
            },
            "type": "scattercarpet"
           }
          ],
          "scattergeo": [
           {
            "marker": {
             "colorbar": {
              "outlinewidth": 0,
              "tickcolor": "rgb(36,36,36)",
              "ticklen": 8,
              "ticks": "outside",
              "tickwidth": 2
             }
            },
            "type": "scattergeo"
           }
          ],
          "scattergl": [
           {
            "marker": {
             "colorbar": {
              "outlinewidth": 0,
              "tickcolor": "rgb(36,36,36)",
              "ticklen": 8,
              "ticks": "outside",
              "tickwidth": 2
             }
            },
            "type": "scattergl"
           }
          ],
          "scattermap": [
           {
            "marker": {
             "colorbar": {
              "outlinewidth": 0,
              "tickcolor": "rgb(36,36,36)",
              "ticklen": 8,
              "ticks": "outside",
              "tickwidth": 2
             }
            },
            "type": "scattermap"
           }
          ],
          "scattermapbox": [
           {
            "marker": {
             "colorbar": {
              "outlinewidth": 0,
              "tickcolor": "rgb(36,36,36)",
              "ticklen": 8,
              "ticks": "outside",
              "tickwidth": 2
             }
            },
            "type": "scattermapbox"
           }
          ],
          "scatterpolar": [
           {
            "marker": {
             "colorbar": {
              "outlinewidth": 0,
              "tickcolor": "rgb(36,36,36)",
              "ticklen": 8,
              "ticks": "outside",
              "tickwidth": 2
             }
            },
            "type": "scatterpolar"
           }
          ],
          "scatterpolargl": [
           {
            "marker": {
             "colorbar": {
              "outlinewidth": 0,
              "tickcolor": "rgb(36,36,36)",
              "ticklen": 8,
              "ticks": "outside",
              "tickwidth": 2
             }
            },
            "type": "scatterpolargl"
           }
          ],
          "scatterternary": [
           {
            "marker": {
             "colorbar": {
              "outlinewidth": 0,
              "tickcolor": "rgb(36,36,36)",
              "ticklen": 8,
              "ticks": "outside",
              "tickwidth": 2
             }
            },
            "type": "scatterternary"
           }
          ],
          "surface": [
           {
            "colorbar": {
             "outlinewidth": 0,
             "tickcolor": "rgb(36,36,36)",
             "ticklen": 8,
             "ticks": "outside",
             "tickwidth": 2
            },
            "colorscale": [
             [
              0,
              "rgb(2,4,25)"
             ],
             [
              0.06274509803921569,
              "rgb(24,15,41)"
             ],
             [
              0.12549019607843137,
              "rgb(47,23,57)"
             ],
             [
              0.18823529411764706,
              "rgb(71,28,72)"
             ],
             [
              0.25098039215686274,
              "rgb(97,30,82)"
             ],
             [
              0.3137254901960784,
              "rgb(123,30,89)"
             ],
             [
              0.3764705882352941,
              "rgb(150,27,91)"
             ],
             [
              0.4392156862745098,
              "rgb(177,22,88)"
             ],
             [
              0.5019607843137255,
              "rgb(203,26,79)"
             ],
             [
              0.5647058823529412,
              "rgb(223,47,67)"
             ],
             [
              0.6274509803921569,
              "rgb(236,76,61)"
             ],
             [
              0.6901960784313725,
              "rgb(242,107,73)"
             ],
             [
              0.7529411764705882,
              "rgb(244,135,95)"
             ],
             [
              0.8156862745098039,
              "rgb(245,162,122)"
             ],
             [
              0.8784313725490196,
              "rgb(246,188,153)"
             ],
             [
              0.9411764705882353,
              "rgb(247,212,187)"
             ],
             [
              1,
              "rgb(250,234,220)"
             ]
            ],
            "type": "surface"
           }
          ],
          "table": [
           {
            "cells": {
             "fill": {
              "color": "rgb(231,231,240)"
             },
             "line": {
              "color": "white"
             }
            },
            "header": {
             "fill": {
              "color": "rgb(183,183,191)"
             },
             "line": {
              "color": "white"
             }
            },
            "type": "table"
           }
          ]
         },
         "layout": {
          "annotationdefaults": {
           "arrowcolor": "rgb(67,103,167)"
          },
          "autotypenumbers": "strict",
          "coloraxis": {
           "colorbar": {
            "outlinewidth": 0,
            "tickcolor": "rgb(36,36,36)",
            "ticklen": 8,
            "ticks": "outside",
            "tickwidth": 2
           }
          },
          "colorscale": {
           "sequential": [
            [
             0,
             "rgb(2,4,25)"
            ],
            [
             0.06274509803921569,
             "rgb(24,15,41)"
            ],
            [
             0.12549019607843137,
             "rgb(47,23,57)"
            ],
            [
             0.18823529411764706,
             "rgb(71,28,72)"
            ],
            [
             0.25098039215686274,
             "rgb(97,30,82)"
            ],
            [
             0.3137254901960784,
             "rgb(123,30,89)"
            ],
            [
             0.3764705882352941,
             "rgb(150,27,91)"
            ],
            [
             0.4392156862745098,
             "rgb(177,22,88)"
            ],
            [
             0.5019607843137255,
             "rgb(203,26,79)"
            ],
            [
             0.5647058823529412,
             "rgb(223,47,67)"
            ],
            [
             0.6274509803921569,
             "rgb(236,76,61)"
            ],
            [
             0.6901960784313725,
             "rgb(242,107,73)"
            ],
            [
             0.7529411764705882,
             "rgb(244,135,95)"
            ],
            [
             0.8156862745098039,
             "rgb(245,162,122)"
            ],
            [
             0.8784313725490196,
             "rgb(246,188,153)"
            ],
            [
             0.9411764705882353,
             "rgb(247,212,187)"
            ],
            [
             1,
             "rgb(250,234,220)"
            ]
           ],
           "sequentialminus": [
            [
             0,
             "rgb(2,4,25)"
            ],
            [
             0.06274509803921569,
             "rgb(24,15,41)"
            ],
            [
             0.12549019607843137,
             "rgb(47,23,57)"
            ],
            [
             0.18823529411764706,
             "rgb(71,28,72)"
            ],
            [
             0.25098039215686274,
             "rgb(97,30,82)"
            ],
            [
             0.3137254901960784,
             "rgb(123,30,89)"
            ],
            [
             0.3764705882352941,
             "rgb(150,27,91)"
            ],
            [
             0.4392156862745098,
             "rgb(177,22,88)"
            ],
            [
             0.5019607843137255,
             "rgb(203,26,79)"
            ],
            [
             0.5647058823529412,
             "rgb(223,47,67)"
            ],
            [
             0.6274509803921569,
             "rgb(236,76,61)"
            ],
            [
             0.6901960784313725,
             "rgb(242,107,73)"
            ],
            [
             0.7529411764705882,
             "rgb(244,135,95)"
            ],
            [
             0.8156862745098039,
             "rgb(245,162,122)"
            ],
            [
             0.8784313725490196,
             "rgb(246,188,153)"
            ],
            [
             0.9411764705882353,
             "rgb(247,212,187)"
            ],
            [
             1,
             "rgb(250,234,220)"
            ]
           ]
          },
          "colorway": [
           "rgb(76,114,176)",
           "rgb(221,132,82)",
           "rgb(85,168,104)",
           "rgb(196,78,82)",
           "rgb(129,114,179)",
           "rgb(147,120,96)",
           "rgb(218,139,195)",
           "rgb(140,140,140)",
           "rgb(204,185,116)",
           "rgb(100,181,205)"
          ],
          "font": {
           "color": "rgb(36,36,36)"
          },
          "geo": {
           "bgcolor": "white",
           "lakecolor": "white",
           "landcolor": "rgb(234,234,242)",
           "showlakes": true,
           "showland": true,
           "subunitcolor": "white"
          },
          "hoverlabel": {
           "align": "left"
          },
          "hovermode": "closest",
          "paper_bgcolor": "white",
          "plot_bgcolor": "rgb(234,234,242)",
          "polar": {
           "angularaxis": {
            "gridcolor": "white",
            "linecolor": "white",
            "showgrid": true,
            "ticks": ""
           },
           "bgcolor": "rgb(234,234,242)",
           "radialaxis": {
            "gridcolor": "white",
            "linecolor": "white",
            "showgrid": true,
            "ticks": ""
           }
          },
          "scene": {
           "xaxis": {
            "backgroundcolor": "rgb(234,234,242)",
            "gridcolor": "white",
            "gridwidth": 2,
            "linecolor": "white",
            "showbackground": true,
            "showgrid": true,
            "ticks": "",
            "zerolinecolor": "white"
           },
           "yaxis": {
            "backgroundcolor": "rgb(234,234,242)",
            "gridcolor": "white",
            "gridwidth": 2,
            "linecolor": "white",
            "showbackground": true,
            "showgrid": true,
            "ticks": "",
            "zerolinecolor": "white"
           },
           "zaxis": {
            "backgroundcolor": "rgb(234,234,242)",
            "gridcolor": "white",
            "gridwidth": 2,
            "linecolor": "white",
            "showbackground": true,
            "showgrid": true,
            "ticks": "",
            "zerolinecolor": "white"
           }
          },
          "shapedefaults": {
           "fillcolor": "rgb(67,103,167)",
           "line": {
            "width": 0
           },
           "opacity": 0.5
          },
          "ternary": {
           "aaxis": {
            "gridcolor": "white",
            "linecolor": "white",
            "showgrid": true,
            "ticks": ""
           },
           "baxis": {
            "gridcolor": "white",
            "linecolor": "white",
            "showgrid": true,
            "ticks": ""
           },
           "bgcolor": "rgb(234,234,242)",
           "caxis": {
            "gridcolor": "white",
            "linecolor": "white",
            "showgrid": true,
            "ticks": ""
           }
          },
          "xaxis": {
           "automargin": true,
           "gridcolor": "white",
           "linecolor": "white",
           "showgrid": true,
           "ticks": "",
           "title": {
            "standoff": 15
           },
           "zerolinecolor": "white"
          },
          "yaxis": {
           "automargin": true,
           "gridcolor": "white",
           "linecolor": "white",
           "showgrid": true,
           "ticks": "",
           "title": {
            "standoff": 15
           },
           "zerolinecolor": "white"
          }
         }
        },
        "title": {
         "text": "Признак Brittle"
        },
        "xaxis": {
         "anchor": "y",
         "domain": [
          0,
          1
         ],
         "title": {
          "text": "коэффициент хрупкости скважины (%)"
         }
        },
        "yaxis": {
         "anchor": "x",
         "domain": [
          0,
          1
         ],
         "title": {
          "text": "Prod"
         }
        }
       }
      }
     },
     "metadata": {},
     "output_type": "display_data"
    },
    {
     "name": "stdout",
     "output_type": "stream",
     "text": [
      "Коэффициент детерминации: -0.018964413066719327\n"
     ]
    },
    {
     "data": {
      "application/vnd.plotly.v1+json": {
       "config": {
        "plotlyServerURL": "https://plot.ly"
       },
       "data": [
        {
         "hovertemplate": "общий органический углерод (%)=%{x}<br>Prod=%{y}<extra></extra>",
         "legendgroup": "",
         "marker": {
          "color": "rgb(76,114,176)",
          "symbol": "circle"
         },
         "mode": "markers",
         "name": "",
         "orientation": "v",
         "showlegend": false,
         "type": "scatter",
         "x": {
          "bdata": "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",
          "dtype": "f8"
         },
         "xaxis": "x",
         "y": {
          "bdata": "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",
          "dtype": "f8"
         },
         "yaxis": "y"
        },
        {
         "hovertemplate": "<b>OLS trendline</b><br>y = 1348.11 * x + 2975.98<br>R<sup>2</sup>=0.428299<br><br>общий органический углерод (%)=%{x}<br>Prod=%{y} <b>(trend)</b><extra></extra>",
         "legendgroup": "",
         "marker": {
          "color": "rgb(76,114,176)",
          "symbol": "circle"
         },
         "mode": "lines",
         "name": "",
         "showlegend": false,
         "type": "scatter",
         "x": {
          "bdata": "UrgehetRyL97FK5H4Xqkv3sUrkfheqS/uB6F61G4nr97FK5H4XqkP3sUrkfheqQ/exSuR+F6tD+amZmZmZm5Pylcj8L1KLw/uB6F61G4vj/sUbgehevBP3sUrkfhesQ/CtejcD0Kxz+amZmZmZnJP+xRuB6F69E/7FG4HoXr0T8zMzMzMzPTP9ejcD0K19M/ZmZmZmZm1j+uR+F6FK7XP1K4HoXrUdg/UrgehetR2D9SuB6F61HYP1K4HoXrUdg/UrgehetR2D9SuB6F61HYP/YoXI/C9dg/hetRuB6F2z+F61G4HoXbP83MzMzMzNw/zczMzMzM3D9xPQrXo3DdPxSuR+F6FN4/uB6F61G43j+4HoXrUbjeP7gehetRuN4/uB6F61G43j8AAAAAAADgPwAAAAAAAOA/AAAAAAAA4D+kcD0K16PgP6RwPQrXo+A/SOF6FK5H4T89CtejcD3iP4/C9Shcj+I/j8L1KFyP4j/hehSuR+HiPzMzMzMzM+M/MzMzMzMz4z+F61G4HoXjP9ejcD0K1+M/KVyPwvUo5D8fhetRuB7lP3E9CtejcOU/FK5H4XoU5j8K16NwPQrnPwrXo3A9Cuc/CtejcD0K5z9SuB6F61HoP1K4HoXrUeg/9ihcj8L16D9I4XoUrkfpP5qZmZmZmek/mpmZmZmZ6T+amZmZmZnpP5qZmZmZmek/7FG4HoXr6T/sUbgehevpP+xRuB6F6+k/PQrXo3A96j89CtejcD3qP4/C9Shcj+o/4XoUrkfh6j/hehSuR+HqP+F6FK5H4eo/hetRuB6F6z/Xo3A9CtfrP3sUrkfheuw/exSuR+F67D/NzMzMzMzsP83MzMzMzOw/zczMzMzM7D8fhetRuB7tP3E9CtejcO0/cT0K16Nw7T/D9Shcj8LtP8P1KFyPwu0/FK5H4XoU7j9mZmZmZmbuP2ZmZmZmZu4/ZmZmZmZm7j8K16NwPQrvPwrXo3A9Cu8/XI/C9Shc7z9cj8L1KFzvPwAAAAAAAPA/AAAAAAAA8D8pXI/C9SjwP1K4HoXrUfA/UrgehetR8D+kcD0K16PwP6RwPQrXo/A/pHA9Ctej8D+kcD0K16PwP83MzMzMzPA/9ihcj8L18D8fhetRuB7xPx+F61G4HvE/SOF6FK5H8T9I4XoUrkfxP0jhehSuR/E/cT0K16Nw8T9xPQrXo3DxP5qZmZmZmfE/mpmZmZmZ8T/D9Shcj8LxP+xRuB6F6/E/FK5H4XoU8j8UrkfhehTyPz0K16NwPfI/PQrXo3A98j9mZmZmZmbyP2ZmZmZmZvI/j8L1KFyP8j+PwvUoXI/yP7gehetRuPI/uB6F61G48j+4HoXrUbjyP7gehetRuPI/uB6F61G48j9cj8L1KFzzP1yPwvUoXPM/hetRuB6F8z+F61G4HoXzP65H4XoUrvM/rkfhehSu8z/Xo3A9CtfzPwAAAAAAAPQ/KVyPwvUo9D8pXI/C9Sj0P3sUrkfhevQ/exSuR+F69D/NzMzMzMz0P0jhehSuR/U/SOF6FK5H9T9I4XoUrkf1P0jhehSuR/U/SOF6FK5H9T9xPQrXo3D1P5qZmZmZmfU/mpmZmZmZ9T/D9Shcj8L1P+xRuB6F6/U/7FG4HoXr9T89CtejcD32P2ZmZmZmZvY/ZmZmZmZm9j+PwvUoXI/2P7gehetRuPY/uB6F61G49j/hehSuR+H2PzMzMzMzM/c/XI/C9Shc9z+F61G4HoX3P4XrUbgehfc/hetRuB6F9z+uR+F6FK73P65H4XoUrvc/AAAAAAAA+D8pXI/C9Sj4Pylcj8L1KPg/UrgehetR+D9SuB6F61H4P1K4HoXrUfg/exSuR+F6+D97FK5H4Xr4P3sUrkfhevg/pHA9Ctej+D/NzMzMzMz4Px+F61G4Hvk/SOF6FK5H+T9xPQrXo3D5P3E9CtejcPk/mpmZmZmZ+T/sUbgehev5Pz0K16NwPfo/j8L1KFyP+j+PwvUoXI/6P7gehetRuPo/XI/C9Shc+z/Xo3A9Ctf7PwAAAAAAAPw/UrgehetR/D9SuB6F61H8P+xRuB6F6/0/PQrXo3A9/j+F61G4HoX/P4/C9ShcjwBApHA9CtejAEBxPQrXo3ABQA==",
          "dtype": "f8"
         },
         "xaxis": "x",
         "y": {
          "bdata": "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",
          "dtype": "f8"
         },
         "yaxis": "y"
        }
       ],
       "layout": {
        "legend": {
         "tracegroupgap": 0
        },
        "template": {
         "data": {
          "bar": [
           {
            "error_x": {
             "color": "rgb(36,36,36)"
            },
            "error_y": {
             "color": "rgb(36,36,36)"
            },
            "marker": {
             "line": {
              "color": "rgb(234,234,242)",
              "width": 0.5
             },
             "pattern": {
              "fillmode": "overlay",
              "size": 10,
              "solidity": 0.2
             }
            },
            "type": "bar"
           }
          ],
          "barpolar": [
           {
            "marker": {
             "line": {
              "color": "rgb(234,234,242)",
              "width": 0.5
             },
             "pattern": {
              "fillmode": "overlay",
              "size": 10,
              "solidity": 0.2
             }
            },
            "type": "barpolar"
           }
          ],
          "carpet": [
           {
            "aaxis": {
             "endlinecolor": "rgb(36,36,36)",
             "gridcolor": "white",
             "linecolor": "white",
             "minorgridcolor": "white",
             "startlinecolor": "rgb(36,36,36)"
            },
            "baxis": {
             "endlinecolor": "rgb(36,36,36)",
             "gridcolor": "white",
             "linecolor": "white",
             "minorgridcolor": "white",
             "startlinecolor": "rgb(36,36,36)"
            },
            "type": "carpet"
           }
          ],
          "choropleth": [
           {
            "colorbar": {
             "outlinewidth": 0,
             "tickcolor": "rgb(36,36,36)",
             "ticklen": 8,
             "ticks": "outside",
             "tickwidth": 2
            },
            "type": "choropleth"
           }
          ],
          "contour": [
           {
            "colorbar": {
             "outlinewidth": 0,
             "tickcolor": "rgb(36,36,36)",
             "ticklen": 8,
             "ticks": "outside",
             "tickwidth": 2
            },
            "colorscale": [
             [
              0,
              "rgb(2,4,25)"
             ],
             [
              0.06274509803921569,
              "rgb(24,15,41)"
             ],
             [
              0.12549019607843137,
              "rgb(47,23,57)"
             ],
             [
              0.18823529411764706,
              "rgb(71,28,72)"
             ],
             [
              0.25098039215686274,
              "rgb(97,30,82)"
             ],
             [
              0.3137254901960784,
              "rgb(123,30,89)"
             ],
             [
              0.3764705882352941,
              "rgb(150,27,91)"
             ],
             [
              0.4392156862745098,
              "rgb(177,22,88)"
             ],
             [
              0.5019607843137255,
              "rgb(203,26,79)"
             ],
             [
              0.5647058823529412,
              "rgb(223,47,67)"
             ],
             [
              0.6274509803921569,
              "rgb(236,76,61)"
             ],
             [
              0.6901960784313725,
              "rgb(242,107,73)"
             ],
             [
              0.7529411764705882,
              "rgb(244,135,95)"
             ],
             [
              0.8156862745098039,
              "rgb(245,162,122)"
             ],
             [
              0.8784313725490196,
              "rgb(246,188,153)"
             ],
             [
              0.9411764705882353,
              "rgb(247,212,187)"
             ],
             [
              1,
              "rgb(250,234,220)"
             ]
            ],
            "type": "contour"
           }
          ],
          "contourcarpet": [
           {
            "colorbar": {
             "outlinewidth": 0,
             "tickcolor": "rgb(36,36,36)",
             "ticklen": 8,
             "ticks": "outside",
             "tickwidth": 2
            },
            "type": "contourcarpet"
           }
          ],
          "heatmap": [
           {
            "colorbar": {
             "outlinewidth": 0,
             "tickcolor": "rgb(36,36,36)",
             "ticklen": 8,
             "ticks": "outside",
             "tickwidth": 2
            },
            "colorscale": [
             [
              0,
              "rgb(2,4,25)"
             ],
             [
              0.06274509803921569,
              "rgb(24,15,41)"
             ],
             [
              0.12549019607843137,
              "rgb(47,23,57)"
             ],
             [
              0.18823529411764706,
              "rgb(71,28,72)"
             ],
             [
              0.25098039215686274,
              "rgb(97,30,82)"
             ],
             [
              0.3137254901960784,
              "rgb(123,30,89)"
             ],
             [
              0.3764705882352941,
              "rgb(150,27,91)"
             ],
             [
              0.4392156862745098,
              "rgb(177,22,88)"
             ],
             [
              0.5019607843137255,
              "rgb(203,26,79)"
             ],
             [
              0.5647058823529412,
              "rgb(223,47,67)"
             ],
             [
              0.6274509803921569,
              "rgb(236,76,61)"
             ],
             [
              0.6901960784313725,
              "rgb(242,107,73)"
             ],
             [
              0.7529411764705882,
              "rgb(244,135,95)"
             ],
             [
              0.8156862745098039,
              "rgb(245,162,122)"
             ],
             [
              0.8784313725490196,
              "rgb(246,188,153)"
             ],
             [
              0.9411764705882353,
              "rgb(247,212,187)"
             ],
             [
              1,
              "rgb(250,234,220)"
             ]
            ],
            "type": "heatmap"
           }
          ],
          "histogram": [
           {
            "marker": {
             "pattern": {
              "fillmode": "overlay",
              "size": 10,
              "solidity": 0.2
             }
            },
            "type": "histogram"
           }
          ],
          "histogram2d": [
           {
            "colorbar": {
             "outlinewidth": 0,
             "tickcolor": "rgb(36,36,36)",
             "ticklen": 8,
             "ticks": "outside",
             "tickwidth": 2
            },
            "colorscale": [
             [
              0,
              "rgb(2,4,25)"
             ],
             [
              0.06274509803921569,
              "rgb(24,15,41)"
             ],
             [
              0.12549019607843137,
              "rgb(47,23,57)"
             ],
             [
              0.18823529411764706,
              "rgb(71,28,72)"
             ],
             [
              0.25098039215686274,
              "rgb(97,30,82)"
             ],
             [
              0.3137254901960784,
              "rgb(123,30,89)"
             ],
             [
              0.3764705882352941,
              "rgb(150,27,91)"
             ],
             [
              0.4392156862745098,
              "rgb(177,22,88)"
             ],
             [
              0.5019607843137255,
              "rgb(203,26,79)"
             ],
             [
              0.5647058823529412,
              "rgb(223,47,67)"
             ],
             [
              0.6274509803921569,
              "rgb(236,76,61)"
             ],
             [
              0.6901960784313725,
              "rgb(242,107,73)"
             ],
             [
              0.7529411764705882,
              "rgb(244,135,95)"
             ],
             [
              0.8156862745098039,
              "rgb(245,162,122)"
             ],
             [
              0.8784313725490196,
              "rgb(246,188,153)"
             ],
             [
              0.9411764705882353,
              "rgb(247,212,187)"
             ],
             [
              1,
              "rgb(250,234,220)"
             ]
            ],
            "type": "histogram2d"
           }
          ],
          "histogram2dcontour": [
           {
            "colorbar": {
             "outlinewidth": 0,
             "tickcolor": "rgb(36,36,36)",
             "ticklen": 8,
             "ticks": "outside",
             "tickwidth": 2
            },
            "colorscale": [
             [
              0,
              "rgb(2,4,25)"
             ],
             [
              0.06274509803921569,
              "rgb(24,15,41)"
             ],
             [
              0.12549019607843137,
              "rgb(47,23,57)"
             ],
             [
              0.18823529411764706,
              "rgb(71,28,72)"
             ],
             [
              0.25098039215686274,
              "rgb(97,30,82)"
             ],
             [
              0.3137254901960784,
              "rgb(123,30,89)"
             ],
             [
              0.3764705882352941,
              "rgb(150,27,91)"
             ],
             [
              0.4392156862745098,
              "rgb(177,22,88)"
             ],
             [
              0.5019607843137255,
              "rgb(203,26,79)"
             ],
             [
              0.5647058823529412,
              "rgb(223,47,67)"
             ],
             [
              0.6274509803921569,
              "rgb(236,76,61)"
             ],
             [
              0.6901960784313725,
              "rgb(242,107,73)"
             ],
             [
              0.7529411764705882,
              "rgb(244,135,95)"
             ],
             [
              0.8156862745098039,
              "rgb(245,162,122)"
             ],
             [
              0.8784313725490196,
              "rgb(246,188,153)"
             ],
             [
              0.9411764705882353,
              "rgb(247,212,187)"
             ],
             [
              1,
              "rgb(250,234,220)"
             ]
            ],
            "type": "histogram2dcontour"
           }
          ],
          "mesh3d": [
           {
            "colorbar": {
             "outlinewidth": 0,
             "tickcolor": "rgb(36,36,36)",
             "ticklen": 8,
             "ticks": "outside",
             "tickwidth": 2
            },
            "type": "mesh3d"
           }
          ],
          "parcoords": [
           {
            "line": {
             "colorbar": {
              "outlinewidth": 0,
              "tickcolor": "rgb(36,36,36)",
              "ticklen": 8,
              "ticks": "outside",
              "tickwidth": 2
             }
            },
            "type": "parcoords"
           }
          ],
          "pie": [
           {
            "automargin": true,
            "type": "pie"
           }
          ],
          "scatter": [
           {
            "fillpattern": {
             "fillmode": "overlay",
             "size": 10,
             "solidity": 0.2
            },
            "type": "scatter"
           }
          ],
          "scatter3d": [
           {
            "line": {
             "colorbar": {
              "outlinewidth": 0,
              "tickcolor": "rgb(36,36,36)",
              "ticklen": 8,
              "ticks": "outside",
              "tickwidth": 2
             }
            },
            "marker": {
             "colorbar": {
              "outlinewidth": 0,
              "tickcolor": "rgb(36,36,36)",
              "ticklen": 8,
              "ticks": "outside",
              "tickwidth": 2
             }
            },
            "type": "scatter3d"
           }
          ],
          "scattercarpet": [
           {
            "marker": {
             "colorbar": {
              "outlinewidth": 0,
              "tickcolor": "rgb(36,36,36)",
              "ticklen": 8,
              "ticks": "outside",
              "tickwidth": 2
             }
            },
            "type": "scattercarpet"
           }
          ],
          "scattergeo": [
           {
            "marker": {
             "colorbar": {
              "outlinewidth": 0,
              "tickcolor": "rgb(36,36,36)",
              "ticklen": 8,
              "ticks": "outside",
              "tickwidth": 2
             }
            },
            "type": "scattergeo"
           }
          ],
          "scattergl": [
           {
            "marker": {
             "colorbar": {
              "outlinewidth": 0,
              "tickcolor": "rgb(36,36,36)",
              "ticklen": 8,
              "ticks": "outside",
              "tickwidth": 2
             }
            },
            "type": "scattergl"
           }
          ],
          "scattermap": [
           {
            "marker": {
             "colorbar": {
              "outlinewidth": 0,
              "tickcolor": "rgb(36,36,36)",
              "ticklen": 8,
              "ticks": "outside",
              "tickwidth": 2
             }
            },
            "type": "scattermap"
           }
          ],
          "scattermapbox": [
           {
            "marker": {
             "colorbar": {
              "outlinewidth": 0,
              "tickcolor": "rgb(36,36,36)",
              "ticklen": 8,
              "ticks": "outside",
              "tickwidth": 2
             }
            },
            "type": "scattermapbox"
           }
          ],
          "scatterpolar": [
           {
            "marker": {
             "colorbar": {
              "outlinewidth": 0,
              "tickcolor": "rgb(36,36,36)",
              "ticklen": 8,
              "ticks": "outside",
              "tickwidth": 2
             }
            },
            "type": "scatterpolar"
           }
          ],
          "scatterpolargl": [
           {
            "marker": {
             "colorbar": {
              "outlinewidth": 0,
              "tickcolor": "rgb(36,36,36)",
              "ticklen": 8,
              "ticks": "outside",
              "tickwidth": 2
             }
            },
            "type": "scatterpolargl"
           }
          ],
          "scatterternary": [
           {
            "marker": {
             "colorbar": {
              "outlinewidth": 0,
              "tickcolor": "rgb(36,36,36)",
              "ticklen": 8,
              "ticks": "outside",
              "tickwidth": 2
             }
            },
            "type": "scatterternary"
           }
          ],
          "surface": [
           {
            "colorbar": {
             "outlinewidth": 0,
             "tickcolor": "rgb(36,36,36)",
             "ticklen": 8,
             "ticks": "outside",
             "tickwidth": 2
            },
            "colorscale": [
             [
              0,
              "rgb(2,4,25)"
             ],
             [
              0.06274509803921569,
              "rgb(24,15,41)"
             ],
             [
              0.12549019607843137,
              "rgb(47,23,57)"
             ],
             [
              0.18823529411764706,
              "rgb(71,28,72)"
             ],
             [
              0.25098039215686274,
              "rgb(97,30,82)"
             ],
             [
              0.3137254901960784,
              "rgb(123,30,89)"
             ],
             [
              0.3764705882352941,
              "rgb(150,27,91)"
             ],
             [
              0.4392156862745098,
              "rgb(177,22,88)"
             ],
             [
              0.5019607843137255,
              "rgb(203,26,79)"
             ],
             [
              0.5647058823529412,
              "rgb(223,47,67)"
             ],
             [
              0.6274509803921569,
              "rgb(236,76,61)"
             ],
             [
              0.6901960784313725,
              "rgb(242,107,73)"
             ],
             [
              0.7529411764705882,
              "rgb(244,135,95)"
             ],
             [
              0.8156862745098039,
              "rgb(245,162,122)"
             ],
             [
              0.8784313725490196,
              "rgb(246,188,153)"
             ],
             [
              0.9411764705882353,
              "rgb(247,212,187)"
             ],
             [
              1,
              "rgb(250,234,220)"
             ]
            ],
            "type": "surface"
           }
          ],
          "table": [
           {
            "cells": {
             "fill": {
              "color": "rgb(231,231,240)"
             },
             "line": {
              "color": "white"
             }
            },
            "header": {
             "fill": {
              "color": "rgb(183,183,191)"
             },
             "line": {
              "color": "white"
             }
            },
            "type": "table"
           }
          ]
         },
         "layout": {
          "annotationdefaults": {
           "arrowcolor": "rgb(67,103,167)"
          },
          "autotypenumbers": "strict",
          "coloraxis": {
           "colorbar": {
            "outlinewidth": 0,
            "tickcolor": "rgb(36,36,36)",
            "ticklen": 8,
            "ticks": "outside",
            "tickwidth": 2
           }
          },
          "colorscale": {
           "sequential": [
            [
             0,
             "rgb(2,4,25)"
            ],
            [
             0.06274509803921569,
             "rgb(24,15,41)"
            ],
            [
             0.12549019607843137,
             "rgb(47,23,57)"
            ],
            [
             0.18823529411764706,
             "rgb(71,28,72)"
            ],
            [
             0.25098039215686274,
             "rgb(97,30,82)"
            ],
            [
             0.3137254901960784,
             "rgb(123,30,89)"
            ],
            [
             0.3764705882352941,
             "rgb(150,27,91)"
            ],
            [
             0.4392156862745098,
             "rgb(177,22,88)"
            ],
            [
             0.5019607843137255,
             "rgb(203,26,79)"
            ],
            [
             0.5647058823529412,
             "rgb(223,47,67)"
            ],
            [
             0.6274509803921569,
             "rgb(236,76,61)"
            ],
            [
             0.6901960784313725,
             "rgb(242,107,73)"
            ],
            [
             0.7529411764705882,
             "rgb(244,135,95)"
            ],
            [
             0.8156862745098039,
             "rgb(245,162,122)"
            ],
            [
             0.8784313725490196,
             "rgb(246,188,153)"
            ],
            [
             0.9411764705882353,
             "rgb(247,212,187)"
            ],
            [
             1,
             "rgb(250,234,220)"
            ]
           ],
           "sequentialminus": [
            [
             0,
             "rgb(2,4,25)"
            ],
            [
             0.06274509803921569,
             "rgb(24,15,41)"
            ],
            [
             0.12549019607843137,
             "rgb(47,23,57)"
            ],
            [
             0.18823529411764706,
             "rgb(71,28,72)"
            ],
            [
             0.25098039215686274,
             "rgb(97,30,82)"
            ],
            [
             0.3137254901960784,
             "rgb(123,30,89)"
            ],
            [
             0.3764705882352941,
             "rgb(150,27,91)"
            ],
            [
             0.4392156862745098,
             "rgb(177,22,88)"
            ],
            [
             0.5019607843137255,
             "rgb(203,26,79)"
            ],
            [
             0.5647058823529412,
             "rgb(223,47,67)"
            ],
            [
             0.6274509803921569,
             "rgb(236,76,61)"
            ],
            [
             0.6901960784313725,
             "rgb(242,107,73)"
            ],
            [
             0.7529411764705882,
             "rgb(244,135,95)"
            ],
            [
             0.8156862745098039,
             "rgb(245,162,122)"
            ],
            [
             0.8784313725490196,
             "rgb(246,188,153)"
            ],
            [
             0.9411764705882353,
             "rgb(247,212,187)"
            ],
            [
             1,
             "rgb(250,234,220)"
            ]
           ]
          },
          "colorway": [
           "rgb(76,114,176)",
           "rgb(221,132,82)",
           "rgb(85,168,104)",
           "rgb(196,78,82)",
           "rgb(129,114,179)",
           "rgb(147,120,96)",
           "rgb(218,139,195)",
           "rgb(140,140,140)",
           "rgb(204,185,116)",
           "rgb(100,181,205)"
          ],
          "font": {
           "color": "rgb(36,36,36)"
          },
          "geo": {
           "bgcolor": "white",
           "lakecolor": "white",
           "landcolor": "rgb(234,234,242)",
           "showlakes": true,
           "showland": true,
           "subunitcolor": "white"
          },
          "hoverlabel": {
           "align": "left"
          },
          "hovermode": "closest",
          "paper_bgcolor": "white",
          "plot_bgcolor": "rgb(234,234,242)",
          "polar": {
           "angularaxis": {
            "gridcolor": "white",
            "linecolor": "white",
            "showgrid": true,
            "ticks": ""
           },
           "bgcolor": "rgb(234,234,242)",
           "radialaxis": {
            "gridcolor": "white",
            "linecolor": "white",
            "showgrid": true,
            "ticks": ""
           }
          },
          "scene": {
           "xaxis": {
            "backgroundcolor": "rgb(234,234,242)",
            "gridcolor": "white",
            "gridwidth": 2,
            "linecolor": "white",
            "showbackground": true,
            "showgrid": true,
            "ticks": "",
            "zerolinecolor": "white"
           },
           "yaxis": {
            "backgroundcolor": "rgb(234,234,242)",
            "gridcolor": "white",
            "gridwidth": 2,
            "linecolor": "white",
            "showbackground": true,
            "showgrid": true,
            "ticks": "",
            "zerolinecolor": "white"
           },
           "zaxis": {
            "backgroundcolor": "rgb(234,234,242)",
            "gridcolor": "white",
            "gridwidth": 2,
            "linecolor": "white",
            "showbackground": true,
            "showgrid": true,
            "ticks": "",
            "zerolinecolor": "white"
           }
          },
          "shapedefaults": {
           "fillcolor": "rgb(67,103,167)",
           "line": {
            "width": 0
           },
           "opacity": 0.5
          },
          "ternary": {
           "aaxis": {
            "gridcolor": "white",
            "linecolor": "white",
            "showgrid": true,
            "ticks": ""
           },
           "baxis": {
            "gridcolor": "white",
            "linecolor": "white",
            "showgrid": true,
            "ticks": ""
           },
           "bgcolor": "rgb(234,234,242)",
           "caxis": {
            "gridcolor": "white",
            "linecolor": "white",
            "showgrid": true,
            "ticks": ""
           }
          },
          "xaxis": {
           "automargin": true,
           "gridcolor": "white",
           "linecolor": "white",
           "showgrid": true,
           "ticks": "",
           "title": {
            "standoff": 15
           },
           "zerolinecolor": "white"
          },
          "yaxis": {
           "automargin": true,
           "gridcolor": "white",
           "linecolor": "white",
           "showgrid": true,
           "ticks": "",
           "title": {
            "standoff": 15
           },
           "zerolinecolor": "white"
          }
         }
        },
        "title": {
         "text": "Признак TOC"
        },
        "xaxis": {
         "anchor": "y",
         "domain": [
          0,
          1
         ],
         "title": {
          "text": "общий органический углерод (%)"
         }
        },
        "yaxis": {
         "anchor": "x",
         "domain": [
          0,
          1
         ],
         "title": {
          "text": "Prod"
         }
        }
       }
      }
     },
     "metadata": {},
     "output_type": "display_data"
    },
    {
     "name": "stdout",
     "output_type": "stream",
     "text": [
      "Коэффициент детерминации: 0.41109934104627016\n"
     ]
    },
    {
     "data": {
      "application/vnd.plotly.v1+json": {
       "config": {
        "plotlyServerURL": "https://plot.ly"
       },
       "data": [
        {
         "hovertemplate": "коэффициент отражения витринита (%)=%{x}<br>Prod=%{y}<extra></extra>",
         "legendgroup": "",
         "marker": {
          "color": "rgb(76,114,176)",
          "symbol": "circle"
         },
         "mode": "markers",
         "name": "",
         "orientation": "v",
         "showlegend": false,
         "type": "scatter",
         "x": {
          "bdata": "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",
          "dtype": "f8"
         },
         "xaxis": "x",
         "y": {
          "bdata": "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",
          "dtype": "f8"
         },
         "yaxis": "y"
        },
        {
         "hovertemplate": "<b>OLS trendline</b><br>y = 1065.76 * x + 2217.75<br>R<sup>2</sup>=0.104446<br><br>коэффициент отражения витринита (%)=%{x}<br>Prod=%{y} <b>(trend)</b><extra></extra>",
         "legendgroup": "",
         "marker": {
          "color": "rgb(76,114,176)",
          "symbol": "circle"
         },
         "mode": "lines",
         "name": "",
         "showlegend": false,
         "type": "scatter",
         "x": {
          "bdata": "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",
          "dtype": "f8"
         },
         "xaxis": "x",
         "y": {
          "bdata": "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",
          "dtype": "f8"
         },
         "yaxis": "y"
        }
       ],
       "layout": {
        "legend": {
         "tracegroupgap": 0
        },
        "template": {
         "data": {
          "bar": [
           {
            "error_x": {
             "color": "rgb(36,36,36)"
            },
            "error_y": {
             "color": "rgb(36,36,36)"
            },
            "marker": {
             "line": {
              "color": "rgb(234,234,242)",
              "width": 0.5
             },
             "pattern": {
              "fillmode": "overlay",
              "size": 10,
              "solidity": 0.2
             }
            },
            "type": "bar"
           }
          ],
          "barpolar": [
           {
            "marker": {
             "line": {
              "color": "rgb(234,234,242)",
              "width": 0.5
             },
             "pattern": {
              "fillmode": "overlay",
              "size": 10,
              "solidity": 0.2
             }
            },
            "type": "barpolar"
           }
          ],
          "carpet": [
           {
            "aaxis": {
             "endlinecolor": "rgb(36,36,36)",
             "gridcolor": "white",
             "linecolor": "white",
             "minorgridcolor": "white",
             "startlinecolor": "rgb(36,36,36)"
            },
            "baxis": {
             "endlinecolor": "rgb(36,36,36)",
             "gridcolor": "white",
             "linecolor": "white",
             "minorgridcolor": "white",
             "startlinecolor": "rgb(36,36,36)"
            },
            "type": "carpet"
           }
          ],
          "choropleth": [
           {
            "colorbar": {
             "outlinewidth": 0,
             "tickcolor": "rgb(36,36,36)",
             "ticklen": 8,
             "ticks": "outside",
             "tickwidth": 2
            },
            "type": "choropleth"
           }
          ],
          "contour": [
           {
            "colorbar": {
             "outlinewidth": 0,
             "tickcolor": "rgb(36,36,36)",
             "ticklen": 8,
             "ticks": "outside",
             "tickwidth": 2
            },
            "colorscale": [
             [
              0,
              "rgb(2,4,25)"
             ],
             [
              0.06274509803921569,
              "rgb(24,15,41)"
             ],
             [
              0.12549019607843137,
              "rgb(47,23,57)"
             ],
             [
              0.18823529411764706,
              "rgb(71,28,72)"
             ],
             [
              0.25098039215686274,
              "rgb(97,30,82)"
             ],
             [
              0.3137254901960784,
              "rgb(123,30,89)"
             ],
             [
              0.3764705882352941,
              "rgb(150,27,91)"
             ],
             [
              0.4392156862745098,
              "rgb(177,22,88)"
             ],
             [
              0.5019607843137255,
              "rgb(203,26,79)"
             ],
             [
              0.5647058823529412,
              "rgb(223,47,67)"
             ],
             [
              0.6274509803921569,
              "rgb(236,76,61)"
             ],
             [
              0.6901960784313725,
              "rgb(242,107,73)"
             ],
             [
              0.7529411764705882,
              "rgb(244,135,95)"
             ],
             [
              0.8156862745098039,
              "rgb(245,162,122)"
             ],
             [
              0.8784313725490196,
              "rgb(246,188,153)"
             ],
             [
              0.9411764705882353,
              "rgb(247,212,187)"
             ],
             [
              1,
              "rgb(250,234,220)"
             ]
            ],
            "type": "contour"
           }
          ],
          "contourcarpet": [
           {
            "colorbar": {
             "outlinewidth": 0,
             "tickcolor": "rgb(36,36,36)",
             "ticklen": 8,
             "ticks": "outside",
             "tickwidth": 2
            },
            "type": "contourcarpet"
           }
          ],
          "heatmap": [
           {
            "colorbar": {
             "outlinewidth": 0,
             "tickcolor": "rgb(36,36,36)",
             "ticklen": 8,
             "ticks": "outside",
             "tickwidth": 2
            },
            "colorscale": [
             [
              0,
              "rgb(2,4,25)"
             ],
             [
              0.06274509803921569,
              "rgb(24,15,41)"
             ],
             [
              0.12549019607843137,
              "rgb(47,23,57)"
             ],
             [
              0.18823529411764706,
              "rgb(71,28,72)"
             ],
             [
              0.25098039215686274,
              "rgb(97,30,82)"
             ],
             [
              0.3137254901960784,
              "rgb(123,30,89)"
             ],
             [
              0.3764705882352941,
              "rgb(150,27,91)"
             ],
             [
              0.4392156862745098,
              "rgb(177,22,88)"
             ],
             [
              0.5019607843137255,
              "rgb(203,26,79)"
             ],
             [
              0.5647058823529412,
              "rgb(223,47,67)"
             ],
             [
              0.6274509803921569,
              "rgb(236,76,61)"
             ],
             [
              0.6901960784313725,
              "rgb(242,107,73)"
             ],
             [
              0.7529411764705882,
              "rgb(244,135,95)"
             ],
             [
              0.8156862745098039,
              "rgb(245,162,122)"
             ],
             [
              0.8784313725490196,
              "rgb(246,188,153)"
             ],
             [
              0.9411764705882353,
              "rgb(247,212,187)"
             ],
             [
              1,
              "rgb(250,234,220)"
             ]
            ],
            "type": "heatmap"
           }
          ],
          "histogram": [
           {
            "marker": {
             "pattern": {
              "fillmode": "overlay",
              "size": 10,
              "solidity": 0.2
             }
            },
            "type": "histogram"
           }
          ],
          "histogram2d": [
           {
            "colorbar": {
             "outlinewidth": 0,
             "tickcolor": "rgb(36,36,36)",
             "ticklen": 8,
             "ticks": "outside",
             "tickwidth": 2
            },
            "colorscale": [
             [
              0,
              "rgb(2,4,25)"
             ],
             [
              0.06274509803921569,
              "rgb(24,15,41)"
             ],
             [
              0.12549019607843137,
              "rgb(47,23,57)"
             ],
             [
              0.18823529411764706,
              "rgb(71,28,72)"
             ],
             [
              0.25098039215686274,
              "rgb(97,30,82)"
             ],
             [
              0.3137254901960784,
              "rgb(123,30,89)"
             ],
             [
              0.3764705882352941,
              "rgb(150,27,91)"
             ],
             [
              0.4392156862745098,
              "rgb(177,22,88)"
             ],
             [
              0.5019607843137255,
              "rgb(203,26,79)"
             ],
             [
              0.5647058823529412,
              "rgb(223,47,67)"
             ],
             [
              0.6274509803921569,
              "rgb(236,76,61)"
             ],
             [
              0.6901960784313725,
              "rgb(242,107,73)"
             ],
             [
              0.7529411764705882,
              "rgb(244,135,95)"
             ],
             [
              0.8156862745098039,
              "rgb(245,162,122)"
             ],
             [
              0.8784313725490196,
              "rgb(246,188,153)"
             ],
             [
              0.9411764705882353,
              "rgb(247,212,187)"
             ],
             [
              1,
              "rgb(250,234,220)"
             ]
            ],
            "type": "histogram2d"
           }
          ],
          "histogram2dcontour": [
           {
            "colorbar": {
             "outlinewidth": 0,
             "tickcolor": "rgb(36,36,36)",
             "ticklen": 8,
             "ticks": "outside",
             "tickwidth": 2
            },
            "colorscale": [
             [
              0,
              "rgb(2,4,25)"
             ],
             [
              0.06274509803921569,
              "rgb(24,15,41)"
             ],
             [
              0.12549019607843137,
              "rgb(47,23,57)"
             ],
             [
              0.18823529411764706,
              "rgb(71,28,72)"
             ],
             [
              0.25098039215686274,
              "rgb(97,30,82)"
             ],
             [
              0.3137254901960784,
              "rgb(123,30,89)"
             ],
             [
              0.3764705882352941,
              "rgb(150,27,91)"
             ],
             [
              0.4392156862745098,
              "rgb(177,22,88)"
             ],
             [
              0.5019607843137255,
              "rgb(203,26,79)"
             ],
             [
              0.5647058823529412,
              "rgb(223,47,67)"
             ],
             [
              0.6274509803921569,
              "rgb(236,76,61)"
             ],
             [
              0.6901960784313725,
              "rgb(242,107,73)"
             ],
             [
              0.7529411764705882,
              "rgb(244,135,95)"
             ],
             [
              0.8156862745098039,
              "rgb(245,162,122)"
             ],
             [
              0.8784313725490196,
              "rgb(246,188,153)"
             ],
             [
              0.9411764705882353,
              "rgb(247,212,187)"
             ],
             [
              1,
              "rgb(250,234,220)"
             ]
            ],
            "type": "histogram2dcontour"
           }
          ],
          "mesh3d": [
           {
            "colorbar": {
             "outlinewidth": 0,
             "tickcolor": "rgb(36,36,36)",
             "ticklen": 8,
             "ticks": "outside",
             "tickwidth": 2
            },
            "type": "mesh3d"
           }
          ],
          "parcoords": [
           {
            "line": {
             "colorbar": {
              "outlinewidth": 0,
              "tickcolor": "rgb(36,36,36)",
              "ticklen": 8,
              "ticks": "outside",
              "tickwidth": 2
             }
            },
            "type": "parcoords"
           }
          ],
          "pie": [
           {
            "automargin": true,
            "type": "pie"
           }
          ],
          "scatter": [
           {
            "fillpattern": {
             "fillmode": "overlay",
             "size": 10,
             "solidity": 0.2
            },
            "type": "scatter"
           }
          ],
          "scatter3d": [
           {
            "line": {
             "colorbar": {
              "outlinewidth": 0,
              "tickcolor": "rgb(36,36,36)",
              "ticklen": 8,
              "ticks": "outside",
              "tickwidth": 2
             }
            },
            "marker": {
             "colorbar": {
              "outlinewidth": 0,
              "tickcolor": "rgb(36,36,36)",
              "ticklen": 8,
              "ticks": "outside",
              "tickwidth": 2
             }
            },
            "type": "scatter3d"
           }
          ],
          "scattercarpet": [
           {
            "marker": {
             "colorbar": {
              "outlinewidth": 0,
              "tickcolor": "rgb(36,36,36)",
              "ticklen": 8,
              "ticks": "outside",
              "tickwidth": 2
             }
            },
            "type": "scattercarpet"
           }
          ],
          "scattergeo": [
           {
            "marker": {
             "colorbar": {
              "outlinewidth": 0,
              "tickcolor": "rgb(36,36,36)",
              "ticklen": 8,
              "ticks": "outside",
              "tickwidth": 2
             }
            },
            "type": "scattergeo"
           }
          ],
          "scattergl": [
           {
            "marker": {
             "colorbar": {
              "outlinewidth": 0,
              "tickcolor": "rgb(36,36,36)",
              "ticklen": 8,
              "ticks": "outside",
              "tickwidth": 2
             }
            },
            "type": "scattergl"
           }
          ],
          "scattermap": [
           {
            "marker": {
             "colorbar": {
              "outlinewidth": 0,
              "tickcolor": "rgb(36,36,36)",
              "ticklen": 8,
              "ticks": "outside",
              "tickwidth": 2
             }
            },
            "type": "scattermap"
           }
          ],
          "scattermapbox": [
           {
            "marker": {
             "colorbar": {
              "outlinewidth": 0,
              "tickcolor": "rgb(36,36,36)",
              "ticklen": 8,
              "ticks": "outside",
              "tickwidth": 2
             }
            },
            "type": "scattermapbox"
           }
          ],
          "scatterpolar": [
           {
            "marker": {
             "colorbar": {
              "outlinewidth": 0,
              "tickcolor": "rgb(36,36,36)",
              "ticklen": 8,
              "ticks": "outside",
              "tickwidth": 2
             }
            },
            "type": "scatterpolar"
           }
          ],
          "scatterpolargl": [
           {
            "marker": {
             "colorbar": {
              "outlinewidth": 0,
              "tickcolor": "rgb(36,36,36)",
              "ticklen": 8,
              "ticks": "outside",
              "tickwidth": 2
             }
            },
            "type": "scatterpolargl"
           }
          ],
          "scatterternary": [
           {
            "marker": {
             "colorbar": {
              "outlinewidth": 0,
              "tickcolor": "rgb(36,36,36)",
              "ticklen": 8,
              "ticks": "outside",
              "tickwidth": 2
             }
            },
            "type": "scatterternary"
           }
          ],
          "surface": [
           {
            "colorbar": {
             "outlinewidth": 0,
             "tickcolor": "rgb(36,36,36)",
             "ticklen": 8,
             "ticks": "outside",
             "tickwidth": 2
            },
            "colorscale": [
             [
              0,
              "rgb(2,4,25)"
             ],
             [
              0.06274509803921569,
              "rgb(24,15,41)"
             ],
             [
              0.12549019607843137,
              "rgb(47,23,57)"
             ],
             [
              0.18823529411764706,
              "rgb(71,28,72)"
             ],
             [
              0.25098039215686274,
              "rgb(97,30,82)"
             ],
             [
              0.3137254901960784,
              "rgb(123,30,89)"
             ],
             [
              0.3764705882352941,
              "rgb(150,27,91)"
             ],
             [
              0.4392156862745098,
              "rgb(177,22,88)"
             ],
             [
              0.5019607843137255,
              "rgb(203,26,79)"
             ],
             [
              0.5647058823529412,
              "rgb(223,47,67)"
             ],
             [
              0.6274509803921569,
              "rgb(236,76,61)"
             ],
             [
              0.6901960784313725,
              "rgb(242,107,73)"
             ],
             [
              0.7529411764705882,
              "rgb(244,135,95)"
             ],
             [
              0.8156862745098039,
              "rgb(245,162,122)"
             ],
             [
              0.8784313725490196,
              "rgb(246,188,153)"
             ],
             [
              0.9411764705882353,
              "rgb(247,212,187)"
             ],
             [
              1,
              "rgb(250,234,220)"
             ]
            ],
            "type": "surface"
           }
          ],
          "table": [
           {
            "cells": {
             "fill": {
              "color": "rgb(231,231,240)"
             },
             "line": {
              "color": "white"
             }
            },
            "header": {
             "fill": {
              "color": "rgb(183,183,191)"
             },
             "line": {
              "color": "white"
             }
            },
            "type": "table"
           }
          ]
         },
         "layout": {
          "annotationdefaults": {
           "arrowcolor": "rgb(67,103,167)"
          },
          "autotypenumbers": "strict",
          "coloraxis": {
           "colorbar": {
            "outlinewidth": 0,
            "tickcolor": "rgb(36,36,36)",
            "ticklen": 8,
            "ticks": "outside",
            "tickwidth": 2
           }
          },
          "colorscale": {
           "sequential": [
            [
             0,
             "rgb(2,4,25)"
            ],
            [
             0.06274509803921569,
             "rgb(24,15,41)"
            ],
            [
             0.12549019607843137,
             "rgb(47,23,57)"
            ],
            [
             0.18823529411764706,
             "rgb(71,28,72)"
            ],
            [
             0.25098039215686274,
             "rgb(97,30,82)"
            ],
            [
             0.3137254901960784,
             "rgb(123,30,89)"
            ],
            [
             0.3764705882352941,
             "rgb(150,27,91)"
            ],
            [
             0.4392156862745098,
             "rgb(177,22,88)"
            ],
            [
             0.5019607843137255,
             "rgb(203,26,79)"
            ],
            [
             0.5647058823529412,
             "rgb(223,47,67)"
            ],
            [
             0.6274509803921569,
             "rgb(236,76,61)"
            ],
            [
             0.6901960784313725,
             "rgb(242,107,73)"
            ],
            [
             0.7529411764705882,
             "rgb(244,135,95)"
            ],
            [
             0.8156862745098039,
             "rgb(245,162,122)"
            ],
            [
             0.8784313725490196,
             "rgb(246,188,153)"
            ],
            [
             0.9411764705882353,
             "rgb(247,212,187)"
            ],
            [
             1,
             "rgb(250,234,220)"
            ]
           ],
           "sequentialminus": [
            [
             0,
             "rgb(2,4,25)"
            ],
            [
             0.06274509803921569,
             "rgb(24,15,41)"
            ],
            [
             0.12549019607843137,
             "rgb(47,23,57)"
            ],
            [
             0.18823529411764706,
             "rgb(71,28,72)"
            ],
            [
             0.25098039215686274,
             "rgb(97,30,82)"
            ],
            [
             0.3137254901960784,
             "rgb(123,30,89)"
            ],
            [
             0.3764705882352941,
             "rgb(150,27,91)"
            ],
            [
             0.4392156862745098,
             "rgb(177,22,88)"
            ],
            [
             0.5019607843137255,
             "rgb(203,26,79)"
            ],
            [
             0.5647058823529412,
             "rgb(223,47,67)"
            ],
            [
             0.6274509803921569,
             "rgb(236,76,61)"
            ],
            [
             0.6901960784313725,
             "rgb(242,107,73)"
            ],
            [
             0.7529411764705882,
             "rgb(244,135,95)"
            ],
            [
             0.8156862745098039,
             "rgb(245,162,122)"
            ],
            [
             0.8784313725490196,
             "rgb(246,188,153)"
            ],
            [
             0.9411764705882353,
             "rgb(247,212,187)"
            ],
            [
             1,
             "rgb(250,234,220)"
            ]
           ]
          },
          "colorway": [
           "rgb(76,114,176)",
           "rgb(221,132,82)",
           "rgb(85,168,104)",
           "rgb(196,78,82)",
           "rgb(129,114,179)",
           "rgb(147,120,96)",
           "rgb(218,139,195)",
           "rgb(140,140,140)",
           "rgb(204,185,116)",
           "rgb(100,181,205)"
          ],
          "font": {
           "color": "rgb(36,36,36)"
          },
          "geo": {
           "bgcolor": "white",
           "lakecolor": "white",
           "landcolor": "rgb(234,234,242)",
           "showlakes": true,
           "showland": true,
           "subunitcolor": "white"
          },
          "hoverlabel": {
           "align": "left"
          },
          "hovermode": "closest",
          "paper_bgcolor": "white",
          "plot_bgcolor": "rgb(234,234,242)",
          "polar": {
           "angularaxis": {
            "gridcolor": "white",
            "linecolor": "white",
            "showgrid": true,
            "ticks": ""
           },
           "bgcolor": "rgb(234,234,242)",
           "radialaxis": {
            "gridcolor": "white",
            "linecolor": "white",
            "showgrid": true,
            "ticks": ""
           }
          },
          "scene": {
           "xaxis": {
            "backgroundcolor": "rgb(234,234,242)",
            "gridcolor": "white",
            "gridwidth": 2,
            "linecolor": "white",
            "showbackground": true,
            "showgrid": true,
            "ticks": "",
            "zerolinecolor": "white"
           },
           "yaxis": {
            "backgroundcolor": "rgb(234,234,242)",
            "gridcolor": "white",
            "gridwidth": 2,
            "linecolor": "white",
            "showbackground": true,
            "showgrid": true,
            "ticks": "",
            "zerolinecolor": "white"
           },
           "zaxis": {
            "backgroundcolor": "rgb(234,234,242)",
            "gridcolor": "white",
            "gridwidth": 2,
            "linecolor": "white",
            "showbackground": true,
            "showgrid": true,
            "ticks": "",
            "zerolinecolor": "white"
           }
          },
          "shapedefaults": {
           "fillcolor": "rgb(67,103,167)",
           "line": {
            "width": 0
           },
           "opacity": 0.5
          },
          "ternary": {
           "aaxis": {
            "gridcolor": "white",
            "linecolor": "white",
            "showgrid": true,
            "ticks": ""
           },
           "baxis": {
            "gridcolor": "white",
            "linecolor": "white",
            "showgrid": true,
            "ticks": ""
           },
           "bgcolor": "rgb(234,234,242)",
           "caxis": {
            "gridcolor": "white",
            "linecolor": "white",
            "showgrid": true,
            "ticks": ""
           }
          },
          "xaxis": {
           "automargin": true,
           "gridcolor": "white",
           "linecolor": "white",
           "showgrid": true,
           "ticks": "",
           "title": {
            "standoff": 15
           },
           "zerolinecolor": "white"
          },
          "yaxis": {
           "automargin": true,
           "gridcolor": "white",
           "linecolor": "white",
           "showgrid": true,
           "ticks": "",
           "title": {
            "standoff": 15
           },
           "zerolinecolor": "white"
          }
         }
        },
        "title": {
         "text": "Признак VR"
        },
        "xaxis": {
         "anchor": "y",
         "domain": [
          0,
          1
         ],
         "title": {
          "text": "коэффициент отражения витринита (%)"
         }
        },
        "yaxis": {
         "anchor": "x",
         "domain": [
          0,
          1
         ],
         "title": {
          "text": "Prod"
         }
        }
       }
      }
     },
     "metadata": {},
     "output_type": "display_data"
    },
    {
     "name": "stdout",
     "output_type": "stream",
     "text": [
      "Коэффициент детерминации: 0.06949304557948117\n"
     ]
    }
   ],
   "source": [
    "# Ваш код здесь\n",
    "feature_explanation={\n",
    "    'Well': 'идентификатор скважины',\n",
    "    'Por': 'пористость скважины (%)',\n",
    "    'Perm': 'проницаемость скважины (мД)',\n",
    "    'AI': 'акустический импеданс (кг/м^2 * 10^6)',\n",
    "    'Brittle': 'коэффициент хрупкости скважины (%)',\n",
    "    'TOC': 'общий органический углерод (%)',\n",
    "    'VR': 'коэффициент отражения витринита (%)',\n",
    "    'Prod': 'добыча газа в сутки (млн. кубических футов)'\n",
    "}\n",
    "\n",
    "# Отделение целевого признака из основной группы. Я отбросил признак 'Well' т.к. его можно заменить индексами\n",
    "features = data.loc[0:, 'Por':'VR']\n",
    "target = data['Prod']\n",
    "\n",
    "# 1. Количество пропусков в данных\n",
    "missed_values = data.isna().any().sum()\n",
    "print(f'\\nКоличество пропусков: {missed_values}')\n",
    "\n",
    "# 2. Дубликаты в данных\n",
    "count_duplicates = data.duplicated().sum()\n",
    "print(f'Количество дубликатов: {count_duplicates}')\n",
    "\n",
    "# 3. Распределение признаков (кроме целевого)\n",
    "fig = make_subplots(rows=6,\n",
    "                    cols=2\n",
    "                    )\n",
    "marker_colors = ('#4c72b0', '#55a868', '#c44e52', '#8172b2', '#ccb974', '#64b5cd')\n",
    "annotations = []\n",
    "y_coords = [0.86, 0.68, 0.50, 0.32, 0.14, -0.03]\n",
    "for row in range(1,7):\n",
    "    feature = features.columns[row-1]\n",
    "    fig.add_trace(go.Histogram(x=features[feature],\n",
    "                               name=feature,\n",
    "                               showlegend=False,\n",
    "                               marker_color=marker_colors[row-1]\n",
    "                              ),\n",
    "                  row=row,\n",
    "                  col=2\n",
    "                 )\n",
    "    fig.add_trace(go.Box(x=features[feature],\n",
    "                         name=feature,\n",
    "                         boxmean=True,\n",
    "                         marker_color=marker_colors[row-1]\n",
    "                        ),\n",
    "                  row=row,\n",
    "                  col=1\n",
    "                 )\n",
    "\n",
    "    annotations.append(dict(\n",
    "        text=feature_explanation[feature],\n",
    "        x=0.5,  # центр между col=1 и col=2\n",
    "        y=y_coords[row-1],  # позиция по оси Y\n",
    "        xref='paper',\n",
    "        yref='paper',\n",
    "        showarrow=False,\n",
    "        font=dict(size=12),\n",
    "                       ))\n",
    "        \n",
    "fig.update_layout(height=1600,\n",
    "                  title='Распределение признаков (кроме целевого)',\n",
    "                  template='seaborn',\n",
    "                  annotations=annotations)\n",
    "fig.show()\n",
    "\n",
    "# 4. Распредление целевого признака\n",
    "px.histogram(target,\n",
    "             title='Распредление целевого признака (Prod)',\n",
    "             template='seaborn',\n",
    "             labels={'value': feature_explanation['Prod']},\n",
    "             height=500).show()\n",
    "\n",
    "\n",
    "# 5. Обнаружение аномалий\n",
    "# обнаружение аномалий с помощью квантилей\n",
    "def outliers(feat):\n",
    "    q3 = features[feat].quantile(0.75)\n",
    "    q1 = features[feat].quantile(0.25)\n",
    "    IQR =  q3 - q1\n",
    "    lower = q1 - 1.5*IQR\n",
    "    upper = q3 + 1.5*IQR\n",
    "    rezult = features[(features[feat] < lower) | (features[feat] > upper)]\n",
    "    return rezult[feat]\n",
    "    \n",
    "print('Обнаружение аномалий с помощью квантилей')\n",
    "#индексы аномальных значений полученные с помощью квантилей\n",
    "index_outliers_quntile = set()\n",
    "count = 0\n",
    "for feat in features.columns:\n",
    "    outliers_series = outliers(feat)\n",
    "    index_outliers_quntile.update(outliers_series.index)\n",
    "    count += outliers_series.count()\n",
    "print(f'Количество аномалий {count}')\n",
    "\n",
    "\n",
    "# Обнаружение аномалий с помощью IsolationForest\n",
    "print('\\nОбнаружение аномалий с помощью IsolationForest')\n",
    "iso = IsolationForest(random_state=42)\n",
    "values = iso.fit_predict(features)\n",
    "# индексы аномальных значений полученные методом IsolationForest\n",
    "index_outliers_forest = set(np.where(values == -1)[0])\n",
    "print(f'Количество аномалий {(values == -1).sum()}')\n",
    "\n",
    "# Пересечение индексов полученных обоими методами\n",
    "intersect_outliers = index_outliers_forest & index_outliers_quntile\n",
    "print(f'\\nКоличество аномалий, обнаруженных обоими методами : {len(intersect_outliers)}')\n",
    "\n",
    "# 6. Зависимость целевой переменной от признаков\n",
    "print(f'\\nКоэффициент детерминации R^2\\\n",
    "        \\nИли на сколько хорошо признак описывает изменения в зависимой переменной.\\\n",
    "        \\nЧем ближе к 1 — тем сильнее линейная зависимость')\n",
    "for feat in features.columns:\n",
    "    px.scatter(x=features[feat],\n",
    "               y=target,\n",
    "               trendline='ols',\n",
    "               title='Признак '+feat,\n",
    "               labels={'x': feature_explanation[feat], 'y':target.name},\n",
    "               template='seaborn'\n",
    "              ).show()\n",
    "\n",
    "    model = LinearRegression()\n",
    "    cross_val = cross_val_score(estimator=model,\n",
    "                                X=features[[feat]],\n",
    "                                y=target,\n",
    "                                cv=3,\n",
    "                                scoring='r2'\n",
    "                               )\n",
    "    print(f'Коэффициент детерминации: {np.mean(cross_val)}')"
   ]
  },
  {
   "cell_type": "markdown",
   "id": "616b0f15-ae99-4a4f-9720-2b9d4dd18d5d",
   "metadata": {},
   "source": [
    "### Промежуточные выводы по разведывательному анализу\n",
    "- Пропуски отсутствуют;\n",
    "- Дубликаты отсутствуют;\n",
    "- Несоответствие значений в данных:\\\n",
    "Количество отрицательных значений признака __TOC__ - 4. \\\n",
    "__TOC__ измеряет количество органического углерода, содержащегося в образце, и, как и любой количественный показатель, не может быть отрицательным. По сути, отрицательное значение TOC означало бы, что в образце отсутствует углерод, что невозможно, поскольку в любом органическом веществе присутствует углерод.\n",
    "- Распределения признаков в общем нормальное, но присутствуют выбросы.\n",
    "- Важными признаками на первый взгляд являются: __Por__, __Perm__\n",
    "- Слабое влияние на целевой признак имеют: __Brittle__, __VR__\n",
    "- Небольшое количество аномальных значений (признаки VR, Perm, AI; ~5% от общего числа)\n",
    "- Сильное различие в масштабах, нужна нормализация.\n",
    "- Возможно лог-преобразование целевого признака. Наблюдается скошенность в правую сторону\\\n",
    "Незабыть вернуть в исходную шкалу (np.expm1())!!!\n",
    "\n"
   ]
  },
  {
   "cell_type": "code",
   "execution_count": 5,
   "id": "6dc54fee-6081-45c0-8634-463debaedc1a",
   "metadata": {},
   "outputs": [
    {
     "data": {
      "text/html": [
       "<style>#sk-container-id-1 {\n",
       "  /* Definition of color scheme common for light and dark mode */\n",
       "  --sklearn-color-text: #000;\n",
       "  --sklearn-color-text-muted: #666;\n",
       "  --sklearn-color-line: gray;\n",
       "  /* Definition of color scheme for unfitted estimators */\n",
       "  --sklearn-color-unfitted-level-0: #fff5e6;\n",
       "  --sklearn-color-unfitted-level-1: #f6e4d2;\n",
       "  --sklearn-color-unfitted-level-2: #ffe0b3;\n",
       "  --sklearn-color-unfitted-level-3: chocolate;\n",
       "  /* Definition of color scheme for fitted estimators */\n",
       "  --sklearn-color-fitted-level-0: #f0f8ff;\n",
       "  --sklearn-color-fitted-level-1: #d4ebff;\n",
       "  --sklearn-color-fitted-level-2: #b3dbfd;\n",
       "  --sklearn-color-fitted-level-3: cornflowerblue;\n",
       "\n",
       "  /* Specific color for light theme */\n",
       "  --sklearn-color-text-on-default-background: var(--sg-text-color, var(--theme-code-foreground, var(--jp-content-font-color1, black)));\n",
       "  --sklearn-color-background: var(--sg-background-color, var(--theme-background, var(--jp-layout-color0, white)));\n",
       "  --sklearn-color-border-box: var(--sg-text-color, var(--theme-code-foreground, var(--jp-content-font-color1, black)));\n",
       "  --sklearn-color-icon: #696969;\n",
       "\n",
       "  @media (prefers-color-scheme: dark) {\n",
       "    /* Redefinition of color scheme for dark theme */\n",
       "    --sklearn-color-text-on-default-background: var(--sg-text-color, var(--theme-code-foreground, var(--jp-content-font-color1, white)));\n",
       "    --sklearn-color-background: var(--sg-background-color, var(--theme-background, var(--jp-layout-color0, #111)));\n",
       "    --sklearn-color-border-box: var(--sg-text-color, var(--theme-code-foreground, var(--jp-content-font-color1, white)));\n",
       "    --sklearn-color-icon: #878787;\n",
       "  }\n",
       "}\n",
       "\n",
       "#sk-container-id-1 {\n",
       "  color: var(--sklearn-color-text);\n",
       "}\n",
       "\n",
       "#sk-container-id-1 pre {\n",
       "  padding: 0;\n",
       "}\n",
       "\n",
       "#sk-container-id-1 input.sk-hidden--visually {\n",
       "  border: 0;\n",
       "  clip: rect(1px 1px 1px 1px);\n",
       "  clip: rect(1px, 1px, 1px, 1px);\n",
       "  height: 1px;\n",
       "  margin: -1px;\n",
       "  overflow: hidden;\n",
       "  padding: 0;\n",
       "  position: absolute;\n",
       "  width: 1px;\n",
       "}\n",
       "\n",
       "#sk-container-id-1 div.sk-dashed-wrapped {\n",
       "  border: 1px dashed var(--sklearn-color-line);\n",
       "  margin: 0 0.4em 0.5em 0.4em;\n",
       "  box-sizing: border-box;\n",
       "  padding-bottom: 0.4em;\n",
       "  background-color: var(--sklearn-color-background);\n",
       "}\n",
       "\n",
       "#sk-container-id-1 div.sk-container {\n",
       "  /* jupyter's `normalize.less` sets `[hidden] { display: none; }`\n",
       "     but bootstrap.min.css set `[hidden] { display: none !important; }`\n",
       "     so we also need the `!important` here to be able to override the\n",
       "     default hidden behavior on the sphinx rendered scikit-learn.org.\n",
       "     See: https://github.com/scikit-learn/scikit-learn/issues/21755 */\n",
       "  display: inline-block !important;\n",
       "  position: relative;\n",
       "}\n",
       "\n",
       "#sk-container-id-1 div.sk-text-repr-fallback {\n",
       "  display: none;\n",
       "}\n",
       "\n",
       "div.sk-parallel-item,\n",
       "div.sk-serial,\n",
       "div.sk-item {\n",
       "  /* draw centered vertical line to link estimators */\n",
       "  background-image: linear-gradient(var(--sklearn-color-text-on-default-background), var(--sklearn-color-text-on-default-background));\n",
       "  background-size: 2px 100%;\n",
       "  background-repeat: no-repeat;\n",
       "  background-position: center center;\n",
       "}\n",
       "\n",
       "/* Parallel-specific style estimator block */\n",
       "\n",
       "#sk-container-id-1 div.sk-parallel-item::after {\n",
       "  content: \"\";\n",
       "  width: 100%;\n",
       "  border-bottom: 2px solid var(--sklearn-color-text-on-default-background);\n",
       "  flex-grow: 1;\n",
       "}\n",
       "\n",
       "#sk-container-id-1 div.sk-parallel {\n",
       "  display: flex;\n",
       "  align-items: stretch;\n",
       "  justify-content: center;\n",
       "  background-color: var(--sklearn-color-background);\n",
       "  position: relative;\n",
       "}\n",
       "\n",
       "#sk-container-id-1 div.sk-parallel-item {\n",
       "  display: flex;\n",
       "  flex-direction: column;\n",
       "}\n",
       "\n",
       "#sk-container-id-1 div.sk-parallel-item:first-child::after {\n",
       "  align-self: flex-end;\n",
       "  width: 50%;\n",
       "}\n",
       "\n",
       "#sk-container-id-1 div.sk-parallel-item:last-child::after {\n",
       "  align-self: flex-start;\n",
       "  width: 50%;\n",
       "}\n",
       "\n",
       "#sk-container-id-1 div.sk-parallel-item:only-child::after {\n",
       "  width: 0;\n",
       "}\n",
       "\n",
       "/* Serial-specific style estimator block */\n",
       "\n",
       "#sk-container-id-1 div.sk-serial {\n",
       "  display: flex;\n",
       "  flex-direction: column;\n",
       "  align-items: center;\n",
       "  background-color: var(--sklearn-color-background);\n",
       "  padding-right: 1em;\n",
       "  padding-left: 1em;\n",
       "}\n",
       "\n",
       "\n",
       "/* Toggleable style: style used for estimator/Pipeline/ColumnTransformer box that is\n",
       "clickable and can be expanded/collapsed.\n",
       "- Pipeline and ColumnTransformer use this feature and define the default style\n",
       "- Estimators will overwrite some part of the style using the `sk-estimator` class\n",
       "*/\n",
       "\n",
       "/* Pipeline and ColumnTransformer style (default) */\n",
       "\n",
       "#sk-container-id-1 div.sk-toggleable {\n",
       "  /* Default theme specific background. It is overwritten whether we have a\n",
       "  specific estimator or a Pipeline/ColumnTransformer */\n",
       "  background-color: var(--sklearn-color-background);\n",
       "}\n",
       "\n",
       "/* Toggleable label */\n",
       "#sk-container-id-1 label.sk-toggleable__label {\n",
       "  cursor: pointer;\n",
       "  display: flex;\n",
       "  width: 100%;\n",
       "  margin-bottom: 0;\n",
       "  padding: 0.5em;\n",
       "  box-sizing: border-box;\n",
       "  text-align: center;\n",
       "  align-items: start;\n",
       "  justify-content: space-between;\n",
       "  gap: 0.5em;\n",
       "}\n",
       "\n",
       "#sk-container-id-1 label.sk-toggleable__label .caption {\n",
       "  font-size: 0.6rem;\n",
       "  font-weight: lighter;\n",
       "  color: var(--sklearn-color-text-muted);\n",
       "}\n",
       "\n",
       "#sk-container-id-1 label.sk-toggleable__label-arrow:before {\n",
       "  /* Arrow on the left of the label */\n",
       "  content: \"▸\";\n",
       "  float: left;\n",
       "  margin-right: 0.25em;\n",
       "  color: var(--sklearn-color-icon);\n",
       "}\n",
       "\n",
       "#sk-container-id-1 label.sk-toggleable__label-arrow:hover:before {\n",
       "  color: var(--sklearn-color-text);\n",
       "}\n",
       "\n",
       "/* Toggleable content - dropdown */\n",
       "\n",
       "#sk-container-id-1 div.sk-toggleable__content {\n",
       "  display: none;\n",
       "  text-align: left;\n",
       "  /* unfitted */\n",
       "  background-color: var(--sklearn-color-unfitted-level-0);\n",
       "}\n",
       "\n",
       "#sk-container-id-1 div.sk-toggleable__content.fitted {\n",
       "  /* fitted */\n",
       "  background-color: var(--sklearn-color-fitted-level-0);\n",
       "}\n",
       "\n",
       "#sk-container-id-1 div.sk-toggleable__content pre {\n",
       "  margin: 0.2em;\n",
       "  border-radius: 0.25em;\n",
       "  color: var(--sklearn-color-text);\n",
       "  /* unfitted */\n",
       "  background-color: var(--sklearn-color-unfitted-level-0);\n",
       "}\n",
       "\n",
       "#sk-container-id-1 div.sk-toggleable__content.fitted pre {\n",
       "  /* unfitted */\n",
       "  background-color: var(--sklearn-color-fitted-level-0);\n",
       "}\n",
       "\n",
       "#sk-container-id-1 input.sk-toggleable__control:checked~div.sk-toggleable__content {\n",
       "  /* Expand drop-down */\n",
       "  display: block;\n",
       "  width: 100%;\n",
       "  overflow: visible;\n",
       "}\n",
       "\n",
       "#sk-container-id-1 input.sk-toggleable__control:checked~label.sk-toggleable__label-arrow:before {\n",
       "  content: \"▾\";\n",
       "}\n",
       "\n",
       "/* Pipeline/ColumnTransformer-specific style */\n",
       "\n",
       "#sk-container-id-1 div.sk-label input.sk-toggleable__control:checked~label.sk-toggleable__label {\n",
       "  color: var(--sklearn-color-text);\n",
       "  background-color: var(--sklearn-color-unfitted-level-2);\n",
       "}\n",
       "\n",
       "#sk-container-id-1 div.sk-label.fitted input.sk-toggleable__control:checked~label.sk-toggleable__label {\n",
       "  background-color: var(--sklearn-color-fitted-level-2);\n",
       "}\n",
       "\n",
       "/* Estimator-specific style */\n",
       "\n",
       "/* Colorize estimator box */\n",
       "#sk-container-id-1 div.sk-estimator input.sk-toggleable__control:checked~label.sk-toggleable__label {\n",
       "  /* unfitted */\n",
       "  background-color: var(--sklearn-color-unfitted-level-2);\n",
       "}\n",
       "\n",
       "#sk-container-id-1 div.sk-estimator.fitted input.sk-toggleable__control:checked~label.sk-toggleable__label {\n",
       "  /* fitted */\n",
       "  background-color: var(--sklearn-color-fitted-level-2);\n",
       "}\n",
       "\n",
       "#sk-container-id-1 div.sk-label label.sk-toggleable__label,\n",
       "#sk-container-id-1 div.sk-label label {\n",
       "  /* The background is the default theme color */\n",
       "  color: var(--sklearn-color-text-on-default-background);\n",
       "}\n",
       "\n",
       "/* On hover, darken the color of the background */\n",
       "#sk-container-id-1 div.sk-label:hover label.sk-toggleable__label {\n",
       "  color: var(--sklearn-color-text);\n",
       "  background-color: var(--sklearn-color-unfitted-level-2);\n",
       "}\n",
       "\n",
       "/* Label box, darken color on hover, fitted */\n",
       "#sk-container-id-1 div.sk-label.fitted:hover label.sk-toggleable__label.fitted {\n",
       "  color: var(--sklearn-color-text);\n",
       "  background-color: var(--sklearn-color-fitted-level-2);\n",
       "}\n",
       "\n",
       "/* Estimator label */\n",
       "\n",
       "#sk-container-id-1 div.sk-label label {\n",
       "  font-family: monospace;\n",
       "  font-weight: bold;\n",
       "  display: inline-block;\n",
       "  line-height: 1.2em;\n",
       "}\n",
       "\n",
       "#sk-container-id-1 div.sk-label-container {\n",
       "  text-align: center;\n",
       "}\n",
       "\n",
       "/* Estimator-specific */\n",
       "#sk-container-id-1 div.sk-estimator {\n",
       "  font-family: monospace;\n",
       "  border: 1px dotted var(--sklearn-color-border-box);\n",
       "  border-radius: 0.25em;\n",
       "  box-sizing: border-box;\n",
       "  margin-bottom: 0.5em;\n",
       "  /* unfitted */\n",
       "  background-color: var(--sklearn-color-unfitted-level-0);\n",
       "}\n",
       "\n",
       "#sk-container-id-1 div.sk-estimator.fitted {\n",
       "  /* fitted */\n",
       "  background-color: var(--sklearn-color-fitted-level-0);\n",
       "}\n",
       "\n",
       "/* on hover */\n",
       "#sk-container-id-1 div.sk-estimator:hover {\n",
       "  /* unfitted */\n",
       "  background-color: var(--sklearn-color-unfitted-level-2);\n",
       "}\n",
       "\n",
       "#sk-container-id-1 div.sk-estimator.fitted:hover {\n",
       "  /* fitted */\n",
       "  background-color: var(--sklearn-color-fitted-level-2);\n",
       "}\n",
       "\n",
       "/* Specification for estimator info (e.g. \"i\" and \"?\") */\n",
       "\n",
       "/* Common style for \"i\" and \"?\" */\n",
       "\n",
       ".sk-estimator-doc-link,\n",
       "a:link.sk-estimator-doc-link,\n",
       "a:visited.sk-estimator-doc-link {\n",
       "  float: right;\n",
       "  font-size: smaller;\n",
       "  line-height: 1em;\n",
       "  font-family: monospace;\n",
       "  background-color: var(--sklearn-color-background);\n",
       "  border-radius: 1em;\n",
       "  height: 1em;\n",
       "  width: 1em;\n",
       "  text-decoration: none !important;\n",
       "  margin-left: 0.5em;\n",
       "  text-align: center;\n",
       "  /* unfitted */\n",
       "  border: var(--sklearn-color-unfitted-level-1) 1pt solid;\n",
       "  color: var(--sklearn-color-unfitted-level-1);\n",
       "}\n",
       "\n",
       ".sk-estimator-doc-link.fitted,\n",
       "a:link.sk-estimator-doc-link.fitted,\n",
       "a:visited.sk-estimator-doc-link.fitted {\n",
       "  /* fitted */\n",
       "  border: var(--sklearn-color-fitted-level-1) 1pt solid;\n",
       "  color: var(--sklearn-color-fitted-level-1);\n",
       "}\n",
       "\n",
       "/* On hover */\n",
       "div.sk-estimator:hover .sk-estimator-doc-link:hover,\n",
       ".sk-estimator-doc-link:hover,\n",
       "div.sk-label-container:hover .sk-estimator-doc-link:hover,\n",
       ".sk-estimator-doc-link:hover {\n",
       "  /* unfitted */\n",
       "  background-color: var(--sklearn-color-unfitted-level-3);\n",
       "  color: var(--sklearn-color-background);\n",
       "  text-decoration: none;\n",
       "}\n",
       "\n",
       "div.sk-estimator.fitted:hover .sk-estimator-doc-link.fitted:hover,\n",
       ".sk-estimator-doc-link.fitted:hover,\n",
       "div.sk-label-container:hover .sk-estimator-doc-link.fitted:hover,\n",
       ".sk-estimator-doc-link.fitted:hover {\n",
       "  /* fitted */\n",
       "  background-color: var(--sklearn-color-fitted-level-3);\n",
       "  color: var(--sklearn-color-background);\n",
       "  text-decoration: none;\n",
       "}\n",
       "\n",
       "/* Span, style for the box shown on hovering the info icon */\n",
       ".sk-estimator-doc-link span {\n",
       "  display: none;\n",
       "  z-index: 9999;\n",
       "  position: relative;\n",
       "  font-weight: normal;\n",
       "  right: .2ex;\n",
       "  padding: .5ex;\n",
       "  margin: .5ex;\n",
       "  width: min-content;\n",
       "  min-width: 20ex;\n",
       "  max-width: 50ex;\n",
       "  color: var(--sklearn-color-text);\n",
       "  box-shadow: 2pt 2pt 4pt #999;\n",
       "  /* unfitted */\n",
       "  background: var(--sklearn-color-unfitted-level-0);\n",
       "  border: .5pt solid var(--sklearn-color-unfitted-level-3);\n",
       "}\n",
       "\n",
       ".sk-estimator-doc-link.fitted span {\n",
       "  /* fitted */\n",
       "  background: var(--sklearn-color-fitted-level-0);\n",
       "  border: var(--sklearn-color-fitted-level-3);\n",
       "}\n",
       "\n",
       ".sk-estimator-doc-link:hover span {\n",
       "  display: block;\n",
       "}\n",
       "\n",
       "/* \"?\"-specific style due to the `<a>` HTML tag */\n",
       "\n",
       "#sk-container-id-1 a.estimator_doc_link {\n",
       "  float: right;\n",
       "  font-size: 1rem;\n",
       "  line-height: 1em;\n",
       "  font-family: monospace;\n",
       "  background-color: var(--sklearn-color-background);\n",
       "  border-radius: 1rem;\n",
       "  height: 1rem;\n",
       "  width: 1rem;\n",
       "  text-decoration: none;\n",
       "  /* unfitted */\n",
       "  color: var(--sklearn-color-unfitted-level-1);\n",
       "  border: var(--sklearn-color-unfitted-level-1) 1pt solid;\n",
       "}\n",
       "\n",
       "#sk-container-id-1 a.estimator_doc_link.fitted {\n",
       "  /* fitted */\n",
       "  border: var(--sklearn-color-fitted-level-1) 1pt solid;\n",
       "  color: var(--sklearn-color-fitted-level-1);\n",
       "}\n",
       "\n",
       "/* On hover */\n",
       "#sk-container-id-1 a.estimator_doc_link:hover {\n",
       "  /* unfitted */\n",
       "  background-color: var(--sklearn-color-unfitted-level-3);\n",
       "  color: var(--sklearn-color-background);\n",
       "  text-decoration: none;\n",
       "}\n",
       "\n",
       "#sk-container-id-1 a.estimator_doc_link.fitted:hover {\n",
       "  /* fitted */\n",
       "  background-color: var(--sklearn-color-fitted-level-3);\n",
       "}\n",
       "\n",
       ".estimator-table summary {\n",
       "    padding: .5rem;\n",
       "    font-family: monospace;\n",
       "    cursor: pointer;\n",
       "}\n",
       "\n",
       ".estimator-table details[open] {\n",
       "    padding-left: 0.1rem;\n",
       "    padding-right: 0.1rem;\n",
       "    padding-bottom: 0.3rem;\n",
       "}\n",
       "\n",
       ".estimator-table .parameters-table {\n",
       "    margin-left: auto !important;\n",
       "    margin-right: auto !important;\n",
       "}\n",
       "\n",
       ".estimator-table .parameters-table tr:nth-child(odd) {\n",
       "    background-color: #fff;\n",
       "}\n",
       "\n",
       ".estimator-table .parameters-table tr:nth-child(even) {\n",
       "    background-color: #f6f6f6;\n",
       "}\n",
       "\n",
       ".estimator-table .parameters-table tr:hover {\n",
       "    background-color: #e0e0e0;\n",
       "}\n",
       "\n",
       ".estimator-table table td {\n",
       "    border: 1px solid rgba(106, 105, 104, 0.232);\n",
       "}\n",
       "\n",
       ".user-set td {\n",
       "    color:rgb(255, 94, 0);\n",
       "    text-align: left;\n",
       "}\n",
       "\n",
       ".user-set td.value pre {\n",
       "    color:rgb(255, 94, 0) !important;\n",
       "    background-color: transparent !important;\n",
       "}\n",
       "\n",
       ".default td {\n",
       "    color: black;\n",
       "    text-align: left;\n",
       "}\n",
       "\n",
       ".user-set td i,\n",
       ".default td i {\n",
       "    color: black;\n",
       "}\n",
       "\n",
       ".copy-paste-icon {\n",
       "    background-image: url(data:image/svg+xml;base64,PHN2ZyB4bWxucz0iaHR0cDovL3d3dy53My5vcmcvMjAwMC9zdmciIHZpZXdCb3g9IjAgMCA0NDggNTEyIj48IS0tIUZvbnQgQXdlc29tZSBGcmVlIDYuNy4yIGJ5IEBmb250YXdlc29tZSAtIGh0dHBzOi8vZm9udGF3ZXNvbWUuY29tIExpY2Vuc2UgLSBodHRwczovL2ZvbnRhd2Vzb21lLmNvbS9saWNlbnNlL2ZyZWUgQ29weXJpZ2h0IDIwMjUgRm9udGljb25zLCBJbmMuLS0+PHBhdGggZD0iTTIwOCAwTDMzMi4xIDBjMTIuNyAwIDI0LjkgNS4xIDMzLjkgMTQuMWw2Ny45IDY3LjljOSA5IDE0LjEgMjEuMiAxNC4xIDMzLjlMNDQ4IDMzNmMwIDI2LjUtMjEuNSA0OC00OCA0OGwtMTkyIDBjLTI2LjUgMC00OC0yMS41LTQ4LTQ4bDAtMjg4YzAtMjYuNSAyMS41LTQ4IDQ4LTQ4ek00OCAxMjhsODAgMCAwIDY0LTY0IDAgMCAyNTYgMTkyIDAgMC0zMiA2NCAwIDAgNDhjMCAyNi41LTIxLjUgNDgtNDggNDhMNDggNTEyYy0yNi41IDAtNDgtMjEuNS00OC00OEwwIDE3NmMwLTI2LjUgMjEuNS00OCA0OC00OHoiLz48L3N2Zz4=);\n",
       "    background-repeat: no-repeat;\n",
       "    background-size: 14px 14px;\n",
       "    background-position: 0;\n",
       "    display: inline-block;\n",
       "    width: 14px;\n",
       "    height: 14px;\n",
       "    cursor: pointer;\n",
       "}\n",
       "</style><body><div id=\"sk-container-id-1\" class=\"sk-top-container\"><div class=\"sk-text-repr-fallback\"><pre>Pipeline(steps=[(&#x27;StandardScaler&#x27;, StandardScaler()),\n",
       "                (&#x27;IsolationForest&#x27;, IsolationForest())])</pre><b>In a Jupyter environment, please rerun this cell to show the HTML representation or trust the notebook. <br />On GitHub, the HTML representation is unable to render, please try loading this page with nbviewer.org.</b></div><div class=\"sk-container\" hidden><div class=\"sk-item sk-dashed-wrapped\"><div class=\"sk-label-container\"><div class=\"sk-label fitted sk-toggleable\"><input class=\"sk-toggleable__control sk-hidden--visually\" id=\"sk-estimator-id-1\" type=\"checkbox\" ><label for=\"sk-estimator-id-1\" class=\"sk-toggleable__label fitted sk-toggleable__label-arrow\"><div><div>Pipeline</div></div><div><a class=\"sk-estimator-doc-link fitted\" rel=\"noreferrer\" target=\"_blank\" href=\"https://scikit-learn.org/1.7/modules/generated/sklearn.pipeline.Pipeline.html\">?<span>Documentation for Pipeline</span></a><span class=\"sk-estimator-doc-link fitted\">i<span>Fitted</span></span></div></label><div class=\"sk-toggleable__content fitted\" data-param-prefix=\"\">\n",
       "        <div class=\"estimator-table\">\n",
       "            <details>\n",
       "                <summary>Parameters</summary>\n",
       "                <table class=\"parameters-table\">\n",
       "                  <tbody>\n",
       "                    \n",
       "        <tr class=\"user-set\">\n",
       "            <td><i class=\"copy-paste-icon\"\n",
       "                 onclick=\"copyToClipboard('steps',\n",
       "                          this.parentElement.nextElementSibling)\"\n",
       "            ></i></td>\n",
       "            <td class=\"param\">steps&nbsp;</td>\n",
       "            <td class=\"value\">[(&#x27;StandardScaler&#x27;, ...), (&#x27;IsolationForest&#x27;, ...)]</td>\n",
       "        </tr>\n",
       "    \n",
       "\n",
       "        <tr class=\"default\">\n",
       "            <td><i class=\"copy-paste-icon\"\n",
       "                 onclick=\"copyToClipboard('transform_input',\n",
       "                          this.parentElement.nextElementSibling)\"\n",
       "            ></i></td>\n",
       "            <td class=\"param\">transform_input&nbsp;</td>\n",
       "            <td class=\"value\">None</td>\n",
       "        </tr>\n",
       "    \n",
       "\n",
       "        <tr class=\"default\">\n",
       "            <td><i class=\"copy-paste-icon\"\n",
       "                 onclick=\"copyToClipboard('memory',\n",
       "                          this.parentElement.nextElementSibling)\"\n",
       "            ></i></td>\n",
       "            <td class=\"param\">memory&nbsp;</td>\n",
       "            <td class=\"value\">None</td>\n",
       "        </tr>\n",
       "    \n",
       "\n",
       "        <tr class=\"default\">\n",
       "            <td><i class=\"copy-paste-icon\"\n",
       "                 onclick=\"copyToClipboard('verbose',\n",
       "                          this.parentElement.nextElementSibling)\"\n",
       "            ></i></td>\n",
       "            <td class=\"param\">verbose&nbsp;</td>\n",
       "            <td class=\"value\">False</td>\n",
       "        </tr>\n",
       "    \n",
       "                  </tbody>\n",
       "                </table>\n",
       "            </details>\n",
       "        </div>\n",
       "    </div></div></div><div class=\"sk-serial\"><div class=\"sk-item\"><div class=\"sk-estimator fitted sk-toggleable\"><input class=\"sk-toggleable__control sk-hidden--visually\" id=\"sk-estimator-id-2\" type=\"checkbox\" ><label for=\"sk-estimator-id-2\" class=\"sk-toggleable__label fitted sk-toggleable__label-arrow\"><div><div>StandardScaler</div></div><div><a class=\"sk-estimator-doc-link fitted\" rel=\"noreferrer\" target=\"_blank\" href=\"https://scikit-learn.org/1.7/modules/generated/sklearn.preprocessing.StandardScaler.html\">?<span>Documentation for StandardScaler</span></a></div></label><div class=\"sk-toggleable__content fitted\" data-param-prefix=\"StandardScaler__\">\n",
       "        <div class=\"estimator-table\">\n",
       "            <details>\n",
       "                <summary>Parameters</summary>\n",
       "                <table class=\"parameters-table\">\n",
       "                  <tbody>\n",
       "                    \n",
       "        <tr class=\"default\">\n",
       "            <td><i class=\"copy-paste-icon\"\n",
       "                 onclick=\"copyToClipboard('copy',\n",
       "                          this.parentElement.nextElementSibling)\"\n",
       "            ></i></td>\n",
       "            <td class=\"param\">copy&nbsp;</td>\n",
       "            <td class=\"value\">True</td>\n",
       "        </tr>\n",
       "    \n",
       "\n",
       "        <tr class=\"default\">\n",
       "            <td><i class=\"copy-paste-icon\"\n",
       "                 onclick=\"copyToClipboard('with_mean',\n",
       "                          this.parentElement.nextElementSibling)\"\n",
       "            ></i></td>\n",
       "            <td class=\"param\">with_mean&nbsp;</td>\n",
       "            <td class=\"value\">True</td>\n",
       "        </tr>\n",
       "    \n",
       "\n",
       "        <tr class=\"default\">\n",
       "            <td><i class=\"copy-paste-icon\"\n",
       "                 onclick=\"copyToClipboard('with_std',\n",
       "                          this.parentElement.nextElementSibling)\"\n",
       "            ></i></td>\n",
       "            <td class=\"param\">with_std&nbsp;</td>\n",
       "            <td class=\"value\">True</td>\n",
       "        </tr>\n",
       "    \n",
       "                  </tbody>\n",
       "                </table>\n",
       "            </details>\n",
       "        </div>\n",
       "    </div></div></div><div class=\"sk-item\"><div class=\"sk-estimator fitted sk-toggleable\"><input class=\"sk-toggleable__control sk-hidden--visually\" id=\"sk-estimator-id-3\" type=\"checkbox\" ><label for=\"sk-estimator-id-3\" class=\"sk-toggleable__label fitted sk-toggleable__label-arrow\"><div><div>IsolationForest</div></div><div><a class=\"sk-estimator-doc-link fitted\" rel=\"noreferrer\" target=\"_blank\" href=\"https://scikit-learn.org/1.7/modules/generated/sklearn.ensemble.IsolationForest.html\">?<span>Documentation for IsolationForest</span></a></div></label><div class=\"sk-toggleable__content fitted\" data-param-prefix=\"IsolationForest__\">\n",
       "        <div class=\"estimator-table\">\n",
       "            <details>\n",
       "                <summary>Parameters</summary>\n",
       "                <table class=\"parameters-table\">\n",
       "                  <tbody>\n",
       "                    \n",
       "        <tr class=\"default\">\n",
       "            <td><i class=\"copy-paste-icon\"\n",
       "                 onclick=\"copyToClipboard('n_estimators',\n",
       "                          this.parentElement.nextElementSibling)\"\n",
       "            ></i></td>\n",
       "            <td class=\"param\">n_estimators&nbsp;</td>\n",
       "            <td class=\"value\">100</td>\n",
       "        </tr>\n",
       "    \n",
       "\n",
       "        <tr class=\"default\">\n",
       "            <td><i class=\"copy-paste-icon\"\n",
       "                 onclick=\"copyToClipboard('max_samples',\n",
       "                          this.parentElement.nextElementSibling)\"\n",
       "            ></i></td>\n",
       "            <td class=\"param\">max_samples&nbsp;</td>\n",
       "            <td class=\"value\">&#x27;auto&#x27;</td>\n",
       "        </tr>\n",
       "    \n",
       "\n",
       "        <tr class=\"default\">\n",
       "            <td><i class=\"copy-paste-icon\"\n",
       "                 onclick=\"copyToClipboard('contamination',\n",
       "                          this.parentElement.nextElementSibling)\"\n",
       "            ></i></td>\n",
       "            <td class=\"param\">contamination&nbsp;</td>\n",
       "            <td class=\"value\">&#x27;auto&#x27;</td>\n",
       "        </tr>\n",
       "    \n",
       "\n",
       "        <tr class=\"default\">\n",
       "            <td><i class=\"copy-paste-icon\"\n",
       "                 onclick=\"copyToClipboard('max_features',\n",
       "                          this.parentElement.nextElementSibling)\"\n",
       "            ></i></td>\n",
       "            <td class=\"param\">max_features&nbsp;</td>\n",
       "            <td class=\"value\">1.0</td>\n",
       "        </tr>\n",
       "    \n",
       "\n",
       "        <tr class=\"default\">\n",
       "            <td><i class=\"copy-paste-icon\"\n",
       "                 onclick=\"copyToClipboard('bootstrap',\n",
       "                          this.parentElement.nextElementSibling)\"\n",
       "            ></i></td>\n",
       "            <td class=\"param\">bootstrap&nbsp;</td>\n",
       "            <td class=\"value\">False</td>\n",
       "        </tr>\n",
       "    \n",
       "\n",
       "        <tr class=\"default\">\n",
       "            <td><i class=\"copy-paste-icon\"\n",
       "                 onclick=\"copyToClipboard('n_jobs',\n",
       "                          this.parentElement.nextElementSibling)\"\n",
       "            ></i></td>\n",
       "            <td class=\"param\">n_jobs&nbsp;</td>\n",
       "            <td class=\"value\">None</td>\n",
       "        </tr>\n",
       "    \n",
       "\n",
       "        <tr class=\"default\">\n",
       "            <td><i class=\"copy-paste-icon\"\n",
       "                 onclick=\"copyToClipboard('random_state',\n",
       "                          this.parentElement.nextElementSibling)\"\n",
       "            ></i></td>\n",
       "            <td class=\"param\">random_state&nbsp;</td>\n",
       "            <td class=\"value\">None</td>\n",
       "        </tr>\n",
       "    \n",
       "\n",
       "        <tr class=\"default\">\n",
       "            <td><i class=\"copy-paste-icon\"\n",
       "                 onclick=\"copyToClipboard('verbose',\n",
       "                          this.parentElement.nextElementSibling)\"\n",
       "            ></i></td>\n",
       "            <td class=\"param\">verbose&nbsp;</td>\n",
       "            <td class=\"value\">0</td>\n",
       "        </tr>\n",
       "    \n",
       "\n",
       "        <tr class=\"default\">\n",
       "            <td><i class=\"copy-paste-icon\"\n",
       "                 onclick=\"copyToClipboard('warm_start',\n",
       "                          this.parentElement.nextElementSibling)\"\n",
       "            ></i></td>\n",
       "            <td class=\"param\">warm_start&nbsp;</td>\n",
       "            <td class=\"value\">False</td>\n",
       "        </tr>\n",
       "    \n",
       "                  </tbody>\n",
       "                </table>\n",
       "            </details>\n",
       "        </div>\n",
       "    </div></div></div></div></div></div></div><script>function copyToClipboard(text, element) {\n",
       "    // Get the parameter prefix from the closest toggleable content\n",
       "    const toggleableContent = element.closest('.sk-toggleable__content');\n",
       "    const paramPrefix = toggleableContent ? toggleableContent.dataset.paramPrefix : '';\n",
       "    const fullParamName = paramPrefix ? `${paramPrefix}${text}` : text;\n",
       "\n",
       "    const originalStyle = element.style;\n",
       "    const computedStyle = window.getComputedStyle(element);\n",
       "    const originalWidth = computedStyle.width;\n",
       "    const originalHTML = element.innerHTML.replace('Copied!', '');\n",
       "\n",
       "    navigator.clipboard.writeText(fullParamName)\n",
       "        .then(() => {\n",
       "            element.style.width = originalWidth;\n",
       "            element.style.color = 'green';\n",
       "            element.innerHTML = \"Copied!\";\n",
       "\n",
       "            setTimeout(() => {\n",
       "                element.innerHTML = originalHTML;\n",
       "                element.style = originalStyle;\n",
       "            }, 2000);\n",
       "        })\n",
       "        .catch(err => {\n",
       "            console.error('Failed to copy:', err);\n",
       "            element.style.color = 'red';\n",
       "            element.innerHTML = \"Failed!\";\n",
       "            setTimeout(() => {\n",
       "                element.innerHTML = originalHTML;\n",
       "                element.style = originalStyle;\n",
       "            }, 2000);\n",
       "        });\n",
       "    return false;\n",
       "}\n",
       "\n",
       "document.querySelectorAll('.fa-regular.fa-copy').forEach(function(element) {\n",
       "    const toggleableContent = element.closest('.sk-toggleable__content');\n",
       "    const paramPrefix = toggleableContent ? toggleableContent.dataset.paramPrefix : '';\n",
       "    const paramName = element.parentElement.nextElementSibling.textContent.trim();\n",
       "    const fullParamName = paramPrefix ? `${paramPrefix}${paramName}` : paramName;\n",
       "\n",
       "    element.setAttribute('title', fullParamName);\n",
       "});\n",
       "</script></body>"
      ],
      "text/plain": [
       "Pipeline(steps=[('StandardScaler', StandardScaler()),\n",
       "                ('IsolationForest', IsolationForest())])"
      ]
     },
     "execution_count": 5,
     "metadata": {},
     "output_type": "execute_result"
    }
   ],
   "source": [
    "class OutlierReplacer(BaseEstimator, TransformerMixin):\n",
    "    def __init__(self, contamination=0.05):\n",
    "        self.contamination = contamination\n",
    "        self.selector = IsolationForest(contamination=self.contamination, random_state=42)\n",
    "    \n",
    "    def fit(self, X, y=None):\n",
    "        X = pd.DataFrame(X)\n",
    "        self.columns_ = X.columns\n",
    "        self.selector.fit(X)\n",
    "        self.fill_values_ = X.median().values \n",
    "        return self\n",
    "\n",
    "    def transform(self, X, y=None):\n",
    "        X = pd.DataFrame(X, columns=self.columns_)\n",
    "        mask = self.selector.predict(X.values)  # 1 — нормальное, -1 — выброс\n",
    "        is_outlier = mask == -1\n",
    "        X_out = X.copy()\n",
    "        for col_idx, col in enumerate(self.columns_):\n",
    "            X_out.loc[is_outlier, col] = self.fill_values_[col_idx]\n",
    "        return X_out.values\n",
    "\n",
    "pipeline = Pipeline(\n",
    "    [('StandardScaler', StandardScaler()),\n",
    "     ('IsolationForest', IsolationForest())\n",
    "    ]\n",
    ")\n",
    "pipeline.fit(features, target)"
   ]
  },
  {
   "cell_type": "markdown",
   "id": "d11cb44f",
   "metadata": {
    "id": "d11cb44f"
   },
   "source": [
    "### Задание 5.1. (2 балла)\n",
    "\n",
    "Постройте корреляционную матрицу факторов, включив в неё целевой признак. \n",
    "\n",
    "Для наглядности визуализируйте полученную матрицу с помощью тепловой карты. \n",
    "\n",
    "**Примечание.** *Для визуализации вы можете использовать любую из знакомых вам библиотек.*\n",
    "\n",
    "На основе построенной корреляционной матрицы ответьте на следующий вопрос:\n",
    "\n",
    "* Какие факторы сильнее всего коррелируют с целевой переменной?\n",
    "\n",
    "Вычислите ранг и определитель полученной матрицы корреляций и приведите развёрнутые ответы на следующие вопросы:\n",
    "* Является ли корреляционная матрица плохо обусловенной (близок ли её опредитель к нулю)?\n",
    "* Что вы можете сказать о наличии коллинераности/мультиколлинеарности в данных? \n",
    "* Применима ли в данном случае модель классической линейной регрессии по методу наименьших квадратов и почему? "
   ]
  },
  {
   "cell_type": "markdown",
   "id": "57OjUl5e2oiL",
   "metadata": {
    "id": "57OjUl5e2oiL"
   },
   "source": [
    "**Критерии оценивания:**\n",
    "- Задание выполнено верно, учтены все условия (**2 балла**): \n",
    "    * приведён код для расчёта корреляционной матрицы;\n",
    "    * приведён код для визуализации корреляционной матрицы в виде тепловой карты;\n",
    "    * рассчитаны ранг и определитель корреляционной матрицы;\n",
    "    * предоставлены обоснованные ответы на все поставленные вопросы. \n",
    "\n",
    "- Задание выполнено верно, но не учтено одно условие (**1 балл**).\n",
    "- Задание выполнено неверно, не учтено несколько условий (**0 баллов**)."
   ]
  },
  {
   "cell_type": "code",
   "execution_count": 89,
   "id": "af00a5a0",
   "metadata": {
    "id": "af00a5a0"
   },
   "outputs": [
    {
     "data": {
      "application/vnd.plotly.v1+json": {
       "config": {
        "plotlyServerURL": "https://plot.ly"
       },
       "data": [
        {
         "coloraxis": "coloraxis",
         "hovertemplate": "x: %{x}<br>y: %{y}<br>color: %{z}<extra></extra>",
         "name": "0",
         "texttemplate": "%{z}",
         "type": "heatmap",
         "x": [
          "Por",
          "Perm",
          "AI",
          "Brittle",
          "TOC",
          "VR",
          "Prod"
         ],
         "xaxis": "x",
         "y": [
          "Por",
          "Perm",
          "AI",
          "Brittle",
          "TOC",
          "VR",
          "Prod"
         ],
         "yaxis": "y",
         "z": {
          "bdata": "AAAAAAAA8D9wTP1nZFboP5dz2mIGit2/nsn4iRz6y79Q0xwgUcfmPxUXma3Xorw/SIxKUMOU6z9wTP1nZFboPwAAAAAAAPA/kbQZ6WKszr/QeegUmb+/v0/RtXYXMd4/5u8Mg7Yfqj+usbIvE0fnP5dz2mIGit2/kbQZ6WKszr8AAAAAAADwP2WZTp0tVcA/1BA6zgYF4b8z5BcC9PHfPxOqZ9NvA9m/nsn4iRz6y7/QeegUmb+/v2WZTp0tVcA/AAAAAAAA8D/n3hDGlW3Lv1UXKHDxWNQ/QV5RIxtbzj9Q0xwgUcfmP0/RtXYXMd4/1BA6zgYF4b/n3hDGlW3LvwAAAAAAAPA/u7ATL7oq0z+X8iUPN/HkPxUXma3Xorw/5u8Mg7Yfqj8z5BcC9PHfP1UXKHDxWNQ/u7ATL7oq0z8AAAAAAADwPwaWRqgBr9Q/SIxKUMOU6z+usbIvE0fnPxOqZ9NvA9m/QV5RIxtbzj+X8iUPN/HkPwaWRqgBr9Q/AAAAAAAA8D8=",
          "dtype": "f8",
          "shape": "7, 7"
         }
        }
       ],
       "layout": {
        "coloraxis": {
         "colorscale": [
          [
           0,
           "#00224e"
          ],
          [
           0.1111111111111111,
           "#123570"
          ],
          [
           0.2222222222222222,
           "#3b496c"
          ],
          [
           0.3333333333333333,
           "#575d6d"
          ],
          [
           0.4444444444444444,
           "#707173"
          ],
          [
           0.5555555555555556,
           "#8a8678"
          ],
          [
           0.6666666666666666,
           "#a59c74"
          ],
          [
           0.7777777777777778,
           "#c3b369"
          ],
          [
           0.8888888888888888,
           "#e1cc55"
          ],
          [
           1,
           "#fee838"
          ]
         ]
        },
        "height": 600,
        "showlegend": true,
        "template": {
         "data": {
          "bar": [
           {
            "error_x": {
             "color": "rgb(36,36,36)"
            },
            "error_y": {
             "color": "rgb(36,36,36)"
            },
            "marker": {
             "line": {
              "color": "rgb(234,234,242)",
              "width": 0.5
             },
             "pattern": {
              "fillmode": "overlay",
              "size": 10,
              "solidity": 0.2
             }
            },
            "type": "bar"
           }
          ],
          "barpolar": [
           {
            "marker": {
             "line": {
              "color": "rgb(234,234,242)",
              "width": 0.5
             },
             "pattern": {
              "fillmode": "overlay",
              "size": 10,
              "solidity": 0.2
             }
            },
            "type": "barpolar"
           }
          ],
          "carpet": [
           {
            "aaxis": {
             "endlinecolor": "rgb(36,36,36)",
             "gridcolor": "white",
             "linecolor": "white",
             "minorgridcolor": "white",
             "startlinecolor": "rgb(36,36,36)"
            },
            "baxis": {
             "endlinecolor": "rgb(36,36,36)",
             "gridcolor": "white",
             "linecolor": "white",
             "minorgridcolor": "white",
             "startlinecolor": "rgb(36,36,36)"
            },
            "type": "carpet"
           }
          ],
          "choropleth": [
           {
            "colorbar": {
             "outlinewidth": 0,
             "tickcolor": "rgb(36,36,36)",
             "ticklen": 8,
             "ticks": "outside",
             "tickwidth": 2
            },
            "type": "choropleth"
           }
          ],
          "contour": [
           {
            "colorbar": {
             "outlinewidth": 0,
             "tickcolor": "rgb(36,36,36)",
             "ticklen": 8,
             "ticks": "outside",
             "tickwidth": 2
            },
            "colorscale": [
             [
              0,
              "rgb(2,4,25)"
             ],
             [
              0.06274509803921569,
              "rgb(24,15,41)"
             ],
             [
              0.12549019607843137,
              "rgb(47,23,57)"
             ],
             [
              0.18823529411764706,
              "rgb(71,28,72)"
             ],
             [
              0.25098039215686274,
              "rgb(97,30,82)"
             ],
             [
              0.3137254901960784,
              "rgb(123,30,89)"
             ],
             [
              0.3764705882352941,
              "rgb(150,27,91)"
             ],
             [
              0.4392156862745098,
              "rgb(177,22,88)"
             ],
             [
              0.5019607843137255,
              "rgb(203,26,79)"
             ],
             [
              0.5647058823529412,
              "rgb(223,47,67)"
             ],
             [
              0.6274509803921569,
              "rgb(236,76,61)"
             ],
             [
              0.6901960784313725,
              "rgb(242,107,73)"
             ],
             [
              0.7529411764705882,
              "rgb(244,135,95)"
             ],
             [
              0.8156862745098039,
              "rgb(245,162,122)"
             ],
             [
              0.8784313725490196,
              "rgb(246,188,153)"
             ],
             [
              0.9411764705882353,
              "rgb(247,212,187)"
             ],
             [
              1,
              "rgb(250,234,220)"
             ]
            ],
            "type": "contour"
           }
          ],
          "contourcarpet": [
           {
            "colorbar": {
             "outlinewidth": 0,
             "tickcolor": "rgb(36,36,36)",
             "ticklen": 8,
             "ticks": "outside",
             "tickwidth": 2
            },
            "type": "contourcarpet"
           }
          ],
          "heatmap": [
           {
            "colorbar": {
             "outlinewidth": 0,
             "tickcolor": "rgb(36,36,36)",
             "ticklen": 8,
             "ticks": "outside",
             "tickwidth": 2
            },
            "colorscale": [
             [
              0,
              "rgb(2,4,25)"
             ],
             [
              0.06274509803921569,
              "rgb(24,15,41)"
             ],
             [
              0.12549019607843137,
              "rgb(47,23,57)"
             ],
             [
              0.18823529411764706,
              "rgb(71,28,72)"
             ],
             [
              0.25098039215686274,
              "rgb(97,30,82)"
             ],
             [
              0.3137254901960784,
              "rgb(123,30,89)"
             ],
             [
              0.3764705882352941,
              "rgb(150,27,91)"
             ],
             [
              0.4392156862745098,
              "rgb(177,22,88)"
             ],
             [
              0.5019607843137255,
              "rgb(203,26,79)"
             ],
             [
              0.5647058823529412,
              "rgb(223,47,67)"
             ],
             [
              0.6274509803921569,
              "rgb(236,76,61)"
             ],
             [
              0.6901960784313725,
              "rgb(242,107,73)"
             ],
             [
              0.7529411764705882,
              "rgb(244,135,95)"
             ],
             [
              0.8156862745098039,
              "rgb(245,162,122)"
             ],
             [
              0.8784313725490196,
              "rgb(246,188,153)"
             ],
             [
              0.9411764705882353,
              "rgb(247,212,187)"
             ],
             [
              1,
              "rgb(250,234,220)"
             ]
            ],
            "type": "heatmap"
           }
          ],
          "histogram": [
           {
            "marker": {
             "pattern": {
              "fillmode": "overlay",
              "size": 10,
              "solidity": 0.2
             }
            },
            "type": "histogram"
           }
          ],
          "histogram2d": [
           {
            "colorbar": {
             "outlinewidth": 0,
             "tickcolor": "rgb(36,36,36)",
             "ticklen": 8,
             "ticks": "outside",
             "tickwidth": 2
            },
            "colorscale": [
             [
              0,
              "rgb(2,4,25)"
             ],
             [
              0.06274509803921569,
              "rgb(24,15,41)"
             ],
             [
              0.12549019607843137,
              "rgb(47,23,57)"
             ],
             [
              0.18823529411764706,
              "rgb(71,28,72)"
             ],
             [
              0.25098039215686274,
              "rgb(97,30,82)"
             ],
             [
              0.3137254901960784,
              "rgb(123,30,89)"
             ],
             [
              0.3764705882352941,
              "rgb(150,27,91)"
             ],
             [
              0.4392156862745098,
              "rgb(177,22,88)"
             ],
             [
              0.5019607843137255,
              "rgb(203,26,79)"
             ],
             [
              0.5647058823529412,
              "rgb(223,47,67)"
             ],
             [
              0.6274509803921569,
              "rgb(236,76,61)"
             ],
             [
              0.6901960784313725,
              "rgb(242,107,73)"
             ],
             [
              0.7529411764705882,
              "rgb(244,135,95)"
             ],
             [
              0.8156862745098039,
              "rgb(245,162,122)"
             ],
             [
              0.8784313725490196,
              "rgb(246,188,153)"
             ],
             [
              0.9411764705882353,
              "rgb(247,212,187)"
             ],
             [
              1,
              "rgb(250,234,220)"
             ]
            ],
            "type": "histogram2d"
           }
          ],
          "histogram2dcontour": [
           {
            "colorbar": {
             "outlinewidth": 0,
             "tickcolor": "rgb(36,36,36)",
             "ticklen": 8,
             "ticks": "outside",
             "tickwidth": 2
            },
            "colorscale": [
             [
              0,
              "rgb(2,4,25)"
             ],
             [
              0.06274509803921569,
              "rgb(24,15,41)"
             ],
             [
              0.12549019607843137,
              "rgb(47,23,57)"
             ],
             [
              0.18823529411764706,
              "rgb(71,28,72)"
             ],
             [
              0.25098039215686274,
              "rgb(97,30,82)"
             ],
             [
              0.3137254901960784,
              "rgb(123,30,89)"
             ],
             [
              0.3764705882352941,
              "rgb(150,27,91)"
             ],
             [
              0.4392156862745098,
              "rgb(177,22,88)"
             ],
             [
              0.5019607843137255,
              "rgb(203,26,79)"
             ],
             [
              0.5647058823529412,
              "rgb(223,47,67)"
             ],
             [
              0.6274509803921569,
              "rgb(236,76,61)"
             ],
             [
              0.6901960784313725,
              "rgb(242,107,73)"
             ],
             [
              0.7529411764705882,
              "rgb(244,135,95)"
             ],
             [
              0.8156862745098039,
              "rgb(245,162,122)"
             ],
             [
              0.8784313725490196,
              "rgb(246,188,153)"
             ],
             [
              0.9411764705882353,
              "rgb(247,212,187)"
             ],
             [
              1,
              "rgb(250,234,220)"
             ]
            ],
            "type": "histogram2dcontour"
           }
          ],
          "mesh3d": [
           {
            "colorbar": {
             "outlinewidth": 0,
             "tickcolor": "rgb(36,36,36)",
             "ticklen": 8,
             "ticks": "outside",
             "tickwidth": 2
            },
            "type": "mesh3d"
           }
          ],
          "parcoords": [
           {
            "line": {
             "colorbar": {
              "outlinewidth": 0,
              "tickcolor": "rgb(36,36,36)",
              "ticklen": 8,
              "ticks": "outside",
              "tickwidth": 2
             }
            },
            "type": "parcoords"
           }
          ],
          "pie": [
           {
            "automargin": true,
            "type": "pie"
           }
          ],
          "scatter": [
           {
            "fillpattern": {
             "fillmode": "overlay",
             "size": 10,
             "solidity": 0.2
            },
            "type": "scatter"
           }
          ],
          "scatter3d": [
           {
            "line": {
             "colorbar": {
              "outlinewidth": 0,
              "tickcolor": "rgb(36,36,36)",
              "ticklen": 8,
              "ticks": "outside",
              "tickwidth": 2
             }
            },
            "marker": {
             "colorbar": {
              "outlinewidth": 0,
              "tickcolor": "rgb(36,36,36)",
              "ticklen": 8,
              "ticks": "outside",
              "tickwidth": 2
             }
            },
            "type": "scatter3d"
           }
          ],
          "scattercarpet": [
           {
            "marker": {
             "colorbar": {
              "outlinewidth": 0,
              "tickcolor": "rgb(36,36,36)",
              "ticklen": 8,
              "ticks": "outside",
              "tickwidth": 2
             }
            },
            "type": "scattercarpet"
           }
          ],
          "scattergeo": [
           {
            "marker": {
             "colorbar": {
              "outlinewidth": 0,
              "tickcolor": "rgb(36,36,36)",
              "ticklen": 8,
              "ticks": "outside",
              "tickwidth": 2
             }
            },
            "type": "scattergeo"
           }
          ],
          "scattergl": [
           {
            "marker": {
             "colorbar": {
              "outlinewidth": 0,
              "tickcolor": "rgb(36,36,36)",
              "ticklen": 8,
              "ticks": "outside",
              "tickwidth": 2
             }
            },
            "type": "scattergl"
           }
          ],
          "scattermap": [
           {
            "marker": {
             "colorbar": {
              "outlinewidth": 0,
              "tickcolor": "rgb(36,36,36)",
              "ticklen": 8,
              "ticks": "outside",
              "tickwidth": 2
             }
            },
            "type": "scattermap"
           }
          ],
          "scattermapbox": [
           {
            "marker": {
             "colorbar": {
              "outlinewidth": 0,
              "tickcolor": "rgb(36,36,36)",
              "ticklen": 8,
              "ticks": "outside",
              "tickwidth": 2
             }
            },
            "type": "scattermapbox"
           }
          ],
          "scatterpolar": [
           {
            "marker": {
             "colorbar": {
              "outlinewidth": 0,
              "tickcolor": "rgb(36,36,36)",
              "ticklen": 8,
              "ticks": "outside",
              "tickwidth": 2
             }
            },
            "type": "scatterpolar"
           }
          ],
          "scatterpolargl": [
           {
            "marker": {
             "colorbar": {
              "outlinewidth": 0,
              "tickcolor": "rgb(36,36,36)",
              "ticklen": 8,
              "ticks": "outside",
              "tickwidth": 2
             }
            },
            "type": "scatterpolargl"
           }
          ],
          "scatterternary": [
           {
            "marker": {
             "colorbar": {
              "outlinewidth": 0,
              "tickcolor": "rgb(36,36,36)",
              "ticklen": 8,
              "ticks": "outside",
              "tickwidth": 2
             }
            },
            "type": "scatterternary"
           }
          ],
          "surface": [
           {
            "colorbar": {
             "outlinewidth": 0,
             "tickcolor": "rgb(36,36,36)",
             "ticklen": 8,
             "ticks": "outside",
             "tickwidth": 2
            },
            "colorscale": [
             [
              0,
              "rgb(2,4,25)"
             ],
             [
              0.06274509803921569,
              "rgb(24,15,41)"
             ],
             [
              0.12549019607843137,
              "rgb(47,23,57)"
             ],
             [
              0.18823529411764706,
              "rgb(71,28,72)"
             ],
             [
              0.25098039215686274,
              "rgb(97,30,82)"
             ],
             [
              0.3137254901960784,
              "rgb(123,30,89)"
             ],
             [
              0.3764705882352941,
              "rgb(150,27,91)"
             ],
             [
              0.4392156862745098,
              "rgb(177,22,88)"
             ],
             [
              0.5019607843137255,
              "rgb(203,26,79)"
             ],
             [
              0.5647058823529412,
              "rgb(223,47,67)"
             ],
             [
              0.6274509803921569,
              "rgb(236,76,61)"
             ],
             [
              0.6901960784313725,
              "rgb(242,107,73)"
             ],
             [
              0.7529411764705882,
              "rgb(244,135,95)"
             ],
             [
              0.8156862745098039,
              "rgb(245,162,122)"
             ],
             [
              0.8784313725490196,
              "rgb(246,188,153)"
             ],
             [
              0.9411764705882353,
              "rgb(247,212,187)"
             ],
             [
              1,
              "rgb(250,234,220)"
             ]
            ],
            "type": "surface"
           }
          ],
          "table": [
           {
            "cells": {
             "fill": {
              "color": "rgb(231,231,240)"
             },
             "line": {
              "color": "white"
             }
            },
            "header": {
             "fill": {
              "color": "rgb(183,183,191)"
             },
             "line": {
              "color": "white"
             }
            },
            "type": "table"
           }
          ]
         },
         "layout": {
          "annotationdefaults": {
           "arrowcolor": "rgb(67,103,167)"
          },
          "autotypenumbers": "strict",
          "coloraxis": {
           "colorbar": {
            "outlinewidth": 0,
            "tickcolor": "rgb(36,36,36)",
            "ticklen": 8,
            "ticks": "outside",
            "tickwidth": 2
           }
          },
          "colorscale": {
           "sequential": [
            [
             0,
             "rgb(2,4,25)"
            ],
            [
             0.06274509803921569,
             "rgb(24,15,41)"
            ],
            [
             0.12549019607843137,
             "rgb(47,23,57)"
            ],
            [
             0.18823529411764706,
             "rgb(71,28,72)"
            ],
            [
             0.25098039215686274,
             "rgb(97,30,82)"
            ],
            [
             0.3137254901960784,
             "rgb(123,30,89)"
            ],
            [
             0.3764705882352941,
             "rgb(150,27,91)"
            ],
            [
             0.4392156862745098,
             "rgb(177,22,88)"
            ],
            [
             0.5019607843137255,
             "rgb(203,26,79)"
            ],
            [
             0.5647058823529412,
             "rgb(223,47,67)"
            ],
            [
             0.6274509803921569,
             "rgb(236,76,61)"
            ],
            [
             0.6901960784313725,
             "rgb(242,107,73)"
            ],
            [
             0.7529411764705882,
             "rgb(244,135,95)"
            ],
            [
             0.8156862745098039,
             "rgb(245,162,122)"
            ],
            [
             0.8784313725490196,
             "rgb(246,188,153)"
            ],
            [
             0.9411764705882353,
             "rgb(247,212,187)"
            ],
            [
             1,
             "rgb(250,234,220)"
            ]
           ],
           "sequentialminus": [
            [
             0,
             "rgb(2,4,25)"
            ],
            [
             0.06274509803921569,
             "rgb(24,15,41)"
            ],
            [
             0.12549019607843137,
             "rgb(47,23,57)"
            ],
            [
             0.18823529411764706,
             "rgb(71,28,72)"
            ],
            [
             0.25098039215686274,
             "rgb(97,30,82)"
            ],
            [
             0.3137254901960784,
             "rgb(123,30,89)"
            ],
            [
             0.3764705882352941,
             "rgb(150,27,91)"
            ],
            [
             0.4392156862745098,
             "rgb(177,22,88)"
            ],
            [
             0.5019607843137255,
             "rgb(203,26,79)"
            ],
            [
             0.5647058823529412,
             "rgb(223,47,67)"
            ],
            [
             0.6274509803921569,
             "rgb(236,76,61)"
            ],
            [
             0.6901960784313725,
             "rgb(242,107,73)"
            ],
            [
             0.7529411764705882,
             "rgb(244,135,95)"
            ],
            [
             0.8156862745098039,
             "rgb(245,162,122)"
            ],
            [
             0.8784313725490196,
             "rgb(246,188,153)"
            ],
            [
             0.9411764705882353,
             "rgb(247,212,187)"
            ],
            [
             1,
             "rgb(250,234,220)"
            ]
           ]
          },
          "colorway": [
           "rgb(76,114,176)",
           "rgb(221,132,82)",
           "rgb(85,168,104)",
           "rgb(196,78,82)",
           "rgb(129,114,179)",
           "rgb(147,120,96)",
           "rgb(218,139,195)",
           "rgb(140,140,140)",
           "rgb(204,185,116)",
           "rgb(100,181,205)"
          ],
          "font": {
           "color": "rgb(36,36,36)"
          },
          "geo": {
           "bgcolor": "white",
           "lakecolor": "white",
           "landcolor": "rgb(234,234,242)",
           "showlakes": true,
           "showland": true,
           "subunitcolor": "white"
          },
          "hoverlabel": {
           "align": "left"
          },
          "hovermode": "closest",
          "paper_bgcolor": "white",
          "plot_bgcolor": "rgb(234,234,242)",
          "polar": {
           "angularaxis": {
            "gridcolor": "white",
            "linecolor": "white",
            "showgrid": true,
            "ticks": ""
           },
           "bgcolor": "rgb(234,234,242)",
           "radialaxis": {
            "gridcolor": "white",
            "linecolor": "white",
            "showgrid": true,
            "ticks": ""
           }
          },
          "scene": {
           "xaxis": {
            "backgroundcolor": "rgb(234,234,242)",
            "gridcolor": "white",
            "gridwidth": 2,
            "linecolor": "white",
            "showbackground": true,
            "showgrid": true,
            "ticks": "",
            "zerolinecolor": "white"
           },
           "yaxis": {
            "backgroundcolor": "rgb(234,234,242)",
            "gridcolor": "white",
            "gridwidth": 2,
            "linecolor": "white",
            "showbackground": true,
            "showgrid": true,
            "ticks": "",
            "zerolinecolor": "white"
           },
           "zaxis": {
            "backgroundcolor": "rgb(234,234,242)",
            "gridcolor": "white",
            "gridwidth": 2,
            "linecolor": "white",
            "showbackground": true,
            "showgrid": true,
            "ticks": "",
            "zerolinecolor": "white"
           }
          },
          "shapedefaults": {
           "fillcolor": "rgb(67,103,167)",
           "line": {
            "width": 0
           },
           "opacity": 0.5
          },
          "ternary": {
           "aaxis": {
            "gridcolor": "white",
            "linecolor": "white",
            "showgrid": true,
            "ticks": ""
           },
           "baxis": {
            "gridcolor": "white",
            "linecolor": "white",
            "showgrid": true,
            "ticks": ""
           },
           "bgcolor": "rgb(234,234,242)",
           "caxis": {
            "gridcolor": "white",
            "linecolor": "white",
            "showgrid": true,
            "ticks": ""
           }
          },
          "xaxis": {
           "automargin": true,
           "gridcolor": "white",
           "linecolor": "white",
           "showgrid": true,
           "ticks": "",
           "title": {
            "standoff": 15
           },
           "zerolinecolor": "white"
          },
          "yaxis": {
           "automargin": true,
           "gridcolor": "white",
           "linecolor": "white",
           "showgrid": true,
           "ticks": "",
           "title": {
            "standoff": 15
           },
           "zerolinecolor": "white"
          }
         }
        },
        "title": {
         "text": "Корреляционная матрица"
        },
        "width": 600,
        "xaxis": {
         "anchor": "y",
         "domain": [
          0,
          1
         ],
         "side": "top"
        },
        "yaxis": {
         "anchor": "x",
         "autorange": "reversed",
         "domain": [
          0,
          1
         ]
        }
       }
      },
      "image/png": "[encoded data removed]"
     },
     "metadata": {},
     "output_type": "display_data"
    },
    {
     "name": "stdout",
     "output_type": "stream",
     "text": [
      "Ранг матрица: 7\n",
      "Определитель матрицы: 0.00075\n"
     ]
    }
   ],
   "source": [
    "# Ваш код здесь\n",
    "df = data.drop(['Well'], axis=1)\n",
    "correlation = df.corr()\n",
    "fig = px.imshow(img=correlation,\n",
    "                title='Корреляционная матрица',\n",
    "                origin='upper',\n",
    "                height=600,\n",
    "                width=600,\n",
    "                template='seaborn',\n",
    "                aspect='auto',\n",
    "                color_continuous_scale='Cividis',\n",
    "                text_auto=True)\n",
    "\n",
    "fig.update_layout(showlegend=True)\n",
    "fig.update_xaxes(side='top')\n",
    "fig.show()\n",
    "\n",
    "print(f'Ранг матрица: {np.linalg.matrix_rank(correlation)}')\n",
    "print(f'Определитель матрицы: {np.round(np.linalg.det(correlation),5)}')"
   ]
  },
  {
   "cell_type": "markdown",
   "id": "9a56013d",
   "metadata": {
    "id": "9a56013d"
   },
   "source": [
    "> *Ваши выводы здесь*\n",
    "1. Какие факторы сильнее всего коррелируют с целевой переменной?\\\n",
    "Признак __'Por'__ (0.86) имеет <u>самую сильную корреляцию</u> с целевым признаком __'Prod'__, за ним идет __'Perm'__ (0.72) и __'TOC'__ (0.65)\n",
    "\n",
    "2. Является ли корреляционная матрица плохо обусловенной (близок ли её опредитель к нулю)?\\\n",
    "Да, матрица является плохо обусловенной, ее определитель близок к нулю из-за сильной корреляции между признаками\n",
    "\n",
    "3. Что вы можете сказать о наличии коллинераности/мультиколлинеарности в данных?\\\n",
    "Присутствует высокая, но не полная мультиколлинеарность между признаками. Высокая корреляция может влиять на коэффициенты линейной регрессии\n",
    "\n",
    "4. Применима ли в данном случае модель классической линейной регрессии по методу наименьших квадратов и почему?\\\n",
    "Формально - да, можно, т.к. ранг матрицы равен 7, как и количество неизвестных (признаков). Определитель так же, хоть и очень мал, но не равен нулю. Корреляция высокая, но не дотягивает до мультиколлинеарности.\\\n",
    "Но на практике, я бы еще доработал данные. Высокая корреляция будет искажать значения коэффициентов, так же могут возникать высокие стандартные ошибки.\n"
   ]
  },
  {
   "cell_type": "markdown",
   "id": "43fd91c4",
   "metadata": {
    "id": "43fd91c4"
   },
   "source": [
    "### Задание 5.2. (2 балла)\n",
    "\n",
    "Создайте матрицу наблюдений `X` и вектор правильных ответов `y`. В качестве факторов для матрицы наблюдений возьмите все имеющиеся в данных признаки. \n",
    "\n",
    "Постройте модель линейной регрессии по методу наименьших квадратов. Для этого воспользуйтесь матричной формулой МНК и инструментарием библиотеки numpy. \n",
    "\n",
    "Выведите на экран полученные оценки коэффициентов модели, округлённые до целого.\n",
    "\n",
    "Приведите подробные выводы по полученным результатам, ответив на следующие вопросы:\n",
    "* Есть ли в ваших данных признаки, которые, согласно модели, можно назвать неинформативными, то есть они не оказывают влияния на целевую переменную или оказывают шумовое влияние?\n",
    "* Приведите интерпретацию нескольких (двух или трёх) коэффициентов полученной модели линейной регрессии.\n"
   ]
  },
  {
   "cell_type": "markdown",
   "id": "QtNtTUzI4Cpq",
   "metadata": {
    "id": "QtNtTUzI4Cpq"
   },
   "source": [
    "**Критерии оценивания:**\n",
    "- Задание выполнено верно, учтены все условия (**2 балла**): \n",
    "    * приведён код для нахождения параметров модели линейной регрессии с помощью матричной формулы МНК;\n",
    "    * на основе полученных параметров даны верные ответы на поставленные вопросы;\n",
    "    * приведена корректная интерпретация нескольких коэффициентов полученной модели линейной регрессии.\n",
    "\n",
    "- Задание выполнено верно, но не учтено одно из условий (**1 балл**).\n",
    "- Задание выполнено неверно, не учтено несколько условий (**0 баллов**)."
   ]
  },
  {
   "cell_type": "code",
   "execution_count": null,
   "id": "5724288c",
   "metadata": {
    "id": "5724288c"
   },
   "outputs": [],
   "source": [
    "# Ваш код здесь"
   ]
  },
  {
   "cell_type": "markdown",
   "id": "bab9ee21",
   "metadata": {
    "id": "bab9ee21"
   },
   "source": [
    "> *Ваши выводы здесь*"
   ]
  },
  {
   "cell_type": "markdown",
   "id": "4a05a4ac",
   "metadata": {
    "id": "4a05a4ac"
   },
   "source": [
    "### Задание 5.3. (1 балл)\n",
    "\n",
    "Теперь потренируемся строить предсказание для наблюдений целевой переменной. \n",
    "\n",
    "**а)** Постройте прогноз выработки газа для скважины со следующими параметрами:\n",
    "\n",
    "```python\n",
    "{\n",
    "    'Well': 106.0,\n",
    "    'Por': 15.32,\n",
    "    'Perm': 3.71,\n",
    "    'AI': 3.29,\n",
    "    'Brittle': 55.99,\n",
    "    'TOC': 1.35,\n",
    "    'VR': 2.42\n",
    " }\n",
    "```\n",
    "\n",
    "Рассчитайте абсолютную ошибку построенного вами прогноза для предложенной скважины (в миллионах кубических футов в день), если известно, что на этой скважине производится `4748.315024` миллионов кубических футов газа в день. \n",
    "\n",
    "**б)** Постройте прогноз выработки газа для всех скважин из обучающего набора данных. Выберите метрику, по которой вы будете оценивать качество регрессионных моделей и сравнивать их между собой (можно использовать несколько метрик, но не более двух).\n",
    "\n",
    "Рассчитайте значение выбранной метрики для вашей модели. Приведите интерпретацию полученного результата. "
   ]
  },
  {
   "cell_type": "markdown",
   "id": "qUDcep5Q5GWU",
   "metadata": {
    "id": "qUDcep5Q5GWU"
   },
   "source": [
    "**Критерии оценивания:**\n",
    "- Задание выполнено верно, учтены все условия (**1 балл**): \n",
    "    * приведён код для построения прогноза выработки газа на указанной скважине и рассчитана абсолютная ошибка прогноза для этой скважины;\n",
    "    * выбрана корректная для поставленной задачи метрика (или метрики) оценки качества модели и приведён код для расчёта этой метрики на всём обучающем наборе данных;\n",
    "    * приведена корректная интерпретация полученного результата.\n",
    "\n",
    "- Задание выполнено верно, но не учтено одно из условий, или задание выполнено неверно (**0 баллов**)."
   ]
  },
  {
   "cell_type": "code",
   "execution_count": null,
   "id": "e4291db0",
   "metadata": {
    "id": "e4291db0"
   },
   "outputs": [],
   "source": [
    "# Ваш код здесь"
   ]
  },
  {
   "cell_type": "markdown",
   "id": "c9bee4bc",
   "metadata": {
    "id": "c9bee4bc"
   },
   "source": [
    "> *Ваши выводы здесь*"
   ]
  },
  {
   "cell_type": "markdown",
   "id": "0c25c3aa",
   "metadata": {
    "id": "0c25c3aa"
   },
   "source": [
    "### Задание 5.4. (1 балл)\n",
    "\n",
    "Настало время анализа построенной модели. Посмотрите на коэффициенты и сравните их знаки со значениями выборочных корреляций между целевым признаком и факторами, которые вы нашли ранее.\n",
    "\n",
    "Дайте развёрнутые ответы на следующие вопросы:\n",
    "\n",
    "* Есть ли в вашей модели фактор, при котором коэффициент в модели линейной регрессии противоречит соответствующему коэффициенту корреляции? Например, корреляция говорит, что зависимость между фактором и целевой переменной прямая, а модель говорит обратное. Если таких факторов несколько, укажите их все.\n",
    "* Как вы считаете, с чем связано полученное противоречие результатов?"
   ]
  },
  {
   "cell_type": "markdown",
   "id": "ngJ3UdYb6Ll6",
   "metadata": {
    "id": "ngJ3UdYb6Ll6"
   },
   "source": [
    "**Критерии оценивания:**\n",
    "\n",
    "- Задание выполнено верно, даны корректные развёрнутые ответы на все поставленные в задании вопросы (**1 балл**). \n",
    "\n",
    "- Задание выполнено неверно, даны некорректные ответы на один или несколько поставленных в задании вопросов (**0 баллов**)."
   ]
  },
  {
   "cell_type": "code",
   "execution_count": null,
   "id": "v-zIxRPY9wK7",
   "metadata": {
    "id": "v-zIxRPY9wK7"
   },
   "outputs": [],
   "source": [
    "# Ваш код здесь"
   ]
  },
  {
   "cell_type": "markdown",
   "id": "qeowwIp99yBf",
   "metadata": {
    "id": "qeowwIp99yBf"
   },
   "source": [
    "> *Ваши выводы здесь*"
   ]
  },
  {
   "cell_type": "markdown",
   "id": "9cea9195",
   "metadata": {
    "id": "9cea9195"
   },
   "source": [
    "### Задание 5.5. (2 балла)\n",
    "\n",
    "* Исключите из данных сильно коррелированные между собой факторы. Под сильной корреляцией в данной задаче будем понимать значения выше `0.7`.\n",
    "\n",
    "Выбирая, какой из коррелированных факторов оставить, руководствуйтесь коэффициентом корреляции с целевой переменной: оставляйте тот фактор, который больше всего коррелирует с целевой переменной (объёмом добычи газа).\n",
    "\n",
    "* Также исключите из данных факторы, для которых корреляция с целевой переменной меньше `0.05`.\n",
    "\n",
    "Постройте модель линейной регрессии на обновлённых после удаления факторов данных по методу наименьших квадратов. Для этого используйте матричную формулу и библиотеку numpy. Выведите значение полученных коэффициентов, округлённых до целого.\n",
    "\n",
    "Сделайте прогноз для всего обучающего набора данных и рассчитайте выбранную вами ранее метрику (или метрики). \n",
    "\n",
    "Дайте подробные ответы на следующие вопросы:\n",
    "\n",
    "* Приведите интерпретацию нескольких полученных коэффициентов (двух или трёх). Сравните их значения с полученными ранее.\n",
    "* Приведите интерпретацию полученных значений метрик. Сравните их значения с полученными ранее. \n",
    "* Удалось ли вам побороть противоречие коэффициентов линейной регрессии и коэффициентов корреляции?"
   ]
  },
  {
   "cell_type": "markdown",
   "id": "vlUYVjJP6oXN",
   "metadata": {
    "id": "vlUYVjJP6oXN"
   },
   "source": [
    "**Критерии оценивания:**\n",
    "- Задание выполнено верно, учтены все условия (**2 балла**): \n",
    "    * отобраны верные факторы;\n",
    "    * на основе отобранных факторов построена модель линейной регрессии с помощью матричной формулы МНК и найдены параметры модели, соответствующие каждому из факторов;\n",
    "    * построен прогноз для всего обучающего набора данных и рассчитано значение метрики (метрика должна быть выбрана корректно);\n",
    "    * даны ответы на все поставленные в задании вопросы.\n",
    "\n",
    "- Задание выполнено верно, но не учтено одно из условий (**1 балл**).\n",
    "- Задание выполнено верно, не учтено несколько из условий (**0 баллов**)."
   ]
  },
  {
   "cell_type": "code",
   "execution_count": null,
   "id": "5d5ZJ0lX_UHe",
   "metadata": {
    "id": "5d5ZJ0lX_UHe"
   },
   "outputs": [],
   "source": [
    "# Ваш код здесь"
   ]
  },
  {
   "cell_type": "markdown",
   "id": "KxbYvMDo_WLe",
   "metadata": {
    "id": "KxbYvMDo_WLe"
   },
   "source": [
    "> *Ваши выводы здесь*"
   ]
  },
  {
   "cell_type": "markdown",
   "id": "7d50db12",
   "metadata": {
    "id": "7d50db12"
   },
   "source": [
    "### Задание 5.6. (1 балл)\n",
    "\n",
    "Наконец, давайте построим модель линейной регрессии из библиотеки `scikit-learn (sklearn)` и сравним результаты её работы с теми, что нам удалось получить вручную. \n",
    "\n",
    "Постройте модель линейной регрессии на обновлённых после удаления факторов данных по методу наименьших квадратов. Для этого воспользуйтесь классом `LinearRegression` из библиотеки `sklearn`. Выведите значения полученных коэффициентов, округлённые до целого.\n",
    "\n",
    "Сделайте прогноз для всего обучающего набора данных и рассчитайте значение выбранной вами метрики (или метрик).\n",
    "\n",
    "Сравните результаты библиотечной реализации с тем, что вы получили ранее. "
   ]
  },
  {
   "cell_type": "markdown",
   "id": "emu5D3w278JP",
   "metadata": {
    "id": "emu5D3w278JP"
   },
   "source": [
    "**Критерии оценивания:**\n",
    "\n",
    "- Задание выполнено верно, учтены все условия (**1 балл**): \n",
    "    * на основе отобранных факторов построена модель линейной регрессии из библиотеки sklearn и найдены параметры модели, соответствующие каждому из факторов;\n",
    "    * построен прогноз для всего обучающего набора данных и рассчитано значение метрики (метрика должна быть выбрана корректно);\n",
    "    * приведён вывод о соответствии результатов, полученных вручную и с помощью библиотеки.\n",
    "- Задание выполнено неверно, не учтено одно или несколько условий (**0 баллов**)."
   ]
  },
  {
   "cell_type": "code",
   "execution_count": null,
   "id": "Gpdpfq59AKGu",
   "metadata": {
    "id": "Gpdpfq59AKGu"
   },
   "outputs": [],
   "source": [
    "# Ваш код здесь"
   ]
  },
  {
   "cell_type": "markdown",
   "id": "WT9cdHAbAMG7",
   "metadata": {
    "id": "WT9cdHAbAMG7"
   },
   "source": [
    "> *Ваши выводы здесь*"
   ]
  },
  {
   "cell_type": "markdown",
   "id": "5346338e",
   "metadata": {
    "id": "5346338e"
   },
   "source": [
    "## Практика: полиномиальная регрессия и регуляризация"
   ]
  },
  {
   "cell_type": "markdown",
   "id": "aad9e3a6",
   "metadata": {
    "id": "aad9e3a6"
   },
   "source": [
    "Мы продолжаем работать над задачей от владельца компании «Газ-Таз-Ваз-Нефть» Василия.\n",
    "\n",
    "Ранее мы построили модель линейной регрессии, которая прогнозирует выработку газа на скважине. Для этого мы с помощью матрицы корреляций и рассуждений отобрали некоррелированные, значимые для предсказания признаки. **Далее мы будем использовать именно их (см. задание 5.5).**\n",
    "\n",
    "Мы хотим улучшить результат — уменьшить ошибку прогноза. Для этого мы воспользуемся моделью полиномиальной регрессии третьей степени. Однако теперь мы знаем, что полиномиальным моделям очень легко переобучиться под исходную выборку. Так как данных у нас не так много (всего 200 скважин), то для контроля качества модели мы будем использовать кросс-валидацию. \n",
    "\n",
    "Приступим! Выполните задания 8.1–8.5:\n"
   ]
  },
  {
   "cell_type": "code",
   "execution_count": null,
   "id": "18506d1b",
   "metadata": {
    "id": "18506d1b"
   },
   "outputs": [],
   "source": [
    "from sklearn.preprocessing import PolynomialFeatures, StandardScaler\n",
    "from sklearn.linear_model import LinearRegression, Lasso, Ridge, ElasticNet\n",
    "from sklearn.model_selection import GridSearchCV\n",
    "from sklearn.model_selection import cross_validate"
   ]
  },
  {
   "cell_type": "markdown",
   "id": "bfbfea8d",
   "metadata": {
    "id": "bfbfea8d"
   },
   "source": [
    "### Задание 8.1. (1 балл)\n",
    "\n",
    "Стандаризируйте признаки с помощью `StandartScaler` из библиотеки `sklearn`. \n",
    "\n",
    "Затем сгенерируйте полиномиальные признаки третьего порядка на факторах, которые вы выбрали для обучения моделей. Для этого воспользуйтесь генератором полиномов `PolynomialFeatures` из библиотеки `sklearn`. Параметр `include_bias` установите в значение `False`.\n",
    "\n",
    "Выведите на экран, сколько факторов у вас получилось после генерации полиномиальных признаков.\n",
    "\n",
    "**Важно:** стандартизацию необходимо произвести до генерации полиномиальных факторов!\n",
    "\n",
    "Обучите модель линейной регрессии из библиотеки `sklearn` (`LinearRegression`) на полученных полиномиальных факторах.\n",
    "\n",
    "Используя кросс-валидацию оцените среднее значение выбранной вами метрики (или метрик) на тренировочных и валидационных фолдах.\n",
    "\n",
    "Проинтерпретируйте полученные результаты."
   ]
  },
  {
   "cell_type": "markdown",
   "id": "Y8oAhQkr8gV-",
   "metadata": {
    "id": "Y8oAhQkr8gV-"
   },
   "source": [
    "**Критерии оценивания:**\n",
    "\n",
    "- Задание выполнено верно, учтены все условия (**1 балл**): \n",
    "    * на основе отобранных факторов сгенерированы полиномиальные признаки третьего порядка;\n",
    "    * построена модель полиномиальной регрессии (линейной регрессии на полиномиальных признаках);\n",
    "    * с помощью кросс-валидации оценено среднее значение выбранной студентом метрики (или метрик) на тренировочных и валидационных фолдах (метрика должна быть выбрана корректно).\n",
    "- Задание выполнено неверно, не учтено одно или несколько из условий (**0 баллов**)."
   ]
  },
  {
   "cell_type": "code",
   "execution_count": null,
   "id": "-ln3bx8NFNRw",
   "metadata": {
    "id": "-ln3bx8NFNRw"
   },
   "outputs": [],
   "source": [
    "# Ваш код здесь"
   ]
  },
  {
   "cell_type": "markdown",
   "id": "9DkuuLLtFPPy",
   "metadata": {
    "id": "9DkuuLLtFPPy"
   },
   "source": [
    "> *Ваши выводы здесь*"
   ]
  },
  {
   "cell_type": "markdown",
   "id": "63d06013",
   "metadata": {
    "id": "63d06013"
   },
   "source": [
    "### Задание 8.2. (2 балла)\n",
    "\n",
    "Теперь попробуем воспользоваться линейной регрессией с регуляризацией. Для начала возьмём $L_1$-регуляризацию.\n",
    "\n",
    "Обучите модель `Lasso` из библиотеки `sklearn` на полученных полиномиальных факторах, предварительно стандартизировав факторы. \n",
    "\n",
    "Коэффициент регуляризации (`alpha`) подберите самостоятельно с помощью любого известного вам метода подбора гиперпаметров.\n",
    "\n",
    "Используя кросс-валидацию, оцените среднее значение выбранной вами метрики (или метрик) на тренировочных и валидационных фолдах.\n",
    "\n",
    "Проинтерпретируйте полученные результаты."
   ]
  },
  {
   "cell_type": "markdown",
   "id": "z24YUfuA9rUq",
   "metadata": {
    "id": "z24YUfuA9rUq"
   },
   "source": [
    "**Критерии оценивания:**\n",
    "\n",
    "- Задание выполнено верно, учтены все условия (**2 балла**): \n",
    "    * правильно построена модель полиномиальной регрессии (линейной регрессии на полиномиальных признаках) с регуляризацией (Lasso), учтены условия необходимости масштабирования факторов для построения модели;\n",
    "    * приведён код для подбора параметра регуляризации (вручную или с помощью библиотечных инструментов);\n",
    "    * с помощью кросс-валидации оценено среднее значение выбранной студентом метрики (или метрик) на тренировочных и валидационных фолдах (метрика должна быть выбрана корректно).\n",
    "\n",
    "- Задание выполнено верно, но не учтено одно из условий (**1 балл**).\n",
    "- Задание выполнено неверно, не учтено несколько условий (**0 баллов**)."
   ]
  },
  {
   "cell_type": "code",
   "execution_count": null,
   "id": "IJ5b5G8qFz-r",
   "metadata": {
    "id": "IJ5b5G8qFz-r"
   },
   "outputs": [],
   "source": [
    "# Ваш код здесь"
   ]
  },
  {
   "cell_type": "markdown",
   "id": "Se0OGR8UF2Td",
   "metadata": {
    "id": "Se0OGR8UF2Td"
   },
   "source": [
    "> *Ваши выводы здесь*"
   ]
  },
  {
   "cell_type": "markdown",
   "id": "2975ae60",
   "metadata": {
    "id": "2975ae60"
   },
   "source": [
    "### Задание 8.3. (2 балла)\n",
    "\n",
    "Проделаем то же самое с $L_2$-регуляризацией.\n",
    "\n",
    "Обучите модель `Ridge` из библиотеки `sklearn` на полученных полиномиальных факторах, предварительно стандартизировав факторы. \n",
    "\n",
    "Коэффициент регуляризации (`alpha`) подберите самостоятельно с помощью любого известного вам метода подбора гиперпаметров.\n",
    "\n",
    "Используя кросс-валидацию оцените среднее значение выбранной вами метрики (или метрик) на тренировочных и валидационных фолдах.\n",
    "\n",
    "Проинтерпретируйте полученные результаты."
   ]
  },
  {
   "cell_type": "code",
   "execution_count": null,
   "id": "UfPGyNsjGGS8",
   "metadata": {
    "id": "UfPGyNsjGGS8"
   },
   "outputs": [],
   "source": [
    "# Ваш код здесь"
   ]
  },
  {
   "cell_type": "markdown",
   "id": "dQBd7ny_GIi1",
   "metadata": {
    "id": "dQBd7ny_GIi1"
   },
   "source": [
    "> *Ваши выводы здесь*"
   ]
  },
  {
   "cell_type": "markdown",
   "id": "86pXnWE7-5ch",
   "metadata": {
    "id": "86pXnWE7-5ch"
   },
   "source": [
    "**Критерии оценивания:**\n",
    "\n",
    "- Задание выполнено верно, учтены все условия (**2 балла**): \n",
    "    * правильно построена модель полиномиальной регрессии (линейной регрессии на полиномиальных признаках) с регуляризацией (Ridge), учтены условия необходимости масштабирования факторов для построения модели;\n",
    "    * приведён код для подбора параметра регуляризации (вручную или с помощью библиотечных инструментов);\n",
    "    * с помощью кросс-валидации оценено среднее значение выбранной студентом метрики (или метрик) на тренировочных и валидационных фолдах (метрика должна быть выбрана корректно).\n",
    "\n",
    "- Задание выполнено верно, но не учтено одно из условий (**1 балл**).\n",
    "- Задание выполнено неверно, не учтено несколько условий (**0 баллов**)."
   ]
  },
  {
   "cell_type": "markdown",
   "id": "7ad85b78",
   "metadata": {
    "id": "7ad85b78"
   },
   "source": [
    "### Задание 8.4. (2 балла)\n",
    "\n",
    "Наконец, настало время комбинировать $L_1$ и $L_2$ -регуляризации.\n",
    "\n",
    "Обучите модель `ElasticNet` из библиотеки `sklearn` на полученных полиномиальных факторах, предварительно стандартизировав факторы. \n",
    "\n",
    "Коэффициенты регуляризации (`alpha` и `l1-ratio`) подберите самостоятельно с помощью любого известного вам метода подбора гиперпаметров.\n",
    "\n",
    "Используя кросс-валидацию, оцените среднее значение метрики MAPE на тренировочных и валидационных фолдах.\n",
    "\n",
    "Проинтерпретируйте полученные результаты."
   ]
  },
  {
   "cell_type": "markdown",
   "id": "sy8ESceQ-__u",
   "metadata": {
    "id": "sy8ESceQ-__u"
   },
   "source": [
    "**Критерии оценивания:**\n",
    "\n",
    "- Задание выполнено верно, учтены все условия (**2 балла**): \n",
    "    * правильно построена модель полиномиальной регрессии (линейной регрессии на полиномиальных признаках) с регуляризацией (ElasticNet), учтены условия необходимости масштабирования факторов для построения модели;\n",
    "    * приведён код для подбора параметра регуляризации (вручную или с помощью библиотечных инструментов);\n",
    "    * с помощью кросс-валидации оценено среднее значение выбранной студентом метрики (или метрик) на тренировочных и валидационных фолдах (метрика должна быть выбрана корректно).\n",
    "\n",
    "- Задание выполнено верно, но не учтено одно из условий (**1 балл**).\n",
    "- Задание выполнено неверно, не учтено несколько условий (**0 баллов**)."
   ]
  },
  {
   "cell_type": "code",
   "execution_count": null,
   "id": "-Yi3P20hQnLS",
   "metadata": {
    "id": "-Yi3P20hQnLS"
   },
   "outputs": [],
   "source": [
    "# Ваш код здесь"
   ]
  },
  {
   "cell_type": "markdown",
   "id": "er2lAiE9QpAb",
   "metadata": {
    "id": "er2lAiE9QpAb"
   },
   "source": [
    "> *Ваши выводы здесь*"
   ]
  },
  {
   "cell_type": "markdown",
   "id": "91c6e1d1",
   "metadata": {
    "id": "91c6e1d1"
   },
   "source": [
    "### Задание 8.5. (1 балл)\n",
    "\n",
    "Завершением вашей работы будет сводная таблица результатов, которую вы представите на презентации заказчику Василию.\n",
    "\n",
    "Составьте таблицу (DataFrame) со следующими столбцами (имена столбцов выберите самостоятельно):\n",
    "* Наименование модели.\n",
    "* Гиперпараметры (коэффициенты регуляризации, если таковые имеются), если нет — оставьте ячейку пустой.\n",
    "* Использовались ли полиномиальные признаки при построении модели (Да/Нет или True/False).\n",
    "* Значение выбранной метрики на тренировочных фолдах при кросс-валидации модели.\n",
    "* Значение выбранной метрики на валидационных фолдах при кросс-валидации модели.\n",
    "\n",
    "Сделайте финальный вывод по проделанной работе. Какая линейная модель из тех, что мы рассмотрели, показала наилучший результат с точки зрения качества на валидационных фолдах, а также с точки зрения переобученности?"
   ]
  },
  {
   "cell_type": "markdown",
   "id": "OsFRaKkF_nLq",
   "metadata": {
    "id": "OsFRaKkF_nLq"
   },
   "source": [
    "**Критерии оценивания:**\n",
    "\n",
    "- Задание выполнено верно, учтены все условия (**1 балл**): \n",
    "    * верно составлена сводная таблица итоговых результатов построенных ранее моделей с указанными в задании столбцами;\n",
    "    * приведены итоговые выводы по проделанной работе, указано, какая из рассмотренных моделей показала наилучший результат.\n",
    "\n",
    "- Задание выполнено неверно, не учтено одно или несколько условий (**0 баллов**)."
   ]
  },
  {
   "cell_type": "code",
   "execution_count": null,
   "id": "wRiys8lKQuqW",
   "metadata": {
    "id": "wRiys8lKQuqW"
   },
   "outputs": [],
   "source": [
    "# Ваш код здесь"
   ]
  },
  {
   "cell_type": "markdown",
   "id": "UP7_LSoEQsrA",
   "metadata": {
    "id": "UP7_LSoEQsrA"
   },
   "source": [
    "> *Ваши выводы здесь*"
   ]
  },
  {
   "cell_type": "code",
   "execution_count": null,
   "id": "752d4445-6a85-4cfb-b520-7b7b0f9a5b20",
   "metadata": {
    "id": "752d4445-6a85-4cfb-b520-7b7b0f9a5b20"
   },
   "outputs": [],
   "source": []
  }
 ],
 "metadata": {
  "colab": {
   "provenance": []
  },
  "kernelspec": {
   "display_name": "Python 3 (ipykernel)",
   "language": "python",
   "name": "python3"
  },
  "language_info": {
   "codemirror_mode": {
    "name": "ipython",
    "version": 3
   },
   "file_extension": ".py",
   "mimetype": "text/x-python",
   "name": "python",
   "nbconvert_exporter": "python",
   "pygments_lexer": "ipython3",
   "version": "3.12.2"
  },
  "vscode": {
   "interpreter": {
    "hash": "86c56a74836ad344b00594bf6f38fa6a676a207ceefe20d101fbc465800ccb8d"
   }
  }
 },
 "nbformat": 4,
 "nbformat_minor": 5
}
